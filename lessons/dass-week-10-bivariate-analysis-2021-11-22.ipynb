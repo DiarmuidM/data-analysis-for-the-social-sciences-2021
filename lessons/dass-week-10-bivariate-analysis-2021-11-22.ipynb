{
 "cells": [
  {
   "cell_type": "markdown",
   "id": "otherwise-cache",
   "metadata": {},
   "source": [
    "<p align=\"right\"><i>Data Analysis for the Social Sciences - Part II - 2021-11-22</i></p>"
   ]
  },
  {
   "cell_type": "markdown",
   "id": "dynamic-conjunction",
   "metadata": {},
   "source": [
    "# Quantitative Data Analysis"
   ]
  },
  {
   "cell_type": "markdown",
   "id": "exclusive-methodology",
   "metadata": {},
   "source": [
    "Welcome to Part II of Data Analysis for the Social Sciences. In this stream - Quantitative Data Analysis - we will conduct a range of statistical analyses in order to answer the following research question:"
   ]
  },
  {
   "cell_type": "markdown",
   "id": "bibliographic-stranger",
   "metadata": {},
   "source": [
    "<p><center><i>Is religion associated with differences in sexual attitudes and behaviours among British people?</i></center></p>"
   ]
  },
  {
   "cell_type": "markdown",
   "id": "scenic-silly",
   "metadata": {},
   "source": [
    "### Aims\n",
    "\n",
    "This lesson - **Bivariate Data Analysis** - has two aims:\n",
    "1. Demonstrate how to assess whether two variables are associated.\n",
    "2. Cultivate your computational skills through the use of the statistical programming langauge *R*. For example, there are a number of opportunities for you to amend or write R syntax (code)."
   ]
  },
  {
   "cell_type": "markdown",
   "id": "judicial-prediction",
   "metadata": {},
   "source": [
    "### Lesson details\n",
    "\n",
    "* **Level**: Introductory, for individuals with minimal prior knowledge or experience of quantitative data analysis.\n",
    "* **Duration**: 45-60 minutes.\n",
    "* **Pre-requisites**: None.\n",
    "* **Programming language**: R.\n",
    "* **Learning outcomes**:\n",
    "\t1. Understand how to use R for conducting bivariate data analysis.\n",
    "\t2. Understand how to select and apply common data analysis techniques for categorical and numeric variables."
   ]
  },
  {
   "cell_type": "markdown",
   "id": "terminal-agenda",
   "metadata": {},
   "source": [
    "## Guide to using this resource\n",
    "\n",
    "This learning resource was built using <a href=\"https://jupyter.org/\" target=_blank>Jupyter Notebook</a>, an open-source software application that allows you to mix code, results and narrative in a single document. As <a href=\"https://jupyter4edu.github.io/jupyter-edu-book/\" target=_blank>Barba et al. (2019)</a> espouse:\n",
    "> In a world where every subject matter can have a data-supported treatment, where computational devices are omnipresent and pervasive, the union of natural language and computation creates compelling communication and learning opportunities.\n",
    "\n",
    "If you are familiar with Jupyter notebooks then skip ahead to the main content (*Introduction to bivariate data analysis*). Otherwise, the following is a quick guide to navigating and interacting with the notebook."
   ]
  },
  {
   "cell_type": "markdown",
   "id": "interested-radar",
   "metadata": {},
   "source": [
    "### Interaction\n",
    "\n",
    "**You only need to execute the code that is contained in sections which are marked by `In []`.**\n",
    "\n",
    "To execute a cell, click or double-click the cell and press the `Run` button on the top toolbar (you can also use the keyboard shortcut `Shift + Enter`).\n",
    "\n",
    "Try it for yourself:"
   ]
  },
  {
   "cell_type": "code",
   "execution_count": 2,
   "id": "dominican-hardware",
   "metadata": {},
   "outputs": [
    {
     "name": "stdout",
     "output_type": "stream",
     "text": [
      "Enter name: Diarmuid\n",
      "[1] \"Hi, Diarmuid enjoy learning more about R and bivariate analysis!\"\n"
     ]
    }
   ],
   "source": [
    "name <- readline(prompt=\"Enter name: \")\n",
    "print(paste(\"Hi,\", name, \"enjoy learning more about R and bivariate analysis!\"))"
   ]
  },
  {
   "cell_type": "markdown",
   "id": "through-storm",
   "metadata": {},
   "source": [
    "Notebooks are sequential, meaning code should be executed in order (top to bottom). For example, the following code won't work:"
   ]
  },
  {
   "cell_type": "code",
   "execution_count": 3,
   "id": "outstanding-bulgaria",
   "metadata": {},
   "outputs": [
    {
     "ename": "ERROR",
     "evalue": "Error in eval(expr, envir, enclos): object 'x' not found\n",
     "output_type": "error",
     "traceback": [
      "Error in eval(expr, envir, enclos): object 'x' not found\nTraceback:\n"
     ]
    }
   ],
   "source": [
    "x * 5"
   ]
  },
  {
   "cell_type": "markdown",
   "id": "handmade-madagascar",
   "metadata": {},
   "source": [
    "As the error message suggests, there is no object (variable) called `x`, therefore we cannot do any calculations with it. \n",
    "\n",
    "Let's try a sequential approach:"
   ]
  },
  {
   "cell_type": "code",
   "execution_count": 4,
   "id": "addressed-assumption",
   "metadata": {},
   "outputs": [],
   "source": [
    "x <- 10 # create an object called 'x' and give it the value '10'"
   ]
  },
  {
   "cell_type": "code",
   "execution_count": 5,
   "id": "crucial-implement",
   "metadata": {},
   "outputs": [
    {
     "data": {
      "text/html": [
       "50"
      ],
      "text/latex": [
       "50"
      ],
      "text/markdown": [
       "50"
      ],
      "text/plain": [
       "[1] 50"
      ]
     },
     "metadata": {},
     "output_type": "display_data"
    }
   ],
   "source": [
    "x * 5 # multiply 'x' by 5"
   ]
  },
  {
   "cell_type": "markdown",
   "id": "covered-round",
   "metadata": {},
   "source": [
    "### Learn more\n",
    "\n",
    "Jupyter notebooks provide rich, flexible features for conducting and documenting your data analysis workflow. To learn more about additional notebook features, we recommend working through some of the <a href=\"https://github.com/darribas/gds19/blob/master/content/labs/lab_00.ipynb\" target=_blank>materials</a> provided by Dani Arribas-Bel at the University of Liverpool. "
   ]
  },
  {
   "cell_type": "markdown",
   "id": "floppy-escape",
   "metadata": {},
   "source": [
    "### Learner input\n",
    "\n",
    "Throughout the lessons there times when you need to do the following activities:\n",
    "* **TASK:** A coding task for you to complete (e.g. analyse different variables).\n",
    "* **QUESTION:** A question regarding your interpretation of some code or a technique (e.g. what is the piece of code doing?).\n",
    "* **EXERCISE:** A data analysis challenge for you to complete."
   ]
  },
  {
   "cell_type": "markdown",
   "id": "democratic-office",
   "metadata": {},
   "source": [
    "## Introduction to bivariate data analysis"
   ]
  },
  {
   "cell_type": "markdown",
   "id": "respected-comedy",
   "metadata": {},
   "source": [
    "In the [**Univariate data analysis** lesson](https://github.com/DiarmuidM/data-analysis-for-the-social-sciences-2021/blob/main/lessons/dass-week-9-univariate-analysis-2021-11-15.ipynb), we learned how to produce statistical summaries of categorical and numeric variables. This is an important step in any quantitative data analysis as it provides a basic understanding of our key variables. However many of the more interesting social science research questions involve **making comparisons**:\n",
    "* [Is there a difference in the earnings of men and women?](https://doi.org/10.1177%2F0095399716636928)\n",
    "* [Are children living in the most deprived areas more likely to be obese than those living in the least deprived?](http://dx.doi.org/10.1136/archdischild-2014-307036)\n",
    "* [Does ethnicity affect trust in the police?](https://doi.org/10.1177%2F1098611104271105) "
   ]
  },
  {
   "cell_type": "markdown",
   "id": "agricultural-virtue",
   "metadata": {},
   "source": [
    "Thus in this lesson we will focus on making comparisons using two variables of interest. In particular we will compare the following types of variables:\n",
    "* **Categorical vs Categorical**\n",
    "* **Categorical vs Numeric**\n",
    "* **Numeric vs Numeric**"
   ]
  },
  {
   "cell_type": "markdown",
   "id": "dominican-flood",
   "metadata": {},
   "source": [
    "Although the specific bivariate analysis techniques vary depending on which types of variables we are comparing, there is a common process:\n",
    "1. Produce a table or graph of the joint distribution of the two variables.\n",
    "2. Calculate a statistic that summarises key features of the joint distribution.\n",
    "3. Make a statement about whether the pattern you observe likely to generalise or not (that is, does the pattern only exist in your sample? Or are you likely to find it also in the population from which your sample came?).\n",
    "\n",
    "We will focus on the first two steps in the process in this lesson. In Week 11 we will address the third step."
   ]
  },
  {
   "cell_type": "markdown",
   "id": "level-cable",
   "metadata": {},
   "source": [
    "### Association"
   ]
  },
  {
   "cell_type": "markdown",
   "id": "republican-student",
   "metadata": {},
   "source": [
    "The purpose of making comparisons is to reveal whether there is an association (correlation) between two variables. What do we mean by association? Simply that there is a relationship between two variables (Fogarty, 2019). For example, as the value of one variable increases, do we also observe a similar increase in a second variable?\n",
    "\n",
    "The relationship may be non-existent, weak, moderate or strong. It may be positive (both variables increase/decrease in value) or negative (e.g., one increases and the other decreases).\n",
    "\n",
    "In social science research, we often distinguish the variables as follows:\n",
    "* **X** - the variable we think predicts or explains the values of another variable.\n",
    "* **Y** - the variable we think is predicted or explained by the values of X.\n",
    "\n",
    "The designation of one variable as X and the other as Y is your decision and does not affect the type of bivariate analysis you need. It simply provides a better link with a theory you think explains the relationship you observe."
   ]
  },
  {
   "cell_type": "markdown",
   "id": "above-blake",
   "metadata": {},
   "source": [
    "**Caveat**: it is important to remember that even though two variables may be associated, it does not mean there is a causal link between them. As is oft-stated: correlation does not equal causation."
   ]
  },
  {
   "cell_type": "markdown",
   "id": "korean-category",
   "metadata": {},
   "source": [
    "![xkcd comic](https://imgs.xkcd.com/comics/correlation.png)"
   ]
  },
  {
   "cell_type": "markdown",
   "id": "standing-welding",
   "metadata": {},
   "source": [
    "## Bivariate data analysis in action"
   ]
  },
  {
   "cell_type": "markdown",
   "id": "coordinate-jonathan",
   "metadata": {},
   "source": [
    "### Preliminaries"
   ]
  },
  {
   "cell_type": "markdown",
   "id": "square-knife",
   "metadata": {},
   "source": [
    "Let's import the *Natsal* dataset and label the values some of our key variables:"
   ]
  },
  {
   "cell_type": "code",
   "execution_count": 6,
   "id": "agreed-future",
   "metadata": {},
   "outputs": [],
   "source": [
    "natsal <- read.table(\"./data/natsal_3_teaching_open.tab\", header=TRUE, na=\"NA\", sep=\"\\t\")"
   ]
  },
  {
   "cell_type": "code",
   "execution_count": 7,
   "id": "studied-transcript",
   "metadata": {},
   "outputs": [],
   "source": [
    "natsal$agrp <- factor(natsal$agrp, levels = c(1,2,3,4,5,6), labels = c(\"16-24\", \"25-34\", \"35-44\", \n",
    "                                                                       \"45-54\", \"55-64\", \"65-74\"))"
   ]
  },
  {
   "cell_type": "code",
   "execution_count": 8,
   "id": "jewish-apartment",
   "metadata": {},
   "outputs": [],
   "source": [
    "natsal$religimp <- factor(natsal$religimp, levels = c(1,2,3,4,9), labels = c(\"Very important\", \"Fairly important\", \n",
    "                                                                             \"Not very important\", \"Not important at all\", \"Not answered\"))"
   ]
  },
  {
   "cell_type": "code",
   "execution_count": 9,
   "id": "romance-black",
   "metadata": {},
   "outputs": [],
   "source": [
    "natsal$rsex <- factor(natsal$rsex, levels = c(1,2), labels = c(\"Male\", \"Female\"))"
   ]
  },
  {
   "cell_type": "code",
   "execution_count": 10,
   "id": "neural-shark",
   "metadata": {},
   "outputs": [],
   "source": [
    "natsal$ethnicgrp <- factor(natsal$ethnicgrp, levels = c(1,2,9), labels = c(\"White\", \"Non-white\", \"Not answered\"))"
   ]
  },
  {
   "cell_type": "markdown",
   "id": "wired-found",
   "metadata": {},
   "source": [
    "### Categorical vs Categorical"
   ]
  },
  {
   "cell_type": "markdown",
   "id": "complicated-ebony",
   "metadata": {},
   "source": [
    "We can have three combinations of categorical variables:\n",
    "1. Nominal vs Nominal\n",
    "2. Nominal vs Ordinal\n",
    "3. Ordinal vs Ordinal\n",
    "\n",
    "In each case we will look at the joint distribution of two variables and select an appropriate measure of association."
   ]
  },
  {
   "cell_type": "markdown",
   "id": "spoken-window",
   "metadata": {},
   "source": [
    "#### Ordinal vs Ordinal"
   ]
  },
  {
   "cell_type": "markdown",
   "id": "basic-lending",
   "metadata": {},
   "source": [
    "##### Joint distribution"
   ]
  },
  {
   "cell_type": "markdown",
   "id": "entitled-awareness",
   "metadata": {},
   "source": [
    "Recall in the univariate data analysis lesson that the appropriate way of analysing categorical variables is to produce a frequency table or bar chart:"
   ]
  },
  {
   "cell_type": "code",
   "execution_count": 11,
   "id": "adjustable-developer",
   "metadata": {},
   "outputs": [
    {
     "data": {
      "text/plain": [
       "\n",
       "      Very important     Fairly important   Not very important \n",
       "                 550                  935                 1102 \n",
       "Not important at all         Not answered \n",
       "                1194                   18 "
      ]
     },
     "metadata": {},
     "output_type": "display_data"
    }
   ],
   "source": [
    "table(natsal$religimp)"
   ]
  },
  {
   "cell_type": "code",
   "execution_count": 12,
   "id": "expired-topic",
   "metadata": {},
   "outputs": [
    {
     "data": {
      "image/png": "[encoded data removed]",
      "text/plain": [
       "plot without title"
      ]
     },
     "metadata": {
      "image/png": {
       "height": 420,
       "width": 420
      }
     },
     "output_type": "display_data"
    }
   ],
   "source": [
    "barplot(table(natsal$religimp))"
   ]
  },
  {
   "cell_type": "markdown",
   "id": "postal-hybrid",
   "metadata": {},
   "source": [
    "We observe that most people consider religion not very or not important to them. An interesting extension of this analysis would be to ask: does this pattern (or distribution) change if we consider the age of the respondents? For example, would the frequency table or bar chart look different if we only consider 16-24 year olds?"
   ]
  },
  {
   "cell_type": "markdown",
   "id": "continent-drunk",
   "metadata": {},
   "source": [
    "We can do this by producing a frequency table of two variables simultaneously, known as a **crosstabulation** or **contingency table**:"
   ]
  },
  {
   "cell_type": "code",
   "execution_count": 13,
   "id": "alternate-scene",
   "metadata": {},
   "outputs": [
    {
     "data": {
      "text/plain": [
       "                      \n",
       "                       16-24 25-34 35-44 45-54 55-64 65-74\n",
       "  Very important          95   155    73    79    76    72\n",
       "  Fairly important       185   224   118   134   117   157\n",
       "  Not very important     314   298   155   134   115    86\n",
       "  Not important at all   364   344   186   140    94    66\n",
       "  Not answered             2     6     1     4     2     3"
      ]
     },
     "metadata": {},
     "output_type": "display_data"
    }
   ],
   "source": [
    "table(natsal$religimp, natsal$agrp)"
   ]
  },
  {
   "cell_type": "markdown",
   "id": "ecological-meter",
   "metadata": {},
   "source": [
    "Here is what the above command does:\n",
    "* uses the `table()` command to produce a crosstabulation of two categorical variables\n",
    "* specifies two variables: `religimp` and `agrp`. Note that the first variable in the command is considered the Y variable"
   ]
  },
  {
   "cell_type": "markdown",
   "id": "documented-exposure",
   "metadata": {},
   "source": [
    "Now let's interpret the joint distribution of religious importance and age group. Because we are interested in explaining variation in relgious importance by age group (and we know this because we listed `religimp` first in the `table()` command), we compare **across the columns** (that is, moving from the furthest left column to the furthest right).\n",
    "\n",
    "For example, the most frequent category for the first 4 age groups is 'Not important at all', while for those 55 and older it is 'Fairly important'. This pattern is plausible as it fits with [other research](https://dspace.mic.ul.ie/handle/10395/1800) showing a decline in religiosity over time."
   ]
  },
  {
   "cell_type": "markdown",
   "id": "robust-arabic",
   "metadata": {},
   "source": [
    "Thus it appears that religious importance and age are associated. However we need to be cautious when interpreting the raw numbers. For instance, 157 people aged 65-74 responded that religion is 'Fairly important', a lower number than the two youngest age groups. But what we are really interested in is whether a higher **percentage** of people aged 65-74 claim religion is 'Fairly important' - this is because there are fewer respondents in this age group and thus we would expect lower numbers in most of the `religimp` categories."
   ]
  },
  {
   "cell_type": "code",
   "execution_count": 14,
   "id": "casual-blair",
   "metadata": {},
   "outputs": [],
   "source": [
    "relig_age_table <- table(natsal$religimp, natsal$agrp) # store the results of the `table()` command in an object called 'relig_age_table'"
   ]
  },
  {
   "cell_type": "code",
   "execution_count": 15,
   "id": "attended-agreement",
   "metadata": {},
   "outputs": [
    {
     "data": {
      "text/plain": [
       "                      \n",
       "                       16-24 25-34 35-44 45-54 55-64 65-74\n",
       "  Very important          10    15    14    16    19    19\n",
       "  Fairly important        19    22    22    27    29    41\n",
       "  Not very important      33    29    29    27    28    22\n",
       "  Not important at all    38    33    35    29    23    17\n",
       "  Not answered             0     1     0     1     0     1"
      ]
     },
     "metadata": {},
     "output_type": "display_data"
    }
   ],
   "source": [
    "round(prop.table(relig_age_table, 2)* 100, 0) # column percentages"
   ]
  },
  {
   "cell_type": "markdown",
   "id": "advised-conservation",
   "metadata": {},
   "source": [
    "Now we have a better sense of how the responses are distributed across categories. For example, we clearly see the decline in respondents who claim religion is 'Not very important at all' as age increases - from 38% in the youngest age group to 17% in the oldest."
   ]
  },
  {
   "cell_type": "markdown",
   "id": "running-district",
   "metadata": {},
   "source": [
    "**TASK**: produce a crosstabulation of `religimp` and `rsex`. What can you conclude about the joint distribution of these variables?"
   ]
  },
  {
   "cell_type": "code",
   "execution_count": 16,
   "id": "racial-bobby",
   "metadata": {},
   "outputs": [],
   "source": [
    "# INSERT CODE HERE"
   ]
  },
  {
   "cell_type": "markdown",
   "id": "solar-healing",
   "metadata": {},
   "source": [
    "It can often be easier to interpret the joint distribution of two variables using a graph:"
   ]
  },
  {
   "cell_type": "code",
   "execution_count": 17,
   "id": "fifteen-hollow",
   "metadata": {},
   "outputs": [
    {
     "data": {
      "image/png": "[encoded data removed]",
      "text/plain": [
       "Plot with title \"Religious importance by age group\""
      ]
     },
     "metadata": {
      "image/png": {
       "height": 420,
       "width": 420
      }
     },
     "output_type": "display_data"
    }
   ],
   "source": [
    "relig_age_perc_table <- round(prop.table(relig_age_table, 2)* 100, 0)\n",
    "\n",
    "barplot(relig_age_perc_table, main=\"Religious importance by age group\",\n",
    "  xlab=\"Age group\", ylab=\"% of respondents\", col=c(\"darkblue\", \"darkblue\", \"darkblue\", \"red\", \"darkblue\"),\n",
    "  legend = rownames(relig_age_perc_table), beside=TRUE)"
   ]
  },
  {
   "cell_type": "markdown",
   "id": "sweet-letters",
   "metadata": {},
   "source": [
    "In the example above we decided to just highlight the 'Not important at all' category (using the colour red), as this clearly shows the increase in religious importance as people age."
   ]
  },
  {
   "cell_type": "markdown",
   "id": "tamil-adapter",
   "metadata": {},
   "source": [
    "**TASK**: produce a bar chart of `religimp` and `rsex`."
   ]
  },
  {
   "cell_type": "code",
   "execution_count": 18,
   "id": "considerable-algebra",
   "metadata": {},
   "outputs": [],
   "source": [
    "# INSERT CODE HERE"
   ]
  },
  {
   "cell_type": "markdown",
   "id": "diverse-zealand",
   "metadata": {},
   "source": [
    "##### Measures of association"
   ]
  },
  {
   "cell_type": "markdown",
   "id": "identical-complex",
   "metadata": {},
   "source": [
    "Crosstabulations and bar charts are an excellent means of getting a sense of whether an association exists, and its nature. However we would also like to know how **strong** the association is and in which **direction** it runs. For instance:\n",
    "* the observed decline in respondents who claim religion is 'Not very important at all' as age increases - from 38% in the youngest age group to 17% in the oldest.\n",
    "\n",
    "Is this evidence of a weak, moderate or strong association? Should we not expect religious importance to vary across age groups anyway, just due to random variation? And is there a consistent descrease in the percent responding 'Not very important at all' as age increases i.e., the percentage gets smaller from one age group to the next.\n",
    "\n",
    "Therefore it would be good to have a single number that summarises the strength and/or the direction of the association. We call this number a **measure of association**."
   ]
  },
  {
   "cell_type": "markdown",
   "id": "younger-transsexual",
   "metadata": {},
   "source": [
    "In order to select an appropriate measure of association, we once again consider the level of measurement of our variables:\n",
    "* `religimp` is an ordinal variable\n",
    "* `agrp` is an ordinal variable\n",
    "\n",
    "In this instance we can select from two options:\n",
    "1. *Kendall's tau-B* - we use this when we have the same number of categories in each variable (or same number of rows and columns in a crosstabulation)\n",
    "2. *Goodman and Kruskal's gamma* - we use this when we have a different number of categories in each variable (or different number of rows and columns in a crosstabulation)"
   ]
  },
  {
   "cell_type": "markdown",
   "id": "monetary-atlantic",
   "metadata": {},
   "source": [
    "* Both measures produce coefficients that range from -1 to 1.\n",
    "* Negative coefficients represent negative associations (e.g., one variable increases, other decreases and vice versa) and positive coefficients represent positive associations (e.g., one variable increases, the other increases and vice versa). The \n",
    "* The strength of the association is greater as the coefficient approaches either -1 or 1. \n",
    "* A value close to zero indicates the absence of an association."
   ]
  },
  {
   "cell_type": "markdown",
   "id": "infrared-translation",
   "metadata": {},
   "source": [
    "As both variables do not have the same number of categories, we should not use *Kendall's tau-B*. Instead we will calculate *Goodman and Kruskal's gamma*:"
   ]
  },
  {
   "cell_type": "code",
   "execution_count": 19,
   "id": "dental-details",
   "metadata": {},
   "outputs": [],
   "source": [
    "library(DescTools) # import the package containing the `GoodmanKruskalGamma()` command"
   ]
  },
  {
   "cell_type": "code",
   "execution_count": 20,
   "id": "mighty-ambassador",
   "metadata": {},
   "outputs": [
    {
     "data": {
      "text/html": [
       "-0.169600840492811"
      ],
      "text/latex": [
       "-0.169600840492811"
      ],
      "text/markdown": [
       "-0.169600840492811"
      ],
      "text/plain": [
       "[1] -0.1696008"
      ]
     },
     "metadata": {},
     "output_type": "display_data"
    }
   ],
   "source": [
    "GoodmanKruskalGamma(natsal$religimp, natsal$agrp)"
   ]
  },
  {
   "cell_type": "markdown",
   "id": "homeless-forestry",
   "metadata": {},
   "source": [
    "How do we interpret this coefficient? We start by looking at the **sign**: it is negative (note the minus symbol), indicating that there is a negative association between religious importance and age. That is, as the value of one variable increases, the value of the other decreases. This is easier to understand when you look at how the categories of each variable are numbered:\n",
    "* for `agrp` the '16-24' category is given the value '1', '25-34' the value '2' and so on\n",
    "* for `religimp` the 'Very important' category is given the value '1', 'Fairly important' the value '2' and so on\n",
    "\n",
    "Therefore the association coefficient tells us that as the value of `agrp` increases, the value of `religimp` decreases. Which substantively means that as people get older they are more likely to say religion is important to them.\n",
    "\n",
    "We can understand how much more likely by looking at the **magnitude** of the coefficient: .17 (rounded to two decimal places). Recall that *Goodman and Kruskal's gamma* coefficient ranges from -1 to 1. Therefore the coefficient is quite close to zero and thus evidence of a weak association."
   ]
  },
  {
   "cell_type": "markdown",
   "id": "failing-lindsay",
   "metadata": {},
   "source": [
    "In summary, how would we characterise the association between religious importance and age? We would say there is a weak, negative association: older people are more likely to say religion is important to them but the differences with other ages are not large."
   ]
  },
  {
   "cell_type": "markdown",
   "id": "furnished-lunch",
   "metadata": {},
   "source": [
    "Even though it is not considered appropriate in this instance, let's see whether the coefficient for *Kendall's tau-B* is similar:"
   ]
  },
  {
   "cell_type": "code",
   "execution_count": 21,
   "id": "meaning-hollow",
   "metadata": {},
   "outputs": [
    {
     "data": {
      "text/plain": [
       "\n",
       "\tKendall's rank correlation tau\n",
       "\n",
       "data:  as.numeric(natsal$religimp) and as.numeric(natsal$agrp)\n",
       "z = -9.8999, p-value < 2.2e-16\n",
       "alternative hypothesis: true tau is not equal to 0\n",
       "sample estimates:\n",
       "       tau \n",
       "-0.1310461 \n"
      ]
     },
     "metadata": {},
     "output_type": "display_data"
    }
   ],
   "source": [
    "cor.test(as.numeric(natsal$religimp), as.numeric(natsal$agrp), method=\"kendall\") # Kendall's tau-B"
   ]
  },
  {
   "cell_type": "markdown",
   "id": "legendary-calendar",
   "metadata": {},
   "source": [
    "#### Nominal vs Nominal and Nominal vs Ordinal"
   ]
  },
  {
   "cell_type": "markdown",
   "id": "higher-queen",
   "metadata": {},
   "source": [
    "What if we have at least one nominal variable in our bivariate analysis? Given that this type of variable does not have an inherent order (e.g., sex at birth, ethnicity), it does not make sense to speak about the direction of the association (i.e., positive or negative). Therefore we need a different measure of association: \n",
    "* *Cramer's V*\n",
    "\n",
    "*Cramer's V* is bounded between 0 and 1, and tells us the strength of the association when there is at least one nominal variable.\n",
    "\n",
    "Let's look at an example: is a respondent's sex at birth related to how important religion is to them."
   ]
  },
  {
   "cell_type": "code",
   "execution_count": 22,
   "id": "inappropriate-valuable",
   "metadata": {},
   "outputs": [
    {
     "data": {
      "text/plain": [
       "                      \n",
       "                       Male Female\n",
       "  Very important         12     16\n",
       "  Fairly important       22     26\n",
       "  Not very important     28     29\n",
       "  Not important at all   37     28\n",
       "  Not answered            1      0"
      ]
     },
     "metadata": {},
     "output_type": "display_data"
    }
   ],
   "source": [
    "relig_sex_table <- table(natsal$religimp, natsal$rsex) # store the results of the `table()` command in an object called 'relig_age_table'\n",
    "round(prop.table(relig_sex_table, 2)* 100, 0) # column percentages"
   ]
  },
  {
   "cell_type": "markdown",
   "id": "starting-camera",
   "metadata": {},
   "source": [
    "It appears that women are slightly more likely to say religion is at least fairly important to them. Let's summarise this pattern using *Cramer's V*:"
   ]
  },
  {
   "cell_type": "code",
   "execution_count": 23,
   "id": "powerful-continent",
   "metadata": {},
   "outputs": [
    {
     "data": {
      "text/html": [
       "0.110551674622205"
      ],
      "text/latex": [
       "0.110551674622205"
      ],
      "text/markdown": [
       "0.110551674622205"
      ],
      "text/plain": [
       "[1] 0.1105517"
      ]
     },
     "metadata": {},
     "output_type": "display_data"
    }
   ],
   "source": [
    "CramerV(natsal$religimp, natsal$rsex)"
   ]
  },
  {
   "cell_type": "markdown",
   "id": "smart-slave",
   "metadata": {},
   "source": [
    "**QUESTION**: how would you describe the strength of the association between sex at birth and religious importance?"
   ]
  },
  {
   "cell_type": "markdown",
   "id": "canadian-bankruptcy",
   "metadata": {},
   "source": [
    "### Categorical vs Numeric"
   ]
  },
  {
   "cell_type": "markdown",
   "id": "oriental-purpose",
   "metadata": {},
   "source": [
    "How do we approach bivariate analysis when we have one categorical and one numeric variable? The key task is to summarise the numeric variable for different categories of our categorical variable. That is, we want to see if measures of central tendency (e.g., mean, median) and dispersion (e.g., standard deviation, minimum, maximum) vary across categories of a chosen variable."
   ]
  },
  {
   "cell_type": "markdown",
   "id": "established-immigration",
   "metadata": {},
   "source": [
    "#### Joint distribution"
   ]
  },
  {
   "cell_type": "markdown",
   "id": "loving-forward",
   "metadata": {},
   "source": [
    "We can use a **table of means** to see how the average of a numeric variable varies across categories of a categorical variable. For instance, let's examine whether sexual attitudes are more or less conservative (`attconservative`) across different age groups (`agrp`) and sexes (`rsex`).\n",
    "\n",
    "Firstly, let's summarise our numeric variable:"
   ]
  },
  {
   "cell_type": "code",
   "execution_count": 24,
   "id": "equal-shuttle",
   "metadata": {},
   "outputs": [
    {
     "data": {
      "text/plain": [
       "    Min.  1st Qu.   Median     Mean  3rd Qu.     Max.     NA's \n",
       "-3.88938 -0.67900 -0.02177 -0.01728  0.71396  2.59516      299 "
      ]
     },
     "metadata": {},
     "output_type": "display_data"
    }
   ],
   "source": [
    "summary(natsal$attconservative)"
   ]
  },
  {
   "cell_type": "code",
   "execution_count": 25,
   "id": "spiritual-tunisia",
   "metadata": {},
   "outputs": [
    {
     "data": {
      "text/html": [
       "1.00744962869389"
      ],
      "text/latex": [
       "1.00744962869389"
      ],
      "text/markdown": [
       "1.00744962869389"
      ],
      "text/plain": [
       "[1] 1.00745"
      ]
     },
     "metadata": {},
     "output_type": "display_data"
    }
   ],
   "source": [
    "sd(natsal$attconservative, na.rm=TRUE)"
   ]
  },
  {
   "cell_type": "code",
   "execution_count": 26,
   "id": "promotional-horror",
   "metadata": {},
   "outputs": [
    {
     "data": {
      "image/png": "[encoded data removed]",
      "text/plain": [
       "Plot with title \"Histogram of natsal$attconservative\""
      ]
     },
     "metadata": {
      "image/png": {
       "height": 420,
       "width": 420
      }
     },
     "output_type": "display_data"
    }
   ],
   "source": [
    "hist(natsal$attconservative)"
   ]
  },
  {
   "cell_type": "markdown",
   "id": "junior-recognition",
   "metadata": {},
   "source": [
    "We see that the average attitude is slightly liberal (less than zero) and that most people are within 1 point of this average.\n",
    "\n",
    "Now we want to examine whether the average attitude varies by age group."
   ]
  },
  {
   "cell_type": "code",
   "execution_count": 27,
   "id": "second-tooth",
   "metadata": {},
   "outputs": [
    {
     "data": {
      "text/html": [
       "<table class=\"dataframe\">\n",
       "<caption>A data.frame: 6 × 2</caption>\n",
       "<thead>\n",
       "\t<tr><th scope=col>agrp</th><th scope=col>attconservative</th></tr>\n",
       "\t<tr><th scope=col>&lt;fct&gt;</th><th scope=col>&lt;dbl&gt;</th></tr>\n",
       "</thead>\n",
       "<tbody>\n",
       "\t<tr><td>16-24</td><td>-0.14817995</td></tr>\n",
       "\t<tr><td>25-34</td><td>-0.12178847</td></tr>\n",
       "\t<tr><td>35-44</td><td>-0.15752222</td></tr>\n",
       "\t<tr><td>45-54</td><td> 0.03590071</td></tr>\n",
       "\t<tr><td>55-64</td><td> 0.20013488</td></tr>\n",
       "\t<tr><td>65-74</td><td> 0.51733262</td></tr>\n",
       "</tbody>\n",
       "</table>\n"
      ],
      "text/latex": [
       "A data.frame: 6 × 2\n",
       "\\begin{tabular}{ll}\n",
       " agrp & attconservative\\\\\n",
       " <fct> & <dbl>\\\\\n",
       "\\hline\n",
       "\t 16-24 & -0.14817995\\\\\n",
       "\t 25-34 & -0.12178847\\\\\n",
       "\t 35-44 & -0.15752222\\\\\n",
       "\t 45-54 &  0.03590071\\\\\n",
       "\t 55-64 &  0.20013488\\\\\n",
       "\t 65-74 &  0.51733262\\\\\n",
       "\\end{tabular}\n"
      ],
      "text/markdown": [
       "\n",
       "A data.frame: 6 × 2\n",
       "\n",
       "| agrp &lt;fct&gt; | attconservative &lt;dbl&gt; |\n",
       "|---|---|\n",
       "| 16-24 | -0.14817995 |\n",
       "| 25-34 | -0.12178847 |\n",
       "| 35-44 | -0.15752222 |\n",
       "| 45-54 |  0.03590071 |\n",
       "| 55-64 |  0.20013488 |\n",
       "| 65-74 |  0.51733262 |\n",
       "\n"
      ],
      "text/plain": [
       "  agrp  attconservative\n",
       "1 16-24 -0.14817995    \n",
       "2 25-34 -0.12178847    \n",
       "3 35-44 -0.15752222    \n",
       "4 45-54  0.03590071    \n",
       "5 55-64  0.20013488    \n",
       "6 65-74  0.51733262    "
      ]
     },
     "metadata": {},
     "output_type": "display_data"
    }
   ],
   "source": [
    "aggregate(attconservative ~ agrp, data = natsal, mean)"
   ]
  },
  {
   "cell_type": "code",
   "execution_count": 28,
   "id": "convinced-landscape",
   "metadata": {},
   "outputs": [
    {
     "data": {
      "text/html": [
       "<table class=\"dataframe\">\n",
       "<caption>A data.frame: 6 × 2</caption>\n",
       "<thead>\n",
       "\t<tr><th scope=col>agrp</th><th scope=col>attconservative</th></tr>\n",
       "\t<tr><th scope=col>&lt;fct&gt;</th><th scope=col>&lt;dbl&gt;</th></tr>\n",
       "</thead>\n",
       "<tbody>\n",
       "\t<tr><td>16-24</td><td>-0.11479968</td></tr>\n",
       "\t<tr><td>25-34</td><td>-0.12259808</td></tr>\n",
       "\t<tr><td>35-44</td><td>-0.14095068</td></tr>\n",
       "\t<tr><td>45-54</td><td> 0.07900358</td></tr>\n",
       "\t<tr><td>55-64</td><td> 0.27863634</td></tr>\n",
       "\t<tr><td>65-74</td><td> 0.55635821</td></tr>\n",
       "</tbody>\n",
       "</table>\n"
      ],
      "text/latex": [
       "A data.frame: 6 × 2\n",
       "\\begin{tabular}{ll}\n",
       " agrp & attconservative\\\\\n",
       " <fct> & <dbl>\\\\\n",
       "\\hline\n",
       "\t 16-24 & -0.11479968\\\\\n",
       "\t 25-34 & -0.12259808\\\\\n",
       "\t 35-44 & -0.14095068\\\\\n",
       "\t 45-54 &  0.07900358\\\\\n",
       "\t 55-64 &  0.27863634\\\\\n",
       "\t 65-74 &  0.55635821\\\\\n",
       "\\end{tabular}\n"
      ],
      "text/markdown": [
       "\n",
       "A data.frame: 6 × 2\n",
       "\n",
       "| agrp &lt;fct&gt; | attconservative &lt;dbl&gt; |\n",
       "|---|---|\n",
       "| 16-24 | -0.11479968 |\n",
       "| 25-34 | -0.12259808 |\n",
       "| 35-44 | -0.14095068 |\n",
       "| 45-54 |  0.07900358 |\n",
       "| 55-64 |  0.27863634 |\n",
       "| 65-74 |  0.55635821 |\n",
       "\n"
      ],
      "text/plain": [
       "  agrp  attconservative\n",
       "1 16-24 -0.11479968    \n",
       "2 25-34 -0.12259808    \n",
       "3 35-44 -0.14095068    \n",
       "4 45-54  0.07900358    \n",
       "5 55-64  0.27863634    \n",
       "6 65-74  0.55635821    "
      ]
     },
     "metadata": {},
     "output_type": "display_data"
    }
   ],
   "source": [
    "aggregate(attconservative ~ agrp, data = natsal, median)"
   ]
  },
  {
   "cell_type": "markdown",
   "id": "abstract-religious",
   "metadata": {},
   "source": [
    "Perhaps predictably, older respondents are more likely to hold conservative attitudes to sex than younger people, regardless of whether we use the mean or median as our measure of central tendency."
   ]
  },
  {
   "cell_type": "markdown",
   "id": "convinced-telephone",
   "metadata": {},
   "source": [
    "We can employ the same technique - using a summary table - to examine whether attitudes to sex are **more variable** within certain age groups. That is, does the standard deviation vary across categories of age? Recall that the standard deviation is a measure of dispersion and tells us whether the mean is a good representation of the values of a variable."
   ]
  },
  {
   "cell_type": "code",
   "execution_count": 29,
   "id": "equipped-albert",
   "metadata": {},
   "outputs": [
    {
     "data": {
      "text/html": [
       "<table class=\"dataframe\">\n",
       "<caption>A data.frame: 6 × 2</caption>\n",
       "<thead>\n",
       "\t<tr><th scope=col>agrp</th><th scope=col>attconservative</th></tr>\n",
       "\t<tr><th scope=col>&lt;fct&gt;</th><th scope=col>&lt;dbl&gt;</th></tr>\n",
       "</thead>\n",
       "<tbody>\n",
       "\t<tr><td>16-24</td><td>0.9384610</td></tr>\n",
       "\t<tr><td>25-34</td><td>1.0393459</td></tr>\n",
       "\t<tr><td>35-44</td><td>0.9850891</td></tr>\n",
       "\t<tr><td>45-54</td><td>1.0203073</td></tr>\n",
       "\t<tr><td>55-64</td><td>0.9530847</td></tr>\n",
       "\t<tr><td>65-74</td><td>0.9447077</td></tr>\n",
       "</tbody>\n",
       "</table>\n"
      ],
      "text/latex": [
       "A data.frame: 6 × 2\n",
       "\\begin{tabular}{ll}\n",
       " agrp & attconservative\\\\\n",
       " <fct> & <dbl>\\\\\n",
       "\\hline\n",
       "\t 16-24 & 0.9384610\\\\\n",
       "\t 25-34 & 1.0393459\\\\\n",
       "\t 35-44 & 0.9850891\\\\\n",
       "\t 45-54 & 1.0203073\\\\\n",
       "\t 55-64 & 0.9530847\\\\\n",
       "\t 65-74 & 0.9447077\\\\\n",
       "\\end{tabular}\n"
      ],
      "text/markdown": [
       "\n",
       "A data.frame: 6 × 2\n",
       "\n",
       "| agrp &lt;fct&gt; | attconservative &lt;dbl&gt; |\n",
       "|---|---|\n",
       "| 16-24 | 0.9384610 |\n",
       "| 25-34 | 1.0393459 |\n",
       "| 35-44 | 0.9850891 |\n",
       "| 45-54 | 1.0203073 |\n",
       "| 55-64 | 0.9530847 |\n",
       "| 65-74 | 0.9447077 |\n",
       "\n"
      ],
      "text/plain": [
       "  agrp  attconservative\n",
       "1 16-24 0.9384610      \n",
       "2 25-34 1.0393459      \n",
       "3 35-44 0.9850891      \n",
       "4 45-54 1.0203073      \n",
       "5 55-64 0.9530847      \n",
       "6 65-74 0.9447077      "
      ]
     },
     "metadata": {},
     "output_type": "display_data"
    }
   ],
   "source": [
    "aggregate(attconservative ~ agrp, data = natsal, sd)"
   ]
  },
  {
   "cell_type": "markdown",
   "id": "classical-maria",
   "metadata": {},
   "source": [
    "The standard deviation does not vary much across age groups."
   ]
  },
  {
   "cell_type": "markdown",
   "id": "global-lodging",
   "metadata": {},
   "source": [
    "We could also look at the minimum and maximum values across age groups:"
   ]
  },
  {
   "cell_type": "code",
   "execution_count": 30,
   "id": "portable-shoot",
   "metadata": {},
   "outputs": [
    {
     "data": {
      "text/html": [
       "<table class=\"dataframe\">\n",
       "<caption>A data.frame: 6 × 2</caption>\n",
       "<thead>\n",
       "\t<tr><th scope=col>agrp</th><th scope=col>attconservative</th></tr>\n",
       "\t<tr><th scope=col>&lt;fct&gt;</th><th scope=col>&lt;dbl&gt;</th></tr>\n",
       "</thead>\n",
       "<tbody>\n",
       "\t<tr><td>16-24</td><td>-2.591207</td></tr>\n",
       "\t<tr><td>25-34</td><td>-3.116903</td></tr>\n",
       "\t<tr><td>35-44</td><td>-3.116903</td></tr>\n",
       "\t<tr><td>45-54</td><td>-3.889383</td></tr>\n",
       "\t<tr><td>55-64</td><td>-3.048672</td></tr>\n",
       "\t<tr><td>65-74</td><td>-2.499142</td></tr>\n",
       "</tbody>\n",
       "</table>\n"
      ],
      "text/latex": [
       "A data.frame: 6 × 2\n",
       "\\begin{tabular}{ll}\n",
       " agrp & attconservative\\\\\n",
       " <fct> & <dbl>\\\\\n",
       "\\hline\n",
       "\t 16-24 & -2.591207\\\\\n",
       "\t 25-34 & -3.116903\\\\\n",
       "\t 35-44 & -3.116903\\\\\n",
       "\t 45-54 & -3.889383\\\\\n",
       "\t 55-64 & -3.048672\\\\\n",
       "\t 65-74 & -2.499142\\\\\n",
       "\\end{tabular}\n"
      ],
      "text/markdown": [
       "\n",
       "A data.frame: 6 × 2\n",
       "\n",
       "| agrp &lt;fct&gt; | attconservative &lt;dbl&gt; |\n",
       "|---|---|\n",
       "| 16-24 | -2.591207 |\n",
       "| 25-34 | -3.116903 |\n",
       "| 35-44 | -3.116903 |\n",
       "| 45-54 | -3.889383 |\n",
       "| 55-64 | -3.048672 |\n",
       "| 65-74 | -2.499142 |\n",
       "\n"
      ],
      "text/plain": [
       "  agrp  attconservative\n",
       "1 16-24 -2.591207      \n",
       "2 25-34 -3.116903      \n",
       "3 35-44 -3.116903      \n",
       "4 45-54 -3.889383      \n",
       "5 55-64 -3.048672      \n",
       "6 65-74 -2.499142      "
      ]
     },
     "metadata": {},
     "output_type": "display_data"
    }
   ],
   "source": [
    "aggregate(attconservative ~ agrp, data = natsal, min)"
   ]
  },
  {
   "cell_type": "code",
   "execution_count": 31,
   "id": "antique-leather",
   "metadata": {},
   "outputs": [
    {
     "data": {
      "text/html": [
       "<table class=\"dataframe\">\n",
       "<caption>A data.frame: 6 × 2</caption>\n",
       "<thead>\n",
       "\t<tr><th scope=col>agrp</th><th scope=col>attconservative</th></tr>\n",
       "\t<tr><th scope=col>&lt;fct&gt;</th><th scope=col>&lt;dbl&gt;</th></tr>\n",
       "</thead>\n",
       "<tbody>\n",
       "\t<tr><td>16-24</td><td>2.385838</td></tr>\n",
       "\t<tr><td>25-34</td><td>2.595157</td></tr>\n",
       "\t<tr><td>35-44</td><td>2.347007</td></tr>\n",
       "\t<tr><td>45-54</td><td>2.595157</td></tr>\n",
       "\t<tr><td>55-64</td><td>2.347007</td></tr>\n",
       "\t<tr><td>65-74</td><td>2.226923</td></tr>\n",
       "</tbody>\n",
       "</table>\n"
      ],
      "text/latex": [
       "A data.frame: 6 × 2\n",
       "\\begin{tabular}{ll}\n",
       " agrp & attconservative\\\\\n",
       " <fct> & <dbl>\\\\\n",
       "\\hline\n",
       "\t 16-24 & 2.385838\\\\\n",
       "\t 25-34 & 2.595157\\\\\n",
       "\t 35-44 & 2.347007\\\\\n",
       "\t 45-54 & 2.595157\\\\\n",
       "\t 55-64 & 2.347007\\\\\n",
       "\t 65-74 & 2.226923\\\\\n",
       "\\end{tabular}\n"
      ],
      "text/markdown": [
       "\n",
       "A data.frame: 6 × 2\n",
       "\n",
       "| agrp &lt;fct&gt; | attconservative &lt;dbl&gt; |\n",
       "|---|---|\n",
       "| 16-24 | 2.385838 |\n",
       "| 25-34 | 2.595157 |\n",
       "| 35-44 | 2.347007 |\n",
       "| 45-54 | 2.595157 |\n",
       "| 55-64 | 2.347007 |\n",
       "| 65-74 | 2.226923 |\n",
       "\n"
      ],
      "text/plain": [
       "  agrp  attconservative\n",
       "1 16-24 2.385838       \n",
       "2 25-34 2.595157       \n",
       "3 35-44 2.347007       \n",
       "4 45-54 2.595157       \n",
       "5 55-64 2.347007       \n",
       "6 65-74 2.226923       "
      ]
     },
     "metadata": {},
     "output_type": "display_data"
    }
   ],
   "source": [
    "aggregate(attconservative ~ agrp, data = natsal, max)"
   ]
  },
  {
   "cell_type": "markdown",
   "id": "mathematical-casino",
   "metadata": {},
   "source": [
    "Curiously, the most liberal attitude is from a respondent in the 65-74 age group, while the most conservative attitude belongs to respondents in the 25-34 and 45-54 categories.\n",
    "\n",
    "Therefore while older people hold more conservative attitudes to sex on average, each age group contains a range of liberal and conservative respondents. This can seen more clearly using a graph known as a **boxplot**:"
   ]
  },
  {
   "cell_type": "code",
   "execution_count": 32,
   "id": "casual-merchandise",
   "metadata": {},
   "outputs": [
    {
     "data": {
      "image/png": "[encoded data removed]",
      "text/plain": [
       "Plot with title \"Attitude to Sex by Age\""
      ]
     },
     "metadata": {
      "image/png": {
       "height": 420,
       "width": 420
      }
     },
     "output_type": "display_data"
    }
   ],
   "source": [
    "boxplot(attconservative ~ agrp,\n",
    "data = natsal,\n",
    "main = \"Attitude to Sex by Age\",\n",
    "xlab = \"Age Group\",\n",
    "ylab = \"Attitude Score\",\n",
    "col = \"steelblue\",\n",
    "border = \"black\")"
   ]
  },
  {
   "cell_type": "markdown",
   "id": "outdoor-capital",
   "metadata": {},
   "source": [
    "Learn more about boxplots and how to interpret them: [Reading box plots](https://www.khanacademy.org/math/cc-sixth-grade-math/cc-6th-data-statistics/cc-6th-box-whisker-plots/v/reading-box-and-whisker-plots)"
   ]
  },
  {
   "cell_type": "markdown",
   "id": "unlikely-firewall",
   "metadata": {},
   "source": [
    "**TASK:** Produce some tables of summary statistics and a boxplot for the association between attitudes to sex (`attconservative`) and sex at birth (`rsex`)."
   ]
  },
  {
   "cell_type": "markdown",
   "id": "allied-melissa",
   "metadata": {},
   "source": [
    "#### Measures of association"
   ]
  },
  {
   "cell_type": "markdown",
   "id": "greater-tactics",
   "metadata": {},
   "source": [
    "The appropriate measure of association when you have one categorical and one numeric variable is:\n",
    "* *Eta squared*\n",
    "\n",
    "This tells us the strength of the association but not the direction (we need to infer this from the summary tables above). *Eta squared* coefficient ranges from 0 to 1, with higher values representing stronger associations."
   ]
  },
  {
   "cell_type": "code",
   "execution_count": 33,
   "id": "molecular-current",
   "metadata": {},
   "outputs": [],
   "source": [
    "library(lsr) # import the package containing the `etaSquared()` command"
   ]
  },
  {
   "cell_type": "code",
   "execution_count": 34,
   "id": "successful-jordan",
   "metadata": {},
   "outputs": [
    {
     "data": {
      "text/html": [
       "<table class=\"dataframe\">\n",
       "<caption>A matrix: 1 × 2 of type dbl</caption>\n",
       "<thead>\n",
       "\t<tr><th></th><th scope=col>eta.sq</th><th scope=col>eta.sq.part</th></tr>\n",
       "</thead>\n",
       "<tbody>\n",
       "\t<tr><th scope=row>agrp</th><td>0.04232259</td><td>0.04232259</td></tr>\n",
       "</tbody>\n",
       "</table>\n"
      ],
      "text/latex": [
       "A matrix: 1 × 2 of type dbl\n",
       "\\begin{tabular}{r|ll}\n",
       "  & eta.sq & eta.sq.part\\\\\n",
       "\\hline\n",
       "\tagrp & 0.04232259 & 0.04232259\\\\\n",
       "\\end{tabular}\n"
      ],
      "text/markdown": [
       "\n",
       "A matrix: 1 × 2 of type dbl\n",
       "\n",
       "| <!--/--> | eta.sq | eta.sq.part |\n",
       "|---|---|---|\n",
       "| agrp | 0.04232259 | 0.04232259 |\n",
       "\n"
      ],
      "text/plain": [
       "     eta.sq     eta.sq.part\n",
       "agrp 0.04232259 0.04232259 "
      ]
     },
     "metadata": {},
     "output_type": "display_data"
    }
   ],
   "source": [
    "model <- aov(attconservative ~ agrp, data = natsal)\n",
    "etaSquared(model)"
   ]
  },
  {
   "cell_type": "markdown",
   "id": "vietnamese-tongue",
   "metadata": {},
   "source": [
    "The low value for the *Eta squared* coefficient implies that there is a weak to non-existent association between attitudes to sex and age, despite the pattern observed in the table of means. This makes sense, as the variation in average attitude across age groups is very small and really only noticeable when we compare the youngest and oldest age groups: for example, there is little variation between the three youngest age groups."
   ]
  },
  {
   "cell_type": "markdown",
   "id": "breathing-france",
   "metadata": {},
   "source": [
    "### Numeric vs Numeric"
   ]
  },
  {
   "cell_type": "markdown",
   "id": "reliable-lemon",
   "metadata": {},
   "source": [
    "Finally, we consider associations between two numeric variables, often known as **correlation** analysis. \n",
    "\n",
    "For this section we are going to return to our dataset with median ages of countries around the world and pose the question:\n",
    "* *Is the median age increasing over time?*"
   ]
  },
  {
   "cell_type": "code",
   "execution_count": 35,
   "id": "addressed-creek",
   "metadata": {},
   "outputs": [
    {
     "data": {
      "text/html": [
       "<table class=\"dataframe\">\n",
       "<caption>A data.frame: 6 × 4</caption>\n",
       "<thead>\n",
       "\t<tr><th></th><th scope=col>Entity</th><th scope=col>Code</th><th scope=col>Year</th><th scope=col>Age</th></tr>\n",
       "\t<tr><th></th><th scope=col>&lt;chr&gt;</th><th scope=col>&lt;chr&gt;</th><th scope=col>&lt;int&gt;</th><th scope=col>&lt;dbl&gt;</th></tr>\n",
       "</thead>\n",
       "<tbody>\n",
       "\t<tr><th scope=row>1</th><td>Afghanistan</td><td>AFG</td><td>1950</td><td>19.4</td></tr>\n",
       "\t<tr><th scope=row>2</th><td>Afghanistan</td><td>AFG</td><td>1955</td><td>19.2</td></tr>\n",
       "\t<tr><th scope=row>3</th><td>Afghanistan</td><td>AFG</td><td>1960</td><td>18.8</td></tr>\n",
       "\t<tr><th scope=row>4</th><td>Afghanistan</td><td>AFG</td><td>1965</td><td>18.4</td></tr>\n",
       "\t<tr><th scope=row>5</th><td>Afghanistan</td><td>AFG</td><td>1970</td><td>17.9</td></tr>\n",
       "\t<tr><th scope=row>6</th><td>Afghanistan</td><td>AFG</td><td>1975</td><td>17.4</td></tr>\n",
       "</tbody>\n",
       "</table>\n"
      ],
      "text/latex": [
       "A data.frame: 6 × 4\n",
       "\\begin{tabular}{r|llll}\n",
       "  & Entity & Code & Year & Age\\\\\n",
       "  & <chr> & <chr> & <int> & <dbl>\\\\\n",
       "\\hline\n",
       "\t1 & Afghanistan & AFG & 1950 & 19.4\\\\\n",
       "\t2 & Afghanistan & AFG & 1955 & 19.2\\\\\n",
       "\t3 & Afghanistan & AFG & 1960 & 18.8\\\\\n",
       "\t4 & Afghanistan & AFG & 1965 & 18.4\\\\\n",
       "\t5 & Afghanistan & AFG & 1970 & 17.9\\\\\n",
       "\t6 & Afghanistan & AFG & 1975 & 17.4\\\\\n",
       "\\end{tabular}\n"
      ],
      "text/markdown": [
       "\n",
       "A data.frame: 6 × 4\n",
       "\n",
       "| <!--/--> | Entity &lt;chr&gt; | Code &lt;chr&gt; | Year &lt;int&gt; | Age &lt;dbl&gt; |\n",
       "|---|---|---|---|---|\n",
       "| 1 | Afghanistan | AFG | 1950 | 19.4 |\n",
       "| 2 | Afghanistan | AFG | 1955 | 19.2 |\n",
       "| 3 | Afghanistan | AFG | 1960 | 18.8 |\n",
       "| 4 | Afghanistan | AFG | 1965 | 18.4 |\n",
       "| 5 | Afghanistan | AFG | 1970 | 17.9 |\n",
       "| 6 | Afghanistan | AFG | 1975 | 17.4 |\n",
       "\n"
      ],
      "text/plain": [
       "  Entity      Code Year Age \n",
       "1 Afghanistan AFG  1950 19.4\n",
       "2 Afghanistan AFG  1955 19.2\n",
       "3 Afghanistan AFG  1960 18.8\n",
       "4 Afghanistan AFG  1965 18.4\n",
       "5 Afghanistan AFG  1970 17.9\n",
       "6 Afghanistan AFG  1975 17.4"
      ]
     },
     "metadata": {},
     "output_type": "display_data"
    }
   ],
   "source": [
    "country_ages <- read.csv(\"./data/median-age-our-world-in-data.csv\", header=TRUE, na=\"NA\")\n",
    "head(country_ages)"
   ]
  },
  {
   "cell_type": "markdown",
   "id": "numeric-evaluation",
   "metadata": {},
   "source": [
    "#### Joint distribution"
   ]
  },
  {
   "cell_type": "markdown",
   "id": "flush-draft",
   "metadata": {},
   "source": [
    "It is difficult to use tables to examine the distributions of numeric variables: there are often two many values to display. For example, here is a table of median age, showing how many times each value occurs:"
   ]
  },
  {
   "cell_type": "code",
   "execution_count": 36,
   "id": "constant-cross",
   "metadata": {},
   "outputs": [
    {
     "data": {
      "text/plain": [
       "\n",
       "     14.3      14.5      14.7      14.8      14.9        15      15.1      15.2 \n",
       "        1         1         2         3         3         5         4         8 \n",
       "     15.3      15.4      15.5      15.6      15.7      15.8      15.9        16 \n",
       "        7         7         9        13         9        14        11        19 \n",
       "     16.1 16.200001 16.299999      16.4      16.5      16.6 16.700001 16.799999 \n",
       "       19        15        27        23        20        27        27        42 \n",
       "     16.9        17      17.1 17.200001 17.299999      17.4      17.5      17.6 \n",
       "       24        39        34        40        30        40        50        43 \n",
       "17.700001 17.799999      17.9        18      18.1 18.200001 18.299999      18.4 \n",
       "       47        56        39        47        42        43        38        39 \n",
       "     18.5      18.6 18.700001 18.799999      18.9        19      19.1 19.200001 \n",
       "       45        51        42        43        47        41        52        45 \n",
       "19.299999      19.4      19.5      19.6 19.700001 19.799999      19.9        20 \n",
       "       33        46        38        47        26        33        35        29 \n",
       "     20.1 20.200001 20.299999      20.4      20.5      20.6 20.700001 20.799999 \n",
       "       25        36        31        34        26        19        18        20 \n",
       "     20.9        21      21.1 21.200001 21.299999      21.4      21.5      21.6 \n",
       "       27        21        22        26        27        16        25        25 \n",
       "21.700001 21.799999      21.9        22      22.1 22.200001 22.299999      22.4 \n",
       "       28        19        18        26        24        19        25        22 \n",
       "     22.5      22.6 22.700001 22.799999      22.9        23      23.1 23.200001 \n",
       "       13        21        13        20        16        21        18        19 \n",
       "23.299999      23.4      23.5      23.6 23.700001 23.799999      23.9        24 \n",
       "       17        14        24        19        14        18        16        17 \n",
       "     24.1 24.200001 24.299999      24.4      24.5      24.6 24.700001 24.799999 \n",
       "       18        22        17        21        23        13        11        17 \n",
       "     24.9        25      25.1 25.200001 25.299999      25.4      25.5      25.6 \n",
       "       14        13        13        14        13        17        15        17 \n",
       "25.700001 25.799999      25.9        26      26.1 26.200001 26.299999      26.4 \n",
       "       15        17        16        18        13        18        25        12 \n",
       "     26.5      26.6 26.700001 26.799999      26.9        27      27.1 27.200001 \n",
       "       22        20        11        14        12         9        16        26 \n",
       "27.299999      27.4      27.5      27.6 27.700001 27.799999      27.9        28 \n",
       "       21        24        15        23        15        24        16        17 \n",
       "     28.1 28.200001 28.299999      28.4      28.5      28.6 28.700001 28.799999 \n",
       "       15        14        25        18        24        15        17        11 \n",
       "     28.9        29      29.1 29.200001 29.299999      29.4      29.5      29.6 \n",
       "       25        20        19        25        21        16        12        19 \n",
       "29.700001 29.799999      29.9        30      30.1 30.200001 30.299999      30.4 \n",
       "       14        18        21        24        21        19        22        12 \n",
       "     30.5      30.6 30.700001 30.799999      30.9        31      31.1 31.200001 \n",
       "       14        17        20        19        22        18        18        14 \n",
       "31.299999      31.4      31.5      31.6 31.700001 31.799999      31.9        32 \n",
       "       13        21        11        17        15        18        21        17 \n",
       "32.099998 32.200001 32.299999 32.400002      32.5 32.599998 32.700001 32.799999 \n",
       "       22        17        25        20        14        18        15        18 \n",
       "32.900002        33 33.099998 33.200001 33.299999 33.400002      33.5 33.599998 \n",
       "       16        19        20        19        15        19        24        17 \n",
       "33.700001 33.799999 33.900002        34 34.099998 34.200001 34.299999 34.400002 \n",
       "       20        16        21        14        23        20        26        20 \n",
       "     34.5 34.599998 34.700001 34.799999 34.900002        35 35.099998 35.200001 \n",
       "       11        26        17        17        19        20        19        17 \n",
       "35.299999 35.400002      35.5 35.599998 35.700001 35.799999 35.900002        36 \n",
       "       17        19        16        16        17        18        16        25 \n",
       "36.099998 36.200001 36.299999 36.400002      36.5 36.599998 36.700001 36.799999 \n",
       "       15        16        14        25        18         9         8        17 \n",
       "36.900002        37 37.099998 37.200001 37.299999 37.400002      37.5 37.599998 \n",
       "       18        16        13        14        17        17        13        17 \n",
       "37.700001 37.799999 37.900002        38 38.099998 38.200001 38.299999 38.400002 \n",
       "       21        14        13        22        19        13        13        11 \n",
       "     38.5 38.599998 38.700001 38.799999 38.900002        39 39.099998 39.200001 \n",
       "       13        14        17        16        22        16        23        14 \n",
       "39.299999 39.400002      39.5 39.599998 39.700001 39.799999 39.900002        40 \n",
       "        9        14        18        20        14        14        16        18 \n",
       "40.099998 40.200001 40.299999 40.400002      40.5 40.599998 40.700001 40.799999 \n",
       "       23        13        17        21        14        15        14        16 \n",
       "40.900002        41 41.099998 41.200001 41.299999 41.400002      41.5 41.599998 \n",
       "       16        19        12        25        19        17        19        15 \n",
       "41.700001 41.799999 41.900002        42 42.099998 42.200001 42.299999 42.400002 \n",
       "       26        17        10        28        17        20        13        24 \n",
       "     42.5 42.599998 42.700001 42.799999 42.900002        43 43.099998 43.200001 \n",
       "       18        27        18        13        17        14        19        22 \n",
       "43.299999 43.400002      43.5 43.599998 43.700001 43.799999 43.900002        44 \n",
       "       23        23        18        18        13        23        25        22 \n",
       "44.099998 44.200001 44.299999 44.400002      44.5 44.599998 44.700001 44.799999 \n",
       "       17        21        16        22        24        10        24        21 \n",
       "44.900002        45 45.099998 45.200001 45.299999 45.400002      45.5 45.599998 \n",
       "       18        19        28        19        21        26        29        16 \n",
       "45.700001 45.799999 45.900002        46 46.099998 46.200001 46.299999 46.400002 \n",
       "       21        18        22        18        20        19        20        21 \n",
       "     46.5 46.599998 46.700001 46.799999 46.900002        47 47.099998 47.200001 \n",
       "       22        18        18        35        26        20        21        16 \n",
       "47.299999 47.400002      47.5 47.599998 47.700001 47.799999 47.900002        48 \n",
       "       18        27        15        18        21        15        21        17 \n",
       "48.099998 48.200001 48.299999 48.400002      48.5 48.599998 48.700001 48.799999 \n",
       "       18        25        19        22        18        20        16        20 \n",
       "48.900002        49 49.099998 49.200001 49.299999 49.400002      49.5 49.599998 \n",
       "       17        18        14        16        21        15        14        10 \n",
       "49.700001 49.799999 49.900002        50 50.099998 50.200001 50.299999 50.400002 \n",
       "       14        10        10        15        17        10        18        17 \n",
       "     50.5 50.599998 50.700001 50.799999 50.900002        51 51.099998 51.200001 \n",
       "       18        15        11        12        12        11        13         5 \n",
       "51.299999 51.400002      51.5 51.599998 51.700001 51.799999 51.900002        52 \n",
       "        7        14         7         7         6         6         6         3 \n",
       "52.099998 52.200001 52.299999 52.400002      52.5 52.599998 52.700001 52.799999 \n",
       "        4         5         5         5         7         5         4         9 \n",
       "       53 53.099998 53.200001 53.299999 53.400002      53.5 53.599998 53.700001 \n",
       "        2         4         6         7         3         2         5         4 \n",
       "53.900002        54 54.099998 54.200001 54.299999 54.400002 54.599998 54.700001 \n",
       "        4         1         2         2         3         2         1         2 \n",
       "       55 55.200001 55.299999      55.5 55.599998 55.900002        56 56.299999 \n",
       "        2         1         1         1         1         1         2         1 \n",
       "     56.5 56.799999 \n",
       "        1         1 "
      ]
     },
     "metadata": {},
     "output_type": "display_data"
    }
   ],
   "source": [
    "table(country_ages$Age)"
   ]
  },
  {
   "cell_type": "markdown",
   "id": "atomic-oxide",
   "metadata": {},
   "source": [
    "Not very useful is it. Therefore we are best off using graphical approaches, such as **histograms** and **boxplots**:"
   ]
  },
  {
   "cell_type": "code",
   "execution_count": 37,
   "id": "absent-characterization",
   "metadata": {},
   "outputs": [
    {
     "data": {
      "image/png": "[encoded data removed]",
      "text/plain": [
       "Plot with title \"Histogram of country_ages$Age\""
      ]
     },
     "metadata": {
      "image/png": {
       "height": 420,
       "width": 420
      }
     },
     "output_type": "display_data"
    }
   ],
   "source": [
    "hist(country_ages$Age)"
   ]
  },
  {
   "cell_type": "markdown",
   "id": "existing-wildlife",
   "metadata": {},
   "source": [
    "While it is possible to display two histograms on the same graph, a better way of displaying the joint distribution of two numeric variables is to use a **scatterplot**:"
   ]
  },
  {
   "cell_type": "code",
   "execution_count": 38,
   "id": "environmental-powell",
   "metadata": {},
   "outputs": [
    {
     "data": {
      "image/png": "[encoded data removed]",
      "text/plain": [
       "plot without title"
      ]
     },
     "metadata": {
      "image/png": {
       "height": 420,
       "width": 420
      }
     },
     "output_type": "display_data"
    }
   ],
   "source": [
    "plot(country_ages$Year, country_ages$Age) # X variable (axis) is listed first, Y variable (axis) second"
   ]
  },
  {
   "cell_type": "markdown",
   "id": "tracked-clinton",
   "metadata": {},
   "source": [
    "There is a lot of variability within a given year but there does seem to be a clear temporal trend: median age has increased since 1950 and is projected to continue doing so until 2100."
   ]
  },
  {
   "cell_type": "markdown",
   "id": "particular-hawaii",
   "metadata": {},
   "source": [
    "#### Measure of association"
   ]
  },
  {
   "cell_type": "markdown",
   "id": "essential-oliver",
   "metadata": {},
   "source": [
    "We will use the following measure of association:\n",
    "* *Pearson's correlation coefficient (r)*\n",
    "\n",
    "Similar to other measures of association, it tells us the strength and direction of the association between two variables. The coefficient ranges between -1 and 1, with negative values representing negative associations, and positive values positive associations. Values closer to -1 or 1 indicate stronger associations than those closer to 0."
   ]
  },
  {
   "cell_type": "code",
   "execution_count": 39,
   "id": "infinite-attack",
   "metadata": {},
   "outputs": [
    {
     "data": {
      "text/html": [
       "0.732414166982574"
      ],
      "text/latex": [
       "0.732414166982574"
      ],
      "text/markdown": [
       "0.732414166982574"
      ],
      "text/plain": [
       "[1] 0.7324142"
      ]
     },
     "metadata": {},
     "output_type": "display_data"
    }
   ],
   "source": [
    "cor(country_ages$Year, country_ages$Age, use = \"complete.obs\")"
   ]
  },
  {
   "cell_type": "markdown",
   "id": "going-thursday",
   "metadata": {},
   "source": [
    "No surprise there: the correlation coefficient indicates a strong, positive association between time and median age.\n",
    "\n",
    "To add some nuance, let's only include years that have already occurred:"
   ]
  },
  {
   "cell_type": "code",
   "execution_count": 40,
   "id": "sweet-vitamin",
   "metadata": {},
   "outputs": [
    {
     "data": {
      "image/png": "[encoded data removed]",
      "text/plain": [
       "plot without title"
      ]
     },
     "metadata": {
      "image/png": {
       "height": 420,
       "width": 420
      }
     },
     "output_type": "display_data"
    }
   ],
   "source": [
    "country_ages_subset <- subset(country_ages, Year < 2021)\n",
    "plot(country_ages_subset$Year, country_ages_subset$Age) "
   ]
  },
  {
   "cell_type": "code",
   "execution_count": 41,
   "id": "artificial-newton",
   "metadata": {},
   "outputs": [
    {
     "data": {
      "text/html": [
       "0.372147660532436"
      ],
      "text/latex": [
       "0.372147660532436"
      ],
      "text/markdown": [
       "0.372147660532436"
      ],
      "text/plain": [
       "[1] 0.3721477"
      ]
     },
     "metadata": {},
     "output_type": "display_data"
    }
   ],
   "source": [
    "cor(country_ages_subset$Year, country_ages_subset$Age, use = \"complete.obs\")"
   ]
  },
  {
   "cell_type": "markdown",
   "id": "advanced-pioneer",
   "metadata": {},
   "source": [
    "**QUESTION:** Is the association between year and median age weaker or stronger when we exclude observations for future years?"
   ]
  },
  {
   "cell_type": "markdown",
   "id": "colored-plate",
   "metadata": {},
   "source": [
    "## Conclusion"
   ]
  },
  {
   "cell_type": "markdown",
   "id": "southeast-giving",
   "metadata": {},
   "source": [
    "In this lesson we encountered a range of techniques for summarising more than one variable at a time, in particular focusing on whether two variables are related.\n",
    "\n",
    "In this next lesson we focus on summarising the joint distribution of two variables, this time across values of a third variable, a technique known as *multivariate* analysis. We also look at how we can produce statistics that help us make claims about the *generalisability* of our results."
   ]
  }
 ],
 "metadata": {
  "kernelspec": {
   "display_name": "R",
   "language": "R",
   "name": "ir"
  },
  "language_info": {
   "codemirror_mode": "r",
   "file_extension": ".r",
   "mimetype": "text/x-r-source",
   "name": "R",
   "pygments_lexer": "r",
   "version": "4.1.1"
  }
 },
 "nbformat": 4,
 "nbformat_minor": 5
}
