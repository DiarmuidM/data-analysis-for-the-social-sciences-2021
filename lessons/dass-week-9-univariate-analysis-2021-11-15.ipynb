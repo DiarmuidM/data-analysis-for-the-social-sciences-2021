{
 "cells": [
  {
   "cell_type": "markdown",
   "id": "otherwise-cache",
   "metadata": {},
   "source": [
    "<p align=\"right\"><i>Data Analysis for the Social Sciences - Part II - 2021-11-15</i></p>"
   ]
  },
  {
   "cell_type": "markdown",
   "id": "dynamic-conjunction",
   "metadata": {},
   "source": [
    "# Quantitative Data Analysis"
   ]
  },
  {
   "cell_type": "markdown",
   "id": "exclusive-methodology",
   "metadata": {},
   "source": [
    "Welcome to Part II of Data Analysis for the Social Sciences. In this stream - Quantitative Data Analysis - we will conduct a range of statistical analyses in order to answer the following research question:"
   ]
  },
  {
   "cell_type": "markdown",
   "id": "bibliographic-stranger",
   "metadata": {},
   "source": [
    "<p><center><i>Is religion associated with differences in sexual attitudes and behaviours among British people?</i></center></p>"
   ]
  },
  {
   "cell_type": "markdown",
   "id": "scenic-silly",
   "metadata": {},
   "source": [
    "### Aims\n",
    "\n",
    "This lesson - **Univariate Analysis** - has two aims:\n",
    "1. Demonstrate how to analyse categorical and numeric variables individually.\n",
    "2. Cultivate your computational skills through the use of the statistical programming langauge *R*. For example, there are a number of opportunities for you to amend or write R syntax (code)."
   ]
  },
  {
   "cell_type": "markdown",
   "id": "judicial-prediction",
   "metadata": {},
   "source": [
    "### Lesson details\n",
    "\n",
    "* **Level**: Introductory, for individuals with no prior knowledge or experience of quantitative data analysis.\n",
    "* **Duration**: 45-60 minutes.\n",
    "* **Pre-requisites**: None.\n",
    "* **Programming language**: R.\n",
    "* **Learning outcomes**:\n",
    "\t1. Understand how to use R for conducting univariate data analysis.\n",
    "\t2. Understand how to select and apply common data analysis techniques for categorical and numeric variables."
   ]
  },
  {
   "cell_type": "markdown",
   "id": "terminal-agenda",
   "metadata": {},
   "source": [
    "## Guide to using this resource\n",
    "\n",
    "This learning resource was built using <a href=\"https://jupyter.org/\" target=_blank>Jupyter Notebook</a>, an open-source software application that allows you to mix code, results and narrative in a single document. As <a href=\"https://jupyter4edu.github.io/jupyter-edu-book/\" target=_blank>Barba et al. (2019)</a> espouse:\n",
    "> In a world where every subject matter can have a data-supported treatment, where computational devices are omnipresent and pervasive, the union of natural language and computation creates compelling communication and learning opportunities.\n",
    "\n",
    "If you are familiar with Jupyter notebooks then skip ahead to the main content (*Analysing Data*). Otherwise, the following is a quick guide to navigating and interacting with the notebook."
   ]
  },
  {
   "cell_type": "markdown",
   "id": "interested-radar",
   "metadata": {},
   "source": [
    "### Interaction\n",
    "\n",
    "**You only need to execute the code that is contained in sections which are marked by `In []`.**\n",
    "\n",
    "To execute a cell, click or double-click the cell and press the `Run` button on the top toolbar (you can also use the keyboard shortcut `Shift + Enter`).\n",
    "\n",
    "Try it for yourself:"
   ]
  },
  {
   "cell_type": "code",
   "execution_count": 51,
   "id": "dominican-hardware",
   "metadata": {},
   "outputs": [
    {
     "name": "stdout",
     "output_type": "stream",
     "text": [
      "Enter name: Diarmuid\n",
      "[1] \"Hi, Diarmuid enjoy learning more about R and exploring data!\"\n"
     ]
    }
   ],
   "source": [
    "name <- readline(prompt=\"Enter name: \")\n",
    "print(paste(\"Hi,\", name, \"enjoy learning more about R and exploring data!\"))"
   ]
  },
  {
   "cell_type": "markdown",
   "id": "through-storm",
   "metadata": {},
   "source": [
    "Notebooks are sequential, meaning code should be executed in order (top to bottom). For example, the following code won't work:"
   ]
  },
  {
   "cell_type": "code",
   "execution_count": 53,
   "id": "outstanding-bulgaria",
   "metadata": {},
   "outputs": [
    {
     "ename": "ERROR",
     "evalue": "Error in eval(expr, envir, enclos): object 'x' not found\n",
     "output_type": "error",
     "traceback": [
      "Error in eval(expr, envir, enclos): object 'x' not found\nTraceback:\n"
     ]
    }
   ],
   "source": [
    "x * 5"
   ]
  },
  {
   "cell_type": "markdown",
   "id": "handmade-madagascar",
   "metadata": {},
   "source": [
    "As the error message suggests, there is no object (variable) called `x`, therefore we cannot do any calculations with it. \n",
    "\n",
    "Let's try a sequential approach:"
   ]
  },
  {
   "cell_type": "code",
   "execution_count": 54,
   "id": "addressed-assumption",
   "metadata": {},
   "outputs": [],
   "source": [
    "x <- 10 # create an object called 'x' and give it the value '10'"
   ]
  },
  {
   "cell_type": "code",
   "execution_count": 55,
   "id": "crucial-implement",
   "metadata": {},
   "outputs": [
    {
     "data": {
      "text/html": [
       "50"
      ],
      "text/latex": [
       "50"
      ],
      "text/markdown": [
       "50"
      ],
      "text/plain": [
       "[1] 50"
      ]
     },
     "metadata": {},
     "output_type": "display_data"
    }
   ],
   "source": [
    "x * 5 # multiply 'x' by 5"
   ]
  },
  {
   "cell_type": "markdown",
   "id": "covered-round",
   "metadata": {},
   "source": [
    "### Learn more\n",
    "\n",
    "Jupyter notebooks provide rich, flexible features for conducting and documenting your data analysis workflow. To learn more about additional notebook features, we recommend working through some of the <a href=\"https://github.com/darribas/gds19/blob/master/content/labs/lab_00.ipynb\" target=_blank>materials</a> provided by Dani Arribas-Bel at the University of Liverpool. "
   ]
  },
  {
   "cell_type": "markdown",
   "id": "floppy-escape",
   "metadata": {},
   "source": [
    "### Learner input\n",
    "\n",
    "Throughout the lessons there times when you need to do the following activities:\n",
    "* **TASK:** A coding task for you to complete (e.g. analyse different variables).\n",
    "* **QUESTION:** A question regarding your interpretation of some code or a technique (e.g. what is the piece of code doing?).\n",
    "* **EXERCISE:** A data analysis challenge for you to complete."
   ]
  },
  {
   "cell_type": "markdown",
   "id": "democratic-office",
   "metadata": {},
   "source": [
    "## Analysing Data"
   ]
  },
  {
   "cell_type": "markdown",
   "id": "respected-comedy",
   "metadata": {},
   "source": [
    "Once we have collected and explored our data, we can turn to the interesting part: analysis. Our ultimate aim is to answer the research question accurately: to do so we need to produce summaries of our key variables. In our case we need to analyse variables relating to religious beliefs and sexual attitudes/behaviours. \n",
    "\n",
    "How do we know which summaries to choose? We need to look at the **level of measurement** of each variable: are we dealing with categorical (e.g., marital status) or numeric (e.g., income) variables? We covered level of measurement in Week 2 but here is a quick refresher: "
   ]
  },
  {
   "cell_type": "markdown",
   "id": "enclosed-pulse",
   "metadata": {},
   "source": [
    "![Differentiation of numeric and categorical variables](./images/lvl_msr_diagr.png)"
   ]
  },
  {
   "cell_type": "markdown",
   "id": "modern-nursery",
   "metadata": {},
   "source": [
    "Source: [https://maczokni.github.io/MSCD_labs/week2.html#univariate-analysis](https://maczokni.github.io/MSCD_labs/week2.html#univariate-analysis)"
   ]
  },
  {
   "cell_type": "markdown",
   "id": "synthetic-amino",
   "metadata": {},
   "source": [
    "**Numeric variables** measure the amount or magnitude of some characteristic | attribute | outcome. For example, how much income a person receives from their part-time job; how many people are classed as homeless in Scotland in a given year.\n",
    "\n",
    "**Categorical variables** measure the presence of some characteristic | attribute | outcome. For example, a person's country of birth; marital status. These are examples of *nominal* categorical variables. However there is another type of categorical variable that also captures the rank or ordering of the categories. For example, a student's degree classification; social class; agreement with a statement (\"strongly agree\", \"agree\", \"disagree\"). These are examples of *ordinal* categorical variables."
   ]
  },
  {
   "cell_type": "markdown",
   "id": "classical-hypothetical",
   "metadata": {},
   "source": [
    "The analytical techniques we use depend on whether we are dealing with a numeric or categorical variable. However the aims of our analysis are similar:\n",
    "1. We want to summarise the **central tendency** of the values\n",
    "2. We want to summarise the **distribution** of the values"
   ]
  },
  {
   "cell_type": "markdown",
   "id": "endless-entertainment",
   "metadata": {},
   "source": [
    "### Central tendency\n",
    "\n",
    "Central tendency conveys what the *typical observation* looks like for a variable (Fogarty, 2019). There are a number of different measure of central tendency but the three most recognisable are:\n",
    "* **Mode** - the most common value of a variable.\n",
    "* **Median** - the middle value in a variable's distribution, where an equal number of observations lie above and below this value.\n",
    "* **Mean** - the average value of a variable. \n",
    "\n",
    "We'll clarify what is meant by each of these measures when we encounter some examples in the *Natsal* data."
   ]
  },
  {
   "cell_type": "markdown",
   "id": "forbidden-hobby",
   "metadata": {},
   "source": [
    "### Distribution\n",
    "\n",
    "The pattern of variation in the values of a variable is called a *distribution*. For example, here is the distribution of median (typical) age for all countries in 2015:"
   ]
  },
  {
   "cell_type": "markdown",
   "id": "stable-aurora",
   "metadata": {},
   "source": [
    "![](./images/median-age-2015.png)"
   ]
  },
  {
   "cell_type": "markdown",
   "id": "comparable-garden",
   "metadata": {},
   "source": [
    "We observe that the values of this variable are quite uniformly distributed; that is, each median age is as likely to be observed as any other (with the notable exception of ages < 15 and ages > 45).\n",
    "\n",
    "Observing the full distribution of values is important but there are also a number of summary statistics that describe interesting features of a distribution. These are called **measures of dispersion** and some of the most commonly encountered are:\n",
    "* **Minimum** - the lowest value observed\n",
    "* **Maximum** - the highest value observed\n",
    "* **Range** - the difference between the minimum and maximum\n",
    "* **Standard deviation** - the average difference a value is from the mean\n",
    "\n",
    "Many of these really only apply to numeric variables."
   ]
  },
  {
   "cell_type": "markdown",
   "id": "attended-bathroom",
   "metadata": {},
   "source": [
    "For example, here are some measures of dispersion of typical ages:"
   ]
  },
  {
   "cell_type": "code",
   "execution_count": 56,
   "id": "eligible-spencer",
   "metadata": {},
   "outputs": [
    {
     "data": {
      "text/plain": [
       "   Min. 1st Qu.  Median    Mean 3rd Qu.    Max. \n",
       "  14.30   21.00   31.20   31.93   42.00   56.80 "
      ]
     },
     "metadata": {},
     "output_type": "display_data"
    }
   ],
   "source": [
    "country_ages <- read.csv(\"./data/median-age-our-world-in-data.csv\", header=TRUE, na=\"NA\")\n",
    "country_ages_2015 <- country_ages[country_ages$Year==2015,]\n",
    "summary(country_ages$Age)"
   ]
  },
  {
   "cell_type": "markdown",
   "id": "sudden-improvement",
   "metadata": {},
   "source": [
    "The lowest typical age is 14 years old (i.e., roughly half of the population are younger, and half older than this age), while the highest typical age is 57 years old.\n",
    "\n",
    "We observe that the mean age is 32 years old. To decide whether this is a good representation of the typical value for this variable, we calculate the standard deviation:"
   ]
  },
  {
   "cell_type": "code",
   "execution_count": 57,
   "id": "electronic-genealogy",
   "metadata": {},
   "outputs": [
    {
     "data": {
      "text/html": [
       "11.1344374181114"
      ],
      "text/latex": [
       "11.1344374181114"
      ],
      "text/markdown": [
       "11.1344374181114"
      ],
      "text/plain": [
       "[1] 11.13444"
      ]
     },
     "metadata": {},
     "output_type": "display_data"
    }
   ],
   "source": [
    "sd(country_ages$Age)"
   ]
  },
  {
   "cell_type": "markdown",
   "id": "graphic-chrome",
   "metadata": {},
   "source": [
    "On average, a country is within 11 years of the mean age. When we consider this statistic in light of the shape of the distribution (see above), we can conclude the typical age varies considerably across countries: there are at least 50 countries with a median age < 20 years old, and at least 40 with a median age > 40 years old.\n",
    "\n",
    "Therefore the mean and median summary statistics are not very representative of the typical country with regards to age."
   ]
  },
  {
   "cell_type": "markdown",
   "id": "rural-progress",
   "metadata": {},
   "source": [
    "### Univariate analysis"
   ]
  },
  {
   "cell_type": "markdown",
   "id": "caroline-province",
   "metadata": {},
   "source": [
    "As you may have guessed, *uni* variate analysis simply involves the analysis of *one* variable at a time. We may be interested in many variables in our study but we produce summaries of them separately, rather than trying to analyse them jointly (like in a correlation analysis).\n",
    "\n",
    "One variable, sounds simple right? Well yes, as long as:\n",
    "* You have variables that measure the concept you are interested in.\n",
    "* You recognise the data type (level of measurement) of each variable."
   ]
  },
  {
   "cell_type": "markdown",
   "id": "framed-privacy",
   "metadata": {},
   "source": [
    "### Importing data"
   ]
  },
  {
   "cell_type": "markdown",
   "id": "stone-qatar",
   "metadata": {},
   "source": [
    "The first step is to import the *Natsal-3* data for analysis."
   ]
  },
  {
   "cell_type": "code",
   "execution_count": 58,
   "id": "agreed-future",
   "metadata": {},
   "outputs": [
    {
     "data": {
      "text/html": [
       "<table class=\"dataframe\">\n",
       "<caption>A data.frame: 6 × 20</caption>\n",
       "<thead>\n",
       "\t<tr><th></th><th scope=col>agrp</th><th scope=col>rsex</th><th scope=col>ethnicgrpr</th><th scope=col>sexidr</th><th scope=col>rnssecgp_6</th><th scope=col>adj_imd_quintile</th><th scope=col>rwcasual</th><th scope=col>snnolov</th><th scope=col>snpres</th><th scope=col>snold</th><th scope=col>snsexdrv</th><th scope=col>snmedia</th><th scope=col>snearly</th><th scope=col>attconservative</th><th scope=col>dage1ch</th><th scope=col>disabil2</th><th scope=col>depscr</th><th scope=col>religimp</th><th scope=col>relstatr</th><th scope=col>total_wt</th></tr>\n",
       "\t<tr><th></th><th scope=col>&lt;int&gt;</th><th scope=col>&lt;int&gt;</th><th scope=col>&lt;int&gt;</th><th scope=col>&lt;int&gt;</th><th scope=col>&lt;int&gt;</th><th scope=col>&lt;int&gt;</th><th scope=col>&lt;int&gt;</th><th scope=col>&lt;int&gt;</th><th scope=col>&lt;int&gt;</th><th scope=col>&lt;int&gt;</th><th scope=col>&lt;int&gt;</th><th scope=col>&lt;int&gt;</th><th scope=col>&lt;int&gt;</th><th scope=col>&lt;dbl&gt;</th><th scope=col>&lt;int&gt;</th><th scope=col>&lt;int&gt;</th><th scope=col>&lt;int&gt;</th><th scope=col>&lt;int&gt;</th><th scope=col>&lt;int&gt;</th><th scope=col>&lt;dbl&gt;</th></tr>\n",
       "</thead>\n",
       "<tbody>\n",
       "\t<tr><th scope=row>1</th><td>2</td><td>1</td><td>1</td><td>1</td><td>4</td><td>3</td><td>1</td><td>4</td><td>2</td><td>2</td><td>2</td><td>2</td><td>1</td><td> 1.3665446</td><td>-1</td><td>1</td><td> 0</td><td>2</td><td> 7</td><td>0.4605145</td></tr>\n",
       "\t<tr><th scope=row>2</th><td>3</td><td>2</td><td>1</td><td>1</td><td>5</td><td>3</td><td>5</td><td>2</td><td>3</td><td>4</td><td>4</td><td>4</td><td>3</td><td>-2.3896493</td><td>-1</td><td>1</td><td> 0</td><td>4</td><td> 2</td><td>1.9239441</td></tr>\n",
       "\t<tr><th scope=row>3</th><td>1</td><td>2</td><td>1</td><td>1</td><td>8</td><td>4</td><td>3</td><td>2</td><td>4</td><td>4</td><td>2</td><td>2</td><td>2</td><td>-0.7515043</td><td>-1</td><td>1</td><td> 0</td><td>3</td><td> 3</td><td>1.0208558</td></tr>\n",
       "\t<tr><th scope=row>4</th><td>4</td><td>2</td><td>2</td><td>2</td><td>5</td><td>5</td><td>1</td><td>5</td><td>4</td><td>8</td><td>3</td><td>1</td><td>1</td><td>        NA</td><td>28</td><td>1</td><td> 1</td><td>1</td><td>NA</td><td>0.8074293</td></tr>\n",
       "\t<tr><th scope=row>5</th><td>2</td><td>1</td><td>2</td><td>2</td><td>1</td><td>5</td><td>1</td><td>5</td><td>8</td><td>8</td><td>4</td><td>8</td><td>1</td><td>        NA</td><td>23</td><td>1</td><td> 0</td><td>1</td><td> 1</td><td>1.0390816</td></tr>\n",
       "\t<tr><th scope=row>6</th><td>1</td><td>2</td><td>2</td><td>1</td><td>8</td><td>4</td><td>1</td><td>5</td><td>1</td><td>4</td><td>2</td><td>2</td><td>2</td><td> 0.9944980</td><td>-1</td><td>1</td><td>-1</td><td>1</td><td> 7</td><td>0.5381795</td></tr>\n",
       "</tbody>\n",
       "</table>\n"
      ],
      "text/latex": [
       "A data.frame: 6 × 20\n",
       "\\begin{tabular}{r|llllllllllllllllllll}\n",
       "  & agrp & rsex & ethnicgrpr & sexidr & rnssecgp\\_6 & adj\\_imd\\_quintile & rwcasual & snnolov & snpres & snold & snsexdrv & snmedia & snearly & attconservative & dage1ch & disabil2 & depscr & religimp & relstatr & total\\_wt\\\\\n",
       "  & <int> & <int> & <int> & <int> & <int> & <int> & <int> & <int> & <int> & <int> & <int> & <int> & <int> & <dbl> & <int> & <int> & <int> & <int> & <int> & <dbl>\\\\\n",
       "\\hline\n",
       "\t1 & 2 & 1 & 1 & 1 & 4 & 3 & 1 & 4 & 2 & 2 & 2 & 2 & 1 &  1.3665446 & -1 & 1 &  0 & 2 &  7 & 0.4605145\\\\\n",
       "\t2 & 3 & 2 & 1 & 1 & 5 & 3 & 5 & 2 & 3 & 4 & 4 & 4 & 3 & -2.3896493 & -1 & 1 &  0 & 4 &  2 & 1.9239441\\\\\n",
       "\t3 & 1 & 2 & 1 & 1 & 8 & 4 & 3 & 2 & 4 & 4 & 2 & 2 & 2 & -0.7515043 & -1 & 1 &  0 & 3 &  3 & 1.0208558\\\\\n",
       "\t4 & 4 & 2 & 2 & 2 & 5 & 5 & 1 & 5 & 4 & 8 & 3 & 1 & 1 &         NA & 28 & 1 &  1 & 1 & NA & 0.8074293\\\\\n",
       "\t5 & 2 & 1 & 2 & 2 & 1 & 5 & 1 & 5 & 8 & 8 & 4 & 8 & 1 &         NA & 23 & 1 &  0 & 1 &  1 & 1.0390816\\\\\n",
       "\t6 & 1 & 2 & 2 & 1 & 8 & 4 & 1 & 5 & 1 & 4 & 2 & 2 & 2 &  0.9944980 & -1 & 1 & -1 & 1 &  7 & 0.5381795\\\\\n",
       "\\end{tabular}\n"
      ],
      "text/markdown": [
       "\n",
       "A data.frame: 6 × 20\n",
       "\n",
       "| <!--/--> | agrp &lt;int&gt; | rsex &lt;int&gt; | ethnicgrpr &lt;int&gt; | sexidr &lt;int&gt; | rnssecgp_6 &lt;int&gt; | adj_imd_quintile &lt;int&gt; | rwcasual &lt;int&gt; | snnolov &lt;int&gt; | snpres &lt;int&gt; | snold &lt;int&gt; | snsexdrv &lt;int&gt; | snmedia &lt;int&gt; | snearly &lt;int&gt; | attconservative &lt;dbl&gt; | dage1ch &lt;int&gt; | disabil2 &lt;int&gt; | depscr &lt;int&gt; | religimp &lt;int&gt; | relstatr &lt;int&gt; | total_wt &lt;dbl&gt; |\n",
       "|---|---|---|---|---|---|---|---|---|---|---|---|---|---|---|---|---|---|---|---|---|\n",
       "| 1 | 2 | 1 | 1 | 1 | 4 | 3 | 1 | 4 | 2 | 2 | 2 | 2 | 1 |  1.3665446 | -1 | 1 |  0 | 2 |  7 | 0.4605145 |\n",
       "| 2 | 3 | 2 | 1 | 1 | 5 | 3 | 5 | 2 | 3 | 4 | 4 | 4 | 3 | -2.3896493 | -1 | 1 |  0 | 4 |  2 | 1.9239441 |\n",
       "| 3 | 1 | 2 | 1 | 1 | 8 | 4 | 3 | 2 | 4 | 4 | 2 | 2 | 2 | -0.7515043 | -1 | 1 |  0 | 3 |  3 | 1.0208558 |\n",
       "| 4 | 4 | 2 | 2 | 2 | 5 | 5 | 1 | 5 | 4 | 8 | 3 | 1 | 1 |         NA | 28 | 1 |  1 | 1 | NA | 0.8074293 |\n",
       "| 5 | 2 | 1 | 2 | 2 | 1 | 5 | 1 | 5 | 8 | 8 | 4 | 8 | 1 |         NA | 23 | 1 |  0 | 1 |  1 | 1.0390816 |\n",
       "| 6 | 1 | 2 | 2 | 1 | 8 | 4 | 1 | 5 | 1 | 4 | 2 | 2 | 2 |  0.9944980 | -1 | 1 | -1 | 1 |  7 | 0.5381795 |\n",
       "\n"
      ],
      "text/plain": [
       "  agrp rsex ethnicgrpr sexidr rnssecgp_6 adj_imd_quintile rwcasual snnolov\n",
       "1 2    1    1          1      4          3                1        4      \n",
       "2 3    2    1          1      5          3                5        2      \n",
       "3 1    2    1          1      8          4                3        2      \n",
       "4 4    2    2          2      5          5                1        5      \n",
       "5 2    1    2          2      1          5                1        5      \n",
       "6 1    2    2          1      8          4                1        5      \n",
       "  snpres snold snsexdrv snmedia snearly attconservative dage1ch disabil2 depscr\n",
       "1 2      2     2        2       1        1.3665446      -1      1         0    \n",
       "2 3      4     4        4       3       -2.3896493      -1      1         0    \n",
       "3 4      4     2        2       2       -0.7515043      -1      1         0    \n",
       "4 4      8     3        1       1               NA      28      1         1    \n",
       "5 8      8     4        8       1               NA      23      1         0    \n",
       "6 1      4     2        2       2        0.9944980      -1      1        -1    \n",
       "  religimp relstatr total_wt \n",
       "1 2         7       0.4605145\n",
       "2 4         2       1.9239441\n",
       "3 3         3       1.0208558\n",
       "4 1        NA       0.8074293\n",
       "5 1         1       1.0390816\n",
       "6 1         7       0.5381795"
      ]
     },
     "metadata": {},
     "output_type": "display_data"
    }
   ],
   "source": [
    "natsal <- read.table(\"./data/natsal_3_teaching_open.tab\", header=TRUE, na=\"NA\", sep=\"\\t\")\n",
    "head(natsal) # view the first six observations"
   ]
  },
  {
   "cell_type": "markdown",
   "id": "based-thousand",
   "metadata": {},
   "source": [
    "Let's get a list of variable names and see which ones relate to our two concepts (*religious beliefs* and *sexual attitudes/behaviours*)."
   ]
  },
  {
   "cell_type": "code",
   "execution_count": 59,
   "id": "greek-result",
   "metadata": {},
   "outputs": [
    {
     "data": {
      "text/html": [
       "<style>\n",
       ".list-inline {list-style: none; margin:0; padding: 0}\n",
       ".list-inline>li {display: inline-block}\n",
       ".list-inline>li:not(:last-child)::after {content: \"\\00b7\"; padding: 0 .5ex}\n",
       "</style>\n",
       "<ol class=list-inline><li>'agrp'</li><li>'rsex'</li><li>'ethnicgrpr'</li><li>'sexidr'</li><li>'rnssecgp_6'</li><li>'adj_imd_quintile'</li><li>'rwcasual'</li><li>'snnolov'</li><li>'snpres'</li><li>'snold'</li><li>'snsexdrv'</li><li>'snmedia'</li><li>'snearly'</li><li>'attconservative'</li><li>'dage1ch'</li><li>'disabil2'</li><li>'depscr'</li><li>'religimp'</li><li>'relstatr'</li><li>'total_wt'</li></ol>\n"
      ],
      "text/latex": [
       "\\begin{enumerate*}\n",
       "\\item 'agrp'\n",
       "\\item 'rsex'\n",
       "\\item 'ethnicgrpr'\n",
       "\\item 'sexidr'\n",
       "\\item 'rnssecgp\\_6'\n",
       "\\item 'adj\\_imd\\_quintile'\n",
       "\\item 'rwcasual'\n",
       "\\item 'snnolov'\n",
       "\\item 'snpres'\n",
       "\\item 'snold'\n",
       "\\item 'snsexdrv'\n",
       "\\item 'snmedia'\n",
       "\\item 'snearly'\n",
       "\\item 'attconservative'\n",
       "\\item 'dage1ch'\n",
       "\\item 'disabil2'\n",
       "\\item 'depscr'\n",
       "\\item 'religimp'\n",
       "\\item 'relstatr'\n",
       "\\item 'total\\_wt'\n",
       "\\end{enumerate*}\n"
      ],
      "text/markdown": [
       "1. 'agrp'\n",
       "2. 'rsex'\n",
       "3. 'ethnicgrpr'\n",
       "4. 'sexidr'\n",
       "5. 'rnssecgp_6'\n",
       "6. 'adj_imd_quintile'\n",
       "7. 'rwcasual'\n",
       "8. 'snnolov'\n",
       "9. 'snpres'\n",
       "10. 'snold'\n",
       "11. 'snsexdrv'\n",
       "12. 'snmedia'\n",
       "13. 'snearly'\n",
       "14. 'attconservative'\n",
       "15. 'dage1ch'\n",
       "16. 'disabil2'\n",
       "17. 'depscr'\n",
       "18. 'religimp'\n",
       "19. 'relstatr'\n",
       "20. 'total_wt'\n",
       "\n",
       "\n"
      ],
      "text/plain": [
       " [1] \"agrp\"             \"rsex\"             \"ethnicgrpr\"       \"sexidr\"          \n",
       " [5] \"rnssecgp_6\"       \"adj_imd_quintile\" \"rwcasual\"         \"snnolov\"         \n",
       " [9] \"snpres\"           \"snold\"            \"snsexdrv\"         \"snmedia\"         \n",
       "[13] \"snearly\"          \"attconservative\"  \"dage1ch\"          \"disabil2\"        \n",
       "[17] \"depscr\"           \"religimp\"         \"relstatr\"         \"total_wt\"        "
      ]
     },
     "metadata": {},
     "output_type": "display_data"
    }
   ],
   "source": [
    "names(natsal)"
   ]
  },
  {
   "cell_type": "markdown",
   "id": "legendary-tactics",
   "metadata": {},
   "source": [
    "After looking up the [codebook](./codebook/8786_natsal_open_codebook_feb21.pdf), there are two variables definitely of interest:\n",
    "* `attconservative` is a measure of how conservative a respondent's attitudes to sex are: higher scores indicate more conservative attitudes. Therefore this is a numeric variable, specifically an interval variable.\n",
    "* `religimp` is a measure of the current importance of religious beliefs to a respondent: responses range from \"Very important\" to \"Not important at all\". Therefore this is a categorical variable, specifically an ordinal variable.\n",
    "\n",
    "Let's focus on summarising the values of each of these variables."
   ]
  },
  {
   "cell_type": "markdown",
   "id": "finite-edward",
   "metadata": {},
   "source": [
    "### Labelling values"
   ]
  },
  {
   "cell_type": "markdown",
   "id": "treated-klein",
   "metadata": {},
   "source": [
    "You may have noticed that it is difficult / impossible to know what the values of a variable mean without the [codebook](./codebook/8786_natsal_open_codebook_feb21.pdf). This isn't much of a problem with numeric variables, but is when dealing with categorical variables.\n",
    "\n",
    "We can make things easier for ourselves by attaching labels to specific values. \n",
    "\n",
    "Consider the age group variable (`agrp`):"
   ]
  },
  {
   "cell_type": "code",
   "execution_count": 60,
   "id": "chubby-laundry",
   "metadata": {},
   "outputs": [
    {
     "data": {
      "text/plain": [
       "\n",
       "   1    2    3    4    5    6 \n",
       " 960 1027  533  491  404  384 "
      ]
     },
     "metadata": {},
     "output_type": "display_data"
    }
   ],
   "source": [
    "table(natsal$agrp)"
   ]
  },
  {
   "cell_type": "markdown",
   "id": "functioning-antenna",
   "metadata": {},
   "source": [
    "We can probably infer that the value \"1\" refers to the youngest age group and so on. However it is inefficient to have to consult the codebook to learn what age group specifically is represented by this value (it is \"16-24\"). Therefore let's use *R* to attach labels:"
   ]
  },
  {
   "cell_type": "code",
   "execution_count": 61,
   "id": "instant-captain",
   "metadata": {},
   "outputs": [],
   "source": [
    "natsal$agrp <- factor(natsal$agrp, levels = c(1,2,3,4,5,6), labels = c(\"16-24\", \"25-34\", \"35-44\", \n",
    "                                                                       \"45-54\", \"55-64\", \"65-74\"))"
   ]
  },
  {
   "cell_type": "markdown",
   "id": "latter-savings",
   "metadata": {},
   "source": [
    "Now we can see the labels when we view the values of the variable:"
   ]
  },
  {
   "cell_type": "code",
   "execution_count": 62,
   "id": "interior-price",
   "metadata": {},
   "outputs": [
    {
     "data": {
      "text/plain": [
       "\n",
       "16-24 25-34 35-44 45-54 55-64 65-74 \n",
       "  960  1027   533   491   404   384 "
      ]
     },
     "metadata": {},
     "output_type": "display_data"
    }
   ],
   "source": [
    "table(natsal$agrp)"
   ]
  },
  {
   "cell_type": "markdown",
   "id": "fleet-faculty",
   "metadata": {},
   "source": [
    "**TASK:** Execute the code below to add labels for other variables."
   ]
  },
  {
   "cell_type": "code",
   "execution_count": 63,
   "id": "divided-proposal",
   "metadata": {},
   "outputs": [],
   "source": [
    "natsal$religimp <- factor(natsal$religimp, levels = c(1,2,3,4,9), labels = c(\"Very important\", \"Fairly important\", \n",
    "                                                                             \"Not very important\", \"Not important at all\", \"Not answered\"))"
   ]
  },
  {
   "cell_type": "code",
   "execution_count": 64,
   "id": "acting-freedom",
   "metadata": {},
   "outputs": [],
   "source": [
    "natsal$rsex <- factor(natsal$rsex, levels = c(1,2), labels = c(\"Male\", \"Female\"))"
   ]
  },
  {
   "cell_type": "code",
   "execution_count": 65,
   "id": "horizontal-absolute",
   "metadata": {},
   "outputs": [],
   "source": [
    "natsal$ethnicgrp <- factor(natsal$ethnicgrp, levels = c(1,2,9), labels = c(\"White\", \"Non-white\", \"Not answered\"))"
   ]
  },
  {
   "cell_type": "markdown",
   "id": "thermal-valve",
   "metadata": {},
   "source": [
    "### Summarising categorical variables"
   ]
  },
  {
   "cell_type": "markdown",
   "id": "faced-dietary",
   "metadata": {},
   "source": [
    "One of the core ways of analysing a categorical variable is to examine the frequency with which each category occurs. That is, we look at the variable's *frequency distribution*. Recall that a *distribution* is a summary of the variation in a variable: that is, observations have different values for a variable and these values form a pattern."
   ]
  },
  {
   "cell_type": "code",
   "execution_count": 66,
   "id": "intelligent-supplement",
   "metadata": {},
   "outputs": [
    {
     "data": {
      "text/plain": [
       "\n",
       "16-24 25-34 35-44 45-54 55-64 65-74 \n",
       "  960  1027   533   491   404   384 "
      ]
     },
     "metadata": {},
     "output_type": "display_data"
    }
   ],
   "source": [
    "table(natsal$agrp)"
   ]
  },
  {
   "cell_type": "code",
   "execution_count": 67,
   "id": "sweet-vertex",
   "metadata": {},
   "outputs": [
    {
     "data": {
      "text/plain": [
       "\n",
       "      Very important     Fairly important   Not very important \n",
       "                 550                  935                 1102 \n",
       "Not important at all         Not answered \n",
       "                1194                   18 "
      ]
     },
     "metadata": {},
     "output_type": "display_data"
    }
   ],
   "source": [
    "table(natsal$religimp)"
   ]
  },
  {
   "cell_type": "markdown",
   "id": "standard-turkish",
   "metadata": {},
   "source": [
    "The `table()` command is pretty basic but does give us some useful information. For instance we learn that over 2,000 respondents think religion is either not very important or not important at all. The most common category - the **mode** - is \"Not important at all\"."
   ]
  },
  {
   "cell_type": "markdown",
   "id": "otherwise-domestic",
   "metadata": {},
   "source": [
    "It would be useful to know the percentage of observations in each category. *R* doesn't make this as easy as we would like but it can be achieved like so:"
   ]
  },
  {
   "cell_type": "code",
   "execution_count": 68,
   "id": "alone-transfer",
   "metadata": {},
   "outputs": [
    {
     "data": {
      "text/plain": [
       "\n",
       "      Very important     Fairly important   Not very important \n",
       "                  14                   25                   29 \n",
       "Not important at all         Not answered \n",
       "                  31                    0 "
      ]
     },
     "metadata": {},
     "output_type": "display_data"
    }
   ],
   "source": [
    "round(prop.table(table(natsal$religimp)) * 100, 0)"
   ]
  },
  {
   "cell_type": "markdown",
   "id": "pregnant-wells",
   "metadata": {},
   "source": [
    "Now we can see that a majority (60%) of respondents think religion is either not very important or not important at all, and just 14% think is very important."
   ]
  },
  {
   "cell_type": "markdown",
   "id": "rolled-acoustic",
   "metadata": {},
   "source": [
    "Finally, summarising the distribution of a categorical variable is often best done through a graph or visualisation. A common graph type for categorical variables is a **bar chart**."
   ]
  },
  {
   "cell_type": "code",
   "execution_count": 69,
   "id": "senior-making",
   "metadata": {},
   "outputs": [
    {
     "data": {
      "image/png": "[encoded data removed]",
      "text/plain": [
       "plot without title"
      ]
     },
     "metadata": {
      "image/png": {
       "height": 420,
       "width": 420
      }
     },
     "output_type": "display_data"
    }
   ],
   "source": [
    "barplot(table(natsal$religimp))"
   ]
  },
  {
   "cell_type": "markdown",
   "id": "humanitarian-leisure",
   "metadata": {},
   "source": [
    "We can clearly see the pattern in the distribution using a bar chart: respondents are more likely to say religion is unimportant."
   ]
  },
  {
   "cell_type": "markdown",
   "id": "retired-stopping",
   "metadata": {},
   "source": [
    "Don't worry about the basic presentation of the graph: we will produce more visually appealing graphs in later weeks."
   ]
  },
  {
   "cell_type": "markdown",
   "id": "sexual-gates",
   "metadata": {},
   "source": [
    "**TASK:** Use frequency tables and bar charts to summarise the `agegrp` and `rsex` variables."
   ]
  },
  {
   "cell_type": "code",
   "execution_count": 70,
   "id": "wrapped-final",
   "metadata": {},
   "outputs": [],
   "source": [
    "# INSERT CODE HERE"
   ]
  },
  {
   "cell_type": "markdown",
   "id": "united-kidney",
   "metadata": {},
   "source": [
    "### Summarising numeric variables"
   ]
  },
  {
   "cell_type": "markdown",
   "id": "broken-coupon",
   "metadata": {},
   "source": [
    "One of the core ways of analysing a numeric variable is to calculate measures of central tendency, in particular the **mean** and **median**:"
   ]
  },
  {
   "cell_type": "code",
   "execution_count": 71,
   "id": "breathing-liberal",
   "metadata": {},
   "outputs": [
    {
     "data": {
      "text/html": [
       "15.2003158725981"
      ],
      "text/latex": [
       "15.2003158725981"
      ],
      "text/markdown": [
       "15.2003158725981"
      ],
      "text/plain": [
       "[1] 15.20032"
      ]
     },
     "metadata": {},
     "output_type": "display_data"
    }
   ],
   "source": [
    "mean(natsal$dage1ch)"
   ]
  },
  {
   "cell_type": "code",
   "execution_count": 72,
   "id": "gentle-custody",
   "metadata": {},
   "outputs": [
    {
     "data": {
      "text/html": [
       "18"
      ],
      "text/latex": [
       "18"
      ],
      "text/markdown": [
       "18"
      ],
      "text/plain": [
       "[1] 18"
      ]
     },
     "metadata": {},
     "output_type": "display_data"
    }
   ],
   "source": [
    "median(natsal$dage1ch)"
   ]
  },
  {
   "cell_type": "markdown",
   "id": "voluntary-motor",
   "metadata": {},
   "source": [
    "Here we see the mean and median values of the \"age at birth of first child\" variable. The mean represents the average value of this variable and is calculated by adding up all the values and dividing by the number of observations for this variable.\n",
    "\n",
    "The median represents the middle value: roughly 50% of respondents had a child when they were younger than 18, and 50% when they were older. "
   ]
  },
  {
   "cell_type": "markdown",
   "id": "searching-sharp",
   "metadata": {},
   "source": [
    "These measures are useful for analysing typical or representative values of variable. However it is also important we consider the distribution of values, so we can assess just *how* useful the mean and median are.\n",
    "\n",
    "First we can view a summary of the **range** of values of this variable:"
   ]
  },
  {
   "cell_type": "code",
   "execution_count": 73,
   "id": "increasing-array",
   "metadata": {},
   "outputs": [
    {
     "data": {
      "text/plain": [
       "   Min. 1st Qu.  Median    Mean 3rd Qu.    Max. \n",
       "   -1.0    -1.0    18.0    15.2    25.0    99.0 "
      ]
     },
     "metadata": {},
     "output_type": "display_data"
    }
   ],
   "source": [
    "summary(natsal$dage1ch)"
   ]
  },
  {
   "cell_type": "markdown",
   "id": "royal-samuel",
   "metadata": {},
   "source": [
    "We get some seemingly nonsensical values for the minimum and maximum: clearly you cannot have a child at \"-1\" years old, and it is highly unlikely your first child arrives when you turn 99!\n",
    "\n",
    "Having consulted the codebook, we know that the value \"-1\" indicates that that this question was not relevant to a respondent, and \"99\" that a respondent did not answer the question even though it was relevant. Therefore let's drop observations where `dage1ch` equals \"-1\" or \"99\"."
   ]
  },
  {
   "cell_type": "code",
   "execution_count": 74,
   "id": "beautiful-pound",
   "metadata": {},
   "outputs": [],
   "source": [
    "dage1ch_valid <- subset(natsal, dage1ch > -1 & dage1ch < 99)"
   ]
  },
  {
   "cell_type": "code",
   "execution_count": 75,
   "id": "stopped-stranger",
   "metadata": {},
   "outputs": [
    {
     "data": {
      "text/plain": [
       "   Min. 1st Qu.  Median    Mean 3rd Qu.    Max. \n",
       "  15.00   21.00   24.00   24.84   28.00   40.00 "
      ]
     },
     "metadata": {},
     "output_type": "display_data"
    }
   ],
   "source": [
    "summary(dage1ch_valid$dage1ch)"
   ]
  },
  {
   "cell_type": "markdown",
   "id": "matched-grenada",
   "metadata": {},
   "source": [
    "Now we can see the true range of values."
   ]
  },
  {
   "cell_type": "markdown",
   "id": "chicken-lease",
   "metadata": {},
   "source": [
    "**QUESTION**: why have the values of the mean and median changed?"
   ]
  },
  {
   "cell_type": "markdown",
   "id": "informal-fundamentals",
   "metadata": {},
   "source": [
    "A common graph type for numeric variables is a **histogram**."
   ]
  },
  {
   "cell_type": "code",
   "execution_count": 76,
   "id": "forward-empire",
   "metadata": {},
   "outputs": [
    {
     "data": {
      "image/png": "[encoded data removed]",
      "text/plain": [
       "Plot with title \"Histogram of dage1ch_valid$dage1ch\""
      ]
     },
     "metadata": {
      "image/png": {
       "height": 420,
       "width": 420
      }
     },
     "output_type": "display_data"
    }
   ],
   "source": [
    "hist(dage1ch_valid$dage1ch, breaks = seq(15, 40, by=1)) # each bar represents a single age"
   ]
  },
  {
   "cell_type": "markdown",
   "id": "tropical-binary",
   "metadata": {},
   "source": [
    "We can clearly see the pattern in the distribution using a histogram: most respondents have their first child between the ages of 18 and 28, with a decreasing likelihood of being in your late thirties when having your first child. \n",
    "\n",
    "This type of distribution, where the values are bunched to the left, can be described as being **positively skewed**. That is, there are a small number of \"extreme\" or high values."
   ]
  },
  {
   "cell_type": "markdown",
   "id": "civilian-contamination",
   "metadata": {},
   "source": [
    "When we have a small range of values for a numeric variable, then a bar chart may also be appropriate:"
   ]
  },
  {
   "cell_type": "code",
   "execution_count": 77,
   "id": "forward-electricity",
   "metadata": {},
   "outputs": [
    {
     "data": {
      "image/png": "[encoded data removed]",
      "text/plain": [
       "plot without title"
      ]
     },
     "metadata": {
      "image/png": {
       "height": 420,
       "width": 420
      }
     },
     "output_type": "display_data"
    }
   ],
   "source": [
    "barplot(table(dage1ch_valid$dage1ch))"
   ]
  },
  {
   "cell_type": "markdown",
   "id": "offensive-transport",
   "metadata": {},
   "source": [
    "OK, let's return to our main numeric ariable of interest: `attconservative`"
   ]
  },
  {
   "cell_type": "code",
   "execution_count": 78,
   "id": "hairy-bradford",
   "metadata": {},
   "outputs": [
    {
     "data": {
      "text/plain": [
       "    Min.  1st Qu.   Median     Mean  3rd Qu.     Max.     NA's \n",
       "-3.88938 -0.67900 -0.02177 -0.01728  0.71396  2.59516      299 "
      ]
     },
     "metadata": {},
     "output_type": "display_data"
    }
   ],
   "source": [
    "summary(natsal$attconservative)"
   ]
  },
  {
   "cell_type": "code",
   "execution_count": 79,
   "id": "hundred-witness",
   "metadata": {},
   "outputs": [
    {
     "data": {
      "text/html": [
       "-0.0172798099715208"
      ],
      "text/latex": [
       "-0.0172798099715208"
      ],
      "text/markdown": [
       "-0.0172798099715208"
      ],
      "text/plain": [
       "[1] -0.01727981"
      ]
     },
     "metadata": {},
     "output_type": "display_data"
    }
   ],
   "source": [
    "mean(natsal$attconservative, na.rm=TRUE) # ignore missing values when calculating the mean"
   ]
  },
  {
   "cell_type": "code",
   "execution_count": 80,
   "id": "specified-childhood",
   "metadata": {},
   "outputs": [
    {
     "data": {
      "text/html": [
       "-0.0217739754666139"
      ],
      "text/latex": [
       "-0.0217739754666139"
      ],
      "text/markdown": [
       "-0.0217739754666139"
      ],
      "text/plain": [
       "[1] -0.02177398"
      ]
     },
     "metadata": {},
     "output_type": "display_data"
    }
   ],
   "source": [
    "median(natsal$attconservative, na.rm=TRUE) # ignore missing values when calculating the mean)"
   ]
  },
  {
   "cell_type": "code",
   "execution_count": 81,
   "id": "double-excess",
   "metadata": {},
   "outputs": [
    {
     "data": {
      "image/png": "[encoded data removed]",
      "text/plain": [
       "Plot with title \"Histogram of natsal$attconservative\""
      ]
     },
     "metadata": {
      "image/png": {
       "height": 420,
       "width": 420
      }
     },
     "output_type": "display_data"
    }
   ],
   "source": [
    "hist(natsal$attconservative)"
   ]
  },
  {
   "cell_type": "markdown",
   "id": "british-dayton",
   "metadata": {},
   "source": [
    "The exact values of this variable are not inherently meaningful, they simply represent a scale of how conservative a respondent's attitudes to sex are: postive values of this variable indicate a more conservative attitude to sex, negative values a more liberal attitude. The average respondent is slightly conservative in their attitudes to sex, though most respondents have a score slightly below or above 0."
   ]
  },
  {
   "cell_type": "markdown",
   "id": "japanese-balloon",
   "metadata": {},
   "source": [
    "Let's assess the distribution of this variable using some measures of dispersion:"
   ]
  },
  {
   "cell_type": "code",
   "execution_count": 82,
   "id": "square-attempt",
   "metadata": {},
   "outputs": [
    {
     "data": {
      "text/plain": [
       "    Min.  1st Qu.   Median     Mean  3rd Qu.     Max.     NA's \n",
       "-3.88938 -0.67900 -0.02177 -0.01728  0.71396  2.59516      299 "
      ]
     },
     "metadata": {},
     "output_type": "display_data"
    }
   ],
   "source": [
    "summary(natsal$attconservative)"
   ]
  },
  {
   "cell_type": "code",
   "execution_count": 83,
   "id": "balanced-tiffany",
   "metadata": {},
   "outputs": [
    {
     "data": {
      "text/html": [
       "1.00744962869389"
      ],
      "text/latex": [
       "1.00744962869389"
      ],
      "text/markdown": [
       "1.00744962869389"
      ],
      "text/plain": [
       "[1] 1.00745"
      ]
     },
     "metadata": {},
     "output_type": "display_data"
    }
   ],
   "source": [
    "sd(natsal$attconservative, na.rm=TRUE)"
   ]
  },
  {
   "cell_type": "markdown",
   "id": "material-congo",
   "metadata": {},
   "source": [
    "**QUESTION**: How would you describe how representative the mean/median is for this variable? That is, how closely packed are values around these measures?"
   ]
  },
  {
   "cell_type": "markdown",
   "id": "editorial-poetry",
   "metadata": {},
   "source": [
    "## Conclusion"
   ]
  },
  {
   "cell_type": "markdown",
   "id": "happy-starter",
   "metadata": {},
   "source": [
    "In this lesson we encountered a range of techniques for summarising categorical and numeric variables one at a time.\n",
    "\n",
    "In this next lesson we focus on summarising the joint distribution of two variables, a technique known as *bivariate* analysis."
   ]
  }
 ],
 "metadata": {
  "kernelspec": {
   "display_name": "R",
   "language": "R",
   "name": "ir"
  },
  "language_info": {
   "codemirror_mode": "r",
   "file_extension": ".r",
   "mimetype": "text/x-r-source",
   "name": "R",
   "pygments_lexer": "r",
   "version": "4.1.1"
  }
 },
 "nbformat": 4,
 "nbformat_minor": 5
}
