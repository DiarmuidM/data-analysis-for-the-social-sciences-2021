{
 "cells": [
  {
   "cell_type": "markdown",
   "id": "otherwise-cache",
   "metadata": {},
   "source": [
    "<p align=\"right\"><i>Data Analysis for the Social Sciences - Part II - 2021-11-15</i></p>"
   ]
  },
  {
   "cell_type": "markdown",
   "id": "dynamic-conjunction",
   "metadata": {},
   "source": [
    "# Quantitative Data Analysis"
   ]
  },
  {
   "cell_type": "markdown",
   "id": "exclusive-methodology",
   "metadata": {},
   "source": [
    "Welcome to Part II of Data Analysis for the Social Sciences. In this stream - Quantitative Data Analysis - we will conduct a range of statistical analyses in order to answer the following research question:"
   ]
  },
  {
   "cell_type": "markdown",
   "id": "bibliographic-stranger",
   "metadata": {},
   "source": [
    "<p><center><i>Is religion associated with differences in sexual attitudes and behaviours among British people?</i></center></p>"
   ]
  },
  {
   "cell_type": "markdown",
   "id": "scenic-silly",
   "metadata": {},
   "source": [
    "### Aims\n",
    "\n",
    "This lesson - **Univariate Analysis** - has two aims:\n",
    "1. Demonstrate how to analyse categorical and numeric variables individually.\n",
    "2. Cultivate your computational skills through the use of the statistical programming langauge *R*. For example, there are a number of opportunities for you to amend or write R syntax (code)."
   ]
  },
  {
   "cell_type": "markdown",
   "id": "judicial-prediction",
   "metadata": {},
   "source": [
    "### Lesson details\n",
    "\n",
    "* **Level**: Introductory, for individuals with no prior knowledge or experience of quantitative data analysis.\n",
    "* **Duration**: 30-45 minutes.\n",
    "* **Pre-requisites**: None.\n",
    "* **Programming language**: R.\n",
    "* **Learning outcomes**:\n",
    "\t1. Understand how to use R for conducting univariate data analysis.\n",
    "\t2. Understand how to select and apply common data analysis techniques for categorical and numeric variables."
   ]
  },
  {
   "cell_type": "markdown",
   "id": "terminal-agenda",
   "metadata": {},
   "source": [
    "## Guide to using this resource\n",
    "\n",
    "This learning resource was built using <a href=\"https://jupyter.org/\" target=_blank>Jupyter Notebook</a>, an open-source software application that allows you to mix code, results and narrative in a single document. As <a href=\"https://jupyter4edu.github.io/jupyter-edu-book/\" target=_blank>Barba et al. (2019)</a> espouse:\n",
    "> In a world where every subject matter can have a data-supported treatment, where computational devices are omnipresent and pervasive, the union of natural language and computation creates compelling communication and learning opportunities.\n",
    "\n",
    "If you are familiar with Jupyter notebooks then skip ahead to the main content (*Exploring Data*). Otherwise, the following is a quick guide to navigating and interacting with the notebook."
   ]
  },
  {
   "cell_type": "markdown",
   "id": "interested-radar",
   "metadata": {},
   "source": [
    "### Interaction\n",
    "\n",
    "**You only need to execute the code that is contained in sections which are marked by `In []`.**\n",
    "\n",
    "To execute a cell, click or double-click the cell and press the `Run` button on the top toolbar (you can also use the keyboard shortcut `Shift + Enter`).\n",
    "\n",
    "Try it for yourself:"
   ]
  },
  {
   "cell_type": "code",
   "execution_count": null,
   "id": "dominican-hardware",
   "metadata": {},
   "outputs": [],
   "source": [
    "name <- readline(prompt=\"Enter name: \")\n",
    "print(paste(\"Hi,\", name, \"enjoy learning more about R and exploring data!\"))"
   ]
  },
  {
   "cell_type": "markdown",
   "id": "through-storm",
   "metadata": {},
   "source": [
    "Notebooks are sequential, meaning code should be executed in order (top to bottom). For example, the following code won't workL"
   ]
  },
  {
   "cell_type": "code",
   "execution_count": 2,
   "id": "outstanding-bulgaria",
   "metadata": {},
   "outputs": [
    {
     "ename": "ERROR",
     "evalue": "Error in eval(expr, envir, enclos): object 'x' not found\n",
     "output_type": "error",
     "traceback": [
      "Error in eval(expr, envir, enclos): object 'x' not found\nTraceback:\n"
     ]
    }
   ],
   "source": [
    "x * 5"
   ]
  },
  {
   "cell_type": "markdown",
   "id": "handmade-madagascar",
   "metadata": {},
   "source": [
    "As the error message suggests, there is no object (variable) called `x`, therefore we cannot do any calculations with it. \n",
    "\n",
    "Let's try a sequential approach:"
   ]
  },
  {
   "cell_type": "code",
   "execution_count": 4,
   "id": "addressed-assumption",
   "metadata": {},
   "outputs": [],
   "source": [
    "x <- 10 # create an object called 'x' and give it the value '10'"
   ]
  },
  {
   "cell_type": "code",
   "execution_count": 5,
   "id": "crucial-implement",
   "metadata": {},
   "outputs": [
    {
     "data": {
      "text/html": [
       "50"
      ],
      "text/latex": [
       "50"
      ],
      "text/markdown": [
       "50"
      ],
      "text/plain": [
       "[1] 50"
      ]
     },
     "metadata": {},
     "output_type": "display_data"
    }
   ],
   "source": [
    "x * 5 # multiply 'x' by 5"
   ]
  },
  {
   "cell_type": "markdown",
   "id": "covered-round",
   "metadata": {},
   "source": [
    "### Learn more\n",
    "\n",
    "Jupyter notebooks provide rich, flexible features for conducting and documenting your data analysis workflow. To learn more about additional notebook features, we recommend working through some of the <a href=\"https://github.com/darribas/gds19/blob/master/content/labs/lab_00.ipynb\" target=_blank>materials</a> provided by Dani Arribas-Bel at the University of Liverpool. "
   ]
  },
  {
   "cell_type": "markdown",
   "id": "floppy-escape",
   "metadata": {},
   "source": [
    "### Learner input\n",
    "\n",
    "Throughout the lessons there times when you need to do the following activities:\n",
    "* **TASK:** A coding task for you to complete (e.g. analyse different variables).\n",
    "* **QUESTION:** A question regarding your interpretation of some code or a technique (e.g. what is the piece of code doing?).\n",
    "* **EXERCISE:** A data analysis challenge for you to complete."
   ]
  },
  {
   "cell_type": "markdown",
   "id": "democratic-office",
   "metadata": {},
   "source": [
    "## Analysing Data"
   ]
  },
  {
   "cell_type": "markdown",
   "id": "respected-comedy",
   "metadata": {},
   "source": [
    "Once we have collected and explored our data, we can turn to the interesting part: analysis. Our ultimate aim is to answer our research question accurately: to do so we need to produce summaries of our key variables. In our case we need to analyse variables relating to religious beliefs and sexual attitudes/behaviours. \n",
    "\n",
    "How do we know which summaries to choose? We need to look at the **level of measurement** of each variable: are we dealing with categorical (e.g., marital status) or numeric (e.g., income) variables? We covered level of measurement in Week 2 but here is a quick refresher: "
   ]
  },
  {
   "cell_type": "markdown",
   "id": "enclosed-pulse",
   "metadata": {},
   "source": [
    "![Differentiation of numeric and categorical variables](./images/lvl_msr_diagr.png)"
   ]
  },
  {
   "cell_type": "markdown",
   "id": "modern-nursery",
   "metadata": {},
   "source": [
    "Source: [https://maczokni.github.io/MSCD_labs/week2.html#univariate-analysis](https://maczokni.github.io/MSCD_labs/week2.html#univariate-analysis)"
   ]
  },
  {
   "cell_type": "markdown",
   "id": "synthetic-amino",
   "metadata": {},
   "source": [
    "**Numeric variables** measure the amount or magnitude of some phenomenon. For example, how much income a person receives from their part-time job; how many people are classed as homeless in Scotland in a given year.\n",
    "\n",
    "**Categorical variables** measure the presence of some phenomenon. For example, a person's country of birth; marital status. These are examples of *nominal* categorical variables. However there is another type of categorical variable that also captures the rank or ordering of the categories. For example, a student's degree classification; social class; agreement with a statement (\"strongly agree\", \"agree\", \"disagree\"). These are examples of *ordinal* categorical variables."
   ]
  },
  {
   "cell_type": "markdown",
   "id": "controversial-interference",
   "metadata": {},
   "source": [
    "### What influences what? Independent and dependent variables [Move this section to bivariate analysis notebook]"
   ]
  },
  {
   "cell_type": "markdown",
   "id": "regular-nancy",
   "metadata": {},
   "source": [
    "Before we examine specific variables, it will help to clarify *how* we think religion and sexual attitudes/behaviours are linked. We can do this by specifying the *direction* of the relationship: that is, does religion influence sexual attitudes/behaviours, or is it the other way around (or both)?\n",
    "\n",
    "For our study we are claiming that people's sexual attitudes/behaviours can be explained or predicted by their religious beliefs. Therefore values for sexual attitudes/behaviours variable **depend** on the values of the religious beliefs variable."
   ]
  },
  {
   "cell_type": "markdown",
   "id": "rural-progress",
   "metadata": {},
   "source": [
    "### Univariate analysis"
   ]
  },
  {
   "cell_type": "markdown",
   "id": "caroline-province",
   "metadata": {},
   "source": [
    "As you may have guessed, *uni* variate analysis simply involves the analysis of *one* variable at a time. We may be interested in many variables in our study but we produce summaries of them separately, rather than trying to analyse them jointly (like in a correlation analysis).\n",
    "\n",
    "One variable, sounds simple right? Well yes, as long as:\n",
    "* You have variables that measure the concept you are interested in.\n",
    "* You recognise the data type (level of measurement) of each variable."
   ]
  },
  {
   "cell_type": "markdown",
   "id": "framed-privacy",
   "metadata": {},
   "source": [
    "### Importing data"
   ]
  },
  {
   "cell_type": "markdown",
   "id": "stone-qatar",
   "metadata": {},
   "source": [
    "The first step is to import the *Natsal-3* data for analysis."
   ]
  },
  {
   "cell_type": "code",
   "execution_count": 3,
   "id": "agreed-future",
   "metadata": {},
   "outputs": [
    {
     "data": {
      "text/html": [
       "<table class=\"dataframe\">\n",
       "<caption>A data.frame: 6 × 20</caption>\n",
       "<thead>\n",
       "\t<tr><th></th><th scope=col>agrp</th><th scope=col>rsex</th><th scope=col>ethnicgrpr</th><th scope=col>sexidr</th><th scope=col>rnssecgp_6</th><th scope=col>adj_imd_quintile</th><th scope=col>rwcasual</th><th scope=col>snnolov</th><th scope=col>snpres</th><th scope=col>snold</th><th scope=col>snsexdrv</th><th scope=col>snmedia</th><th scope=col>snearly</th><th scope=col>attconservative</th><th scope=col>dage1ch</th><th scope=col>disabil2</th><th scope=col>depscr</th><th scope=col>religimp</th><th scope=col>relstatr</th><th scope=col>total_wt</th></tr>\n",
       "\t<tr><th></th><th scope=col>&lt;int&gt;</th><th scope=col>&lt;int&gt;</th><th scope=col>&lt;int&gt;</th><th scope=col>&lt;int&gt;</th><th scope=col>&lt;int&gt;</th><th scope=col>&lt;int&gt;</th><th scope=col>&lt;int&gt;</th><th scope=col>&lt;int&gt;</th><th scope=col>&lt;int&gt;</th><th scope=col>&lt;int&gt;</th><th scope=col>&lt;int&gt;</th><th scope=col>&lt;int&gt;</th><th scope=col>&lt;int&gt;</th><th scope=col>&lt;dbl&gt;</th><th scope=col>&lt;int&gt;</th><th scope=col>&lt;int&gt;</th><th scope=col>&lt;int&gt;</th><th scope=col>&lt;int&gt;</th><th scope=col>&lt;int&gt;</th><th scope=col>&lt;dbl&gt;</th></tr>\n",
       "</thead>\n",
       "<tbody>\n",
       "\t<tr><th scope=row>1</th><td>2</td><td>1</td><td>1</td><td>1</td><td>4</td><td>3</td><td>1</td><td>4</td><td>2</td><td>2</td><td>2</td><td>2</td><td>1</td><td> 1.3665446</td><td>-1</td><td>1</td><td> 0</td><td>2</td><td> 7</td><td>0.4605145</td></tr>\n",
       "\t<tr><th scope=row>2</th><td>3</td><td>2</td><td>1</td><td>1</td><td>5</td><td>3</td><td>5</td><td>2</td><td>3</td><td>4</td><td>4</td><td>4</td><td>3</td><td>-2.3896493</td><td>-1</td><td>1</td><td> 0</td><td>4</td><td> 2</td><td>1.9239441</td></tr>\n",
       "\t<tr><th scope=row>3</th><td>1</td><td>2</td><td>1</td><td>1</td><td>8</td><td>4</td><td>3</td><td>2</td><td>4</td><td>4</td><td>2</td><td>2</td><td>2</td><td>-0.7515043</td><td>-1</td><td>1</td><td> 0</td><td>3</td><td> 3</td><td>1.0208558</td></tr>\n",
       "\t<tr><th scope=row>4</th><td>4</td><td>2</td><td>2</td><td>2</td><td>5</td><td>5</td><td>1</td><td>5</td><td>4</td><td>8</td><td>3</td><td>1</td><td>1</td><td>        NA</td><td>28</td><td>1</td><td> 1</td><td>1</td><td>NA</td><td>0.8074293</td></tr>\n",
       "\t<tr><th scope=row>5</th><td>2</td><td>1</td><td>2</td><td>2</td><td>1</td><td>5</td><td>1</td><td>5</td><td>8</td><td>8</td><td>4</td><td>8</td><td>1</td><td>        NA</td><td>23</td><td>1</td><td> 0</td><td>1</td><td> 1</td><td>1.0390816</td></tr>\n",
       "\t<tr><th scope=row>6</th><td>1</td><td>2</td><td>2</td><td>1</td><td>8</td><td>4</td><td>1</td><td>5</td><td>1</td><td>4</td><td>2</td><td>2</td><td>2</td><td> 0.9944980</td><td>-1</td><td>1</td><td>-1</td><td>1</td><td> 7</td><td>0.5381795</td></tr>\n",
       "</tbody>\n",
       "</table>\n"
      ],
      "text/latex": [
       "A data.frame: 6 × 20\n",
       "\\begin{tabular}{r|llllllllllllllllllll}\n",
       "  & agrp & rsex & ethnicgrpr & sexidr & rnssecgp\\_6 & adj\\_imd\\_quintile & rwcasual & snnolov & snpres & snold & snsexdrv & snmedia & snearly & attconservative & dage1ch & disabil2 & depscr & religimp & relstatr & total\\_wt\\\\\n",
       "  & <int> & <int> & <int> & <int> & <int> & <int> & <int> & <int> & <int> & <int> & <int> & <int> & <int> & <dbl> & <int> & <int> & <int> & <int> & <int> & <dbl>\\\\\n",
       "\\hline\n",
       "\t1 & 2 & 1 & 1 & 1 & 4 & 3 & 1 & 4 & 2 & 2 & 2 & 2 & 1 &  1.3665446 & -1 & 1 &  0 & 2 &  7 & 0.4605145\\\\\n",
       "\t2 & 3 & 2 & 1 & 1 & 5 & 3 & 5 & 2 & 3 & 4 & 4 & 4 & 3 & -2.3896493 & -1 & 1 &  0 & 4 &  2 & 1.9239441\\\\\n",
       "\t3 & 1 & 2 & 1 & 1 & 8 & 4 & 3 & 2 & 4 & 4 & 2 & 2 & 2 & -0.7515043 & -1 & 1 &  0 & 3 &  3 & 1.0208558\\\\\n",
       "\t4 & 4 & 2 & 2 & 2 & 5 & 5 & 1 & 5 & 4 & 8 & 3 & 1 & 1 &         NA & 28 & 1 &  1 & 1 & NA & 0.8074293\\\\\n",
       "\t5 & 2 & 1 & 2 & 2 & 1 & 5 & 1 & 5 & 8 & 8 & 4 & 8 & 1 &         NA & 23 & 1 &  0 & 1 &  1 & 1.0390816\\\\\n",
       "\t6 & 1 & 2 & 2 & 1 & 8 & 4 & 1 & 5 & 1 & 4 & 2 & 2 & 2 &  0.9944980 & -1 & 1 & -1 & 1 &  7 & 0.5381795\\\\\n",
       "\\end{tabular}\n"
      ],
      "text/markdown": [
       "\n",
       "A data.frame: 6 × 20\n",
       "\n",
       "| <!--/--> | agrp &lt;int&gt; | rsex &lt;int&gt; | ethnicgrpr &lt;int&gt; | sexidr &lt;int&gt; | rnssecgp_6 &lt;int&gt; | adj_imd_quintile &lt;int&gt; | rwcasual &lt;int&gt; | snnolov &lt;int&gt; | snpres &lt;int&gt; | snold &lt;int&gt; | snsexdrv &lt;int&gt; | snmedia &lt;int&gt; | snearly &lt;int&gt; | attconservative &lt;dbl&gt; | dage1ch &lt;int&gt; | disabil2 &lt;int&gt; | depscr &lt;int&gt; | religimp &lt;int&gt; | relstatr &lt;int&gt; | total_wt &lt;dbl&gt; |\n",
       "|---|---|---|---|---|---|---|---|---|---|---|---|---|---|---|---|---|---|---|---|---|\n",
       "| 1 | 2 | 1 | 1 | 1 | 4 | 3 | 1 | 4 | 2 | 2 | 2 | 2 | 1 |  1.3665446 | -1 | 1 |  0 | 2 |  7 | 0.4605145 |\n",
       "| 2 | 3 | 2 | 1 | 1 | 5 | 3 | 5 | 2 | 3 | 4 | 4 | 4 | 3 | -2.3896493 | -1 | 1 |  0 | 4 |  2 | 1.9239441 |\n",
       "| 3 | 1 | 2 | 1 | 1 | 8 | 4 | 3 | 2 | 4 | 4 | 2 | 2 | 2 | -0.7515043 | -1 | 1 |  0 | 3 |  3 | 1.0208558 |\n",
       "| 4 | 4 | 2 | 2 | 2 | 5 | 5 | 1 | 5 | 4 | 8 | 3 | 1 | 1 |         NA | 28 | 1 |  1 | 1 | NA | 0.8074293 |\n",
       "| 5 | 2 | 1 | 2 | 2 | 1 | 5 | 1 | 5 | 8 | 8 | 4 | 8 | 1 |         NA | 23 | 1 |  0 | 1 |  1 | 1.0390816 |\n",
       "| 6 | 1 | 2 | 2 | 1 | 8 | 4 | 1 | 5 | 1 | 4 | 2 | 2 | 2 |  0.9944980 | -1 | 1 | -1 | 1 |  7 | 0.5381795 |\n",
       "\n"
      ],
      "text/plain": [
       "  agrp rsex ethnicgrpr sexidr rnssecgp_6 adj_imd_quintile rwcasual snnolov\n",
       "1 2    1    1          1      4          3                1        4      \n",
       "2 3    2    1          1      5          3                5        2      \n",
       "3 1    2    1          1      8          4                3        2      \n",
       "4 4    2    2          2      5          5                1        5      \n",
       "5 2    1    2          2      1          5                1        5      \n",
       "6 1    2    2          1      8          4                1        5      \n",
       "  snpres snold snsexdrv snmedia snearly attconservative dage1ch disabil2 depscr\n",
       "1 2      2     2        2       1        1.3665446      -1      1         0    \n",
       "2 3      4     4        4       3       -2.3896493      -1      1         0    \n",
       "3 4      4     2        2       2       -0.7515043      -1      1         0    \n",
       "4 4      8     3        1       1               NA      28      1         1    \n",
       "5 8      8     4        8       1               NA      23      1         0    \n",
       "6 1      4     2        2       2        0.9944980      -1      1        -1    \n",
       "  religimp relstatr total_wt \n",
       "1 2         7       0.4605145\n",
       "2 4         2       1.9239441\n",
       "3 3         3       1.0208558\n",
       "4 1        NA       0.8074293\n",
       "5 1         1       1.0390816\n",
       "6 1         7       0.5381795"
      ]
     },
     "metadata": {},
     "output_type": "display_data"
    }
   ],
   "source": [
    "natsal <- read.table(\"./data/natsal_3_teaching_open.tab\", header=TRUE, na=\"NA\", sep=\"\\t\")\n",
    "head(natsal) # view the first six observations"
   ]
  },
  {
   "cell_type": "markdown",
   "id": "based-thousand",
   "metadata": {},
   "source": [
    "Let's get a list of variable names and see which ones relate to our two concepts (*religious beliefs* and *sexual attitudes/behaviours*)."
   ]
  },
  {
   "cell_type": "code",
   "execution_count": 4,
   "id": "greek-result",
   "metadata": {},
   "outputs": [
    {
     "data": {
      "text/html": [
       "<style>\n",
       ".list-inline {list-style: none; margin:0; padding: 0}\n",
       ".list-inline>li {display: inline-block}\n",
       ".list-inline>li:not(:last-child)::after {content: \"\\00b7\"; padding: 0 .5ex}\n",
       "</style>\n",
       "<ol class=list-inline><li>'agrp'</li><li>'rsex'</li><li>'ethnicgrpr'</li><li>'sexidr'</li><li>'rnssecgp_6'</li><li>'adj_imd_quintile'</li><li>'rwcasual'</li><li>'snnolov'</li><li>'snpres'</li><li>'snold'</li><li>'snsexdrv'</li><li>'snmedia'</li><li>'snearly'</li><li>'attconservative'</li><li>'dage1ch'</li><li>'disabil2'</li><li>'depscr'</li><li>'religimp'</li><li>'relstatr'</li><li>'total_wt'</li></ol>\n"
      ],
      "text/latex": [
       "\\begin{enumerate*}\n",
       "\\item 'agrp'\n",
       "\\item 'rsex'\n",
       "\\item 'ethnicgrpr'\n",
       "\\item 'sexidr'\n",
       "\\item 'rnssecgp\\_6'\n",
       "\\item 'adj\\_imd\\_quintile'\n",
       "\\item 'rwcasual'\n",
       "\\item 'snnolov'\n",
       "\\item 'snpres'\n",
       "\\item 'snold'\n",
       "\\item 'snsexdrv'\n",
       "\\item 'snmedia'\n",
       "\\item 'snearly'\n",
       "\\item 'attconservative'\n",
       "\\item 'dage1ch'\n",
       "\\item 'disabil2'\n",
       "\\item 'depscr'\n",
       "\\item 'religimp'\n",
       "\\item 'relstatr'\n",
       "\\item 'total\\_wt'\n",
       "\\end{enumerate*}\n"
      ],
      "text/markdown": [
       "1. 'agrp'\n",
       "2. 'rsex'\n",
       "3. 'ethnicgrpr'\n",
       "4. 'sexidr'\n",
       "5. 'rnssecgp_6'\n",
       "6. 'adj_imd_quintile'\n",
       "7. 'rwcasual'\n",
       "8. 'snnolov'\n",
       "9. 'snpres'\n",
       "10. 'snold'\n",
       "11. 'snsexdrv'\n",
       "12. 'snmedia'\n",
       "13. 'snearly'\n",
       "14. 'attconservative'\n",
       "15. 'dage1ch'\n",
       "16. 'disabil2'\n",
       "17. 'depscr'\n",
       "18. 'religimp'\n",
       "19. 'relstatr'\n",
       "20. 'total_wt'\n",
       "\n",
       "\n"
      ],
      "text/plain": [
       " [1] \"agrp\"             \"rsex\"             \"ethnicgrpr\"       \"sexidr\"          \n",
       " [5] \"rnssecgp_6\"       \"adj_imd_quintile\" \"rwcasual\"         \"snnolov\"         \n",
       " [9] \"snpres\"           \"snold\"            \"snsexdrv\"         \"snmedia\"         \n",
       "[13] \"snearly\"          \"attconservative\"  \"dage1ch\"          \"disabil2\"        \n",
       "[17] \"depscr\"           \"religimp\"         \"relstatr\"         \"total_wt\"        "
      ]
     },
     "metadata": {},
     "output_type": "display_data"
    }
   ],
   "source": [
    "names(natsal)"
   ]
  },
  {
   "cell_type": "markdown",
   "id": "legendary-tactics",
   "metadata": {},
   "source": [
    "After looking up the [codebook](./codebook/8786_natsal_open_codebook_feb21.pdf), there are two variables definitely of interest:\n",
    "* `attconservative` is a measure of how conservative a respondent's attitudes to sex are: higher scores indicate more conservative attitudes. Therefore this is a numeric variable, specifically an interval variable.\n",
    "* `religimp` is a measure of the current importance of religious beliefs to a respondent: responses range from \"Very important\" to \"Not important at all\". Therefore this is a categorical variable, specifically an ordinal variable.\n",
    "\n",
    "Let's focus on summarising the values of each of these variables."
   ]
  },
  {
   "cell_type": "markdown",
   "id": "thermal-valve",
   "metadata": {},
   "source": [
    "### Summarising categorical variables"
   ]
  },
  {
   "cell_type": "markdown",
   "id": "faced-dietary",
   "metadata": {},
   "source": [
    "One of the core ways of analysing a categorical variable is to examine the frequency with which each category occurs. That is, we look at the variable's *frequency distribution*. Recall that a *distribution* is a summary of the variation in a variable: that is, observations have different values for a variable and these differences form a pattern."
   ]
  },
  {
   "cell_type": "code",
   "execution_count": 10,
   "id": "intelligent-supplement",
   "metadata": {},
   "outputs": [
    {
     "data": {
      "text/plain": [
       "\n",
       "   1    2    3    4    5    6 \n",
       " 960 1027  533  491  404  384 "
      ]
     },
     "metadata": {},
     "output_type": "display_data"
    }
   ],
   "source": [
    "table(natsal$agrp)"
   ]
  },
  {
   "cell_type": "code",
   "execution_count": 7,
   "id": "sweet-vertex",
   "metadata": {},
   "outputs": [
    {
     "data": {
      "text/plain": [
       "\n",
       "   1    2    3    4    9 \n",
       " 550  935 1102 1194   18 "
      ]
     },
     "metadata": {},
     "output_type": "display_data"
    }
   ],
   "source": [
    "table(natsal$religimp)"
   ]
  },
  {
   "cell_type": "markdown",
   "id": "solid-jenny",
   "metadata": {},
   "source": [
    "Hmm, it would be useful if we didn't have to remember which category each number refers to. We can label the numbers of this variable like so (easier to create a cleaned dataset for use in Weeks 9-12):"
   ]
  },
  {
   "cell_type": "code",
   "execution_count": 6,
   "id": "impressive-occasions",
   "metadata": {},
   "outputs": [],
   "source": [
    "natsal$religimp <- as.factor(natsal$religimp)"
   ]
  },
  {
   "cell_type": "code",
   "execution_count": 8,
   "id": "postal-apparel",
   "metadata": {},
   "outputs": [
    {
     "data": {
      "text/html": [
       "'factor'"
      ],
      "text/latex": [
       "'factor'"
      ],
      "text/markdown": [
       "'factor'"
      ],
      "text/plain": [
       "[1] \"factor\""
      ]
     },
     "metadata": {},
     "output_type": "display_data"
    }
   ],
   "source": [
    "class(natsal$religimp)"
   ]
  },
  {
   "cell_type": "code",
   "execution_count": null,
   "id": "flexible-blues",
   "metadata": {},
   "outputs": [],
   "source": [
    "tail(natsal)"
   ]
  },
  {
   "cell_type": "markdown",
   "id": "confidential-negative",
   "metadata": {},
   "source": [
    "**QUESTION:** What do you think the `head()` and `tail()` commands do?"
   ]
  },
  {
   "cell_type": "markdown",
   "id": "sexual-gates",
   "metadata": {},
   "source": [
    "We can view a list of all of the variables in the dataset:"
   ]
  },
  {
   "cell_type": "code",
   "execution_count": null,
   "id": "wrapped-final",
   "metadata": {},
   "outputs": [],
   "source": [
    "names(natsal)"
   ]
  },
  {
   "cell_type": "markdown",
   "id": "broken-coupon",
   "metadata": {},
   "source": [
    "And get a sense of each variable's contents like so:"
   ]
  },
  {
   "cell_type": "code",
   "execution_count": null,
   "id": "breathing-liberal",
   "metadata": {},
   "outputs": [],
   "source": [
    "str(natsal)"
   ]
  },
  {
   "cell_type": "markdown",
   "id": "supposed-generation",
   "metadata": {},
   "source": [
    "We can see that each variable contains numeric values, however this does not mean there are no categorical variables in the dataset. Slightly confusing, I know: but remember that all quantitative data must be represented numerically, otherwise we have no way of counting or performing calculations. Therefore we need to know what the numbers **represent**. Let's do this using some obvious examples:\n",
    "* `rsex` is a binary measure of whether a respondent is male or female. As is common in quantitative social science, the male category is coded \"1\" and the female category \"2\". Therefore this is a categorical variable, specifically a nominal variable.\n",
    "* `agrp` is measure of which age group a respondent belongs to e.g., 16-24, 25-34. The youngest age group is coded \"1\" and subsequent groups are coded sequentially. Therefore this is a categorical variable, specifically an ordinal variable.\n",
    "* `attconservative` is a measure of how conservative a respondent's attitudes to sex are: higher scores indicate more conservative attitudes. Therefore this is a numeric variable, specifically an interval variable.\n",
    "\n",
    "How do we know what the numeric values represent? Helpfully, the UK Data Service has provided a description of each variable and its contents (known as a *codebook*): [Natsal Open Data Codebook](./8786_natsal_open_codebook_feb21.pdf)"
   ]
  },
  {
   "cell_type": "markdown",
   "id": "lucky-simon",
   "metadata": {},
   "source": [
    "#### Summarising variables"
   ]
  },
  {
   "cell_type": "markdown",
   "id": "handled-liverpool",
   "metadata": {},
   "source": [
    "Once we have an understanding of the data at a macro level (i.e., number of observations and variables, variable names and types), we can start to explore specific variables in more detail. Let's do this for three variables relevant to our research question:\n",
    "* `rsex`\n",
    "* `agrp`\n",
    "* `attconservative`"
   ]
  },
  {
   "cell_type": "code",
   "execution_count": null,
   "id": "ongoing-sewing",
   "metadata": {},
   "outputs": [],
   "source": [
    "summary(natsal$rsex)"
   ]
  },
  {
   "cell_type": "code",
   "execution_count": null,
   "id": "constant-cookie",
   "metadata": {},
   "outputs": [],
   "source": [
    "summary(natsal$agrp)"
   ]
  },
  {
   "cell_type": "code",
   "execution_count": null,
   "id": "treated-answer",
   "metadata": {},
   "outputs": [],
   "source": [
    "summary(natsal$attconservative)"
   ]
  },
  {
   "cell_type": "markdown",
   "id": "downtown-authority",
   "metadata": {},
   "source": [
    "The `summary()` command produces a range of summary statistics for numeric variables, including the mean, median and some measures of the range of values (e.g., minimum and maximum). Note how we refer to the variables by listing the dataset first (`natsal$rsex`). This is because we may have multiple datasets loaded in to R at one time and there may be variables in different datasets with the same name.\n",
    "\n",
    "As we learned earlier however, some of our variables are categorical and thus are not well described using these summary statistics: for example, what does it mean to say a respondent's average sex is 1.596? We know this is a binary measure of whether somebody is male or female and thus it would be better to know how many respondents fall into each category.\n",
    "\n",
    "In Week 9 we will learn how to select and apply the correct summary statistics."
   ]
  },
  {
   "cell_type": "markdown",
   "id": "posted-impact",
   "metadata": {},
   "source": [
    "**TASK:** Produce a summary of the `ethnicgrpr` (ethnic group) and `dage1ch` (age at having first child) variables. Can you learn anything useful about the values of these variables using the `summary()` command? Consult the codebook if you need help understanding the values of these variables.\n",
    "\n",
    "Use the cell below to insert your code."
   ]
  },
  {
   "cell_type": "code",
   "execution_count": 1,
   "id": "underlying-monitor",
   "metadata": {},
   "outputs": [],
   "source": [
    "# INSERT CODE HERE"
   ]
  },
  {
   "cell_type": "markdown",
   "id": "indian-constitution",
   "metadata": {},
   "source": [
    "## Analysing Data"
   ]
  },
  {
   "cell_type": "markdown",
   "id": "covered-assistant",
   "metadata": {},
   "source": [
    "In Weeks 9-12 we will learn how to conduct a range of insightful, accurate analyses of the *Natsal* dataset. To whet your appetite, here is a mini-analysis of the following research question:\n",
    "\n",
    "<p><center><i>Is a person's attitude towards sex associated with the age at which they have their first child?</i></center></p>"
   ]
  },
  {
   "cell_type": "markdown",
   "id": "interesting-tiffany",
   "metadata": {},
   "source": [
    "### Import the data"
   ]
  },
  {
   "cell_type": "code",
   "execution_count": null,
   "id": "shared-painting",
   "metadata": {},
   "outputs": [],
   "source": [
    "natsal <- read.table(\"./data/natsal_3_teaching_open.tab\", header=TRUE, na=\"NA\", sep=\"\\t\")"
   ]
  },
  {
   "cell_type": "markdown",
   "id": "interracial-belfast",
   "metadata": {},
   "source": [
    "### View the data"
   ]
  },
  {
   "cell_type": "code",
   "execution_count": null,
   "id": "incoming-elite",
   "metadata": {},
   "outputs": [],
   "source": [
    "head(natsal)"
   ]
  },
  {
   "cell_type": "markdown",
   "id": "naval-delivery",
   "metadata": {},
   "source": [
    "### Data cleaning"
   ]
  },
  {
   "cell_type": "markdown",
   "id": "comparative-architecture",
   "metadata": {},
   "source": [
    "As per our research question, we are only interested in respondents who have had at least one child. Therefore we need to drop observations for whom we do not have information on their age at birth of first child. "
   ]
  },
  {
   "cell_type": "code",
   "execution_count": null,
   "id": "suspected-costume",
   "metadata": {},
   "outputs": [],
   "source": [
    "summary(natsal$dage1ch)"
   ]
  },
  {
   "cell_type": "markdown",
   "id": "current-citation",
   "metadata": {},
   "source": [
    "Having consulted the codebook, we know that the value \"-1\" indicates that that this question was not relevant to a respondent, and \"99\" that a respondent did not answer the question even though it was relevant. Therefore let's drop observations where `dage1ch` equals \"-1\" or \"99\"."
   ]
  },
  {
   "cell_type": "code",
   "execution_count": null,
   "id": "neural-sunrise",
   "metadata": {},
   "outputs": [],
   "source": [
    "natsal_analysis <- subset(natsal, dage1ch > -1 & dage1ch < 99)"
   ]
  },
  {
   "cell_type": "code",
   "execution_count": null,
   "id": "greatest-norwegian",
   "metadata": {},
   "outputs": [],
   "source": [
    "nrow(natsal_analysis)"
   ]
  },
  {
   "cell_type": "code",
   "execution_count": null,
   "id": "closed-ecuador",
   "metadata": {},
   "outputs": [],
   "source": [
    "nrow(natsal)"
   ]
  },
  {
   "cell_type": "markdown",
   "id": "unexpected-tutorial",
   "metadata": {},
   "source": [
    "Note how we created a new dataset after we dropped the observations (`natsal_analysis`). It is always good practice to leave the original / raw dataset unaltered.\n",
    "\n",
    "Great, now we can continue with the analysis."
   ]
  },
  {
   "cell_type": "markdown",
   "id": "built-number",
   "metadata": {},
   "source": [
    "### Univariate analysis"
   ]
  },
  {
   "cell_type": "markdown",
   "id": "classified-capacity",
   "metadata": {},
   "source": [
    "Every analysis begins with a summary of individual variables."
   ]
  },
  {
   "cell_type": "code",
   "execution_count": null,
   "id": "essential-software",
   "metadata": {},
   "outputs": [],
   "source": [
    "summary(natsal_analysis$dage1ch)\n",
    "hist(natsal_analysis$dage1ch)"
   ]
  },
  {
   "cell_type": "markdown",
   "id": "ranging-holiday",
   "metadata": {},
   "source": [
    "We see that the average age at birth of first child is 24 years old, and that some respondents have their first child relatively young (15) or old (40), though most are between 18 and 26 according to the histogram."
   ]
  },
  {
   "cell_type": "code",
   "execution_count": null,
   "id": "interested-remove",
   "metadata": {},
   "outputs": [],
   "source": [
    "summary(natsal_analysis$attconservative)\n",
    "hist(natsal_analysis$attconservative)"
   ]
  },
  {
   "cell_type": "markdown",
   "id": "copyrighted-victor",
   "metadata": {},
   "source": [
    "Postive values of this variable indicate conservative attitudes to sex, negative values liberal attitudes. The average respondent is slightly conservative in their attitudes to sex, though most respondents have a score slightly below or above 0."
   ]
  },
  {
   "cell_type": "markdown",
   "id": "aerial-smith",
   "metadata": {},
   "source": [
    "### Bivariate analysis"
   ]
  },
  {
   "cell_type": "markdown",
   "id": "painful-tracker",
   "metadata": {},
   "source": [
    "The next step in our analysis is to see if our two variables are associated or not. That is, does knowing somebody's attitude towards sex help us predict what age they had their first child at? Or vice versa: does knowing the age at which somebody had their first child tell you something about their attitude to sex?\n",
    "\n",
    "We have two numeric (interval) variables, therefore we can calculate the Pearson correlation coefficient (r) to measure the strength and direction of the association. However the first step is to visualise the joint distribution of two variables."
   ]
  },
  {
   "cell_type": "code",
   "execution_count": null,
   "id": "endless-glance",
   "metadata": {},
   "outputs": [],
   "source": [
    "plot(natsal_analysis$attconservative,natsal_analysis$dage1ch)"
   ]
  },
  {
   "cell_type": "markdown",
   "id": "parallel-least",
   "metadata": {},
   "source": [
    "There does not appear to be any association between attitude to sex and age at birth of first child: there is no diagonal pattern in the joint distribution e.g., as sexual attitude becomes more conservative (move along the x / horizontal axis), age at birth of first child does not increase (move up the y / vertical axis).\n",
    "\n",
    "We can confirm this using the Pearson correlation coefficient, which is close to 0 in value:"
   ]
  },
  {
   "cell_type": "code",
   "execution_count": null,
   "id": "professional-fitness",
   "metadata": {},
   "outputs": [],
   "source": [
    "cor(natsal_analysis$attconservative, natsal_analysis$dage1ch, use = \"complete.obs\")"
   ]
  },
  {
   "cell_type": "markdown",
   "id": "soviet-michael",
   "metadata": {},
   "source": [
    "### Multivariate analysis"
   ]
  },
  {
   "cell_type": "markdown",
   "id": "junior-mapping",
   "metadata": {},
   "source": [
    "There may be no apparant association between attitude to sex and age at birth of first child, however is this true for males and females alike? What about different ethnic groups?\n",
    "\n",
    "Multivariate analysis allows us to see if the patterns we find are consistent across values of other variables."
   ]
  },
  {
   "cell_type": "markdown",
   "id": "vietnamese-shooting",
   "metadata": {},
   "source": [
    "### By sex"
   ]
  },
  {
   "cell_type": "code",
   "execution_count": null,
   "id": "altered-class",
   "metadata": {},
   "outputs": [],
   "source": [
    "natsal_males <- subset(natsal_analysis, rsex==1) # create a subset of observations containing only male respondents\n",
    "cor(natsal_males$attconservative, natsal_males$dage1ch, use = \"complete.obs\")"
   ]
  },
  {
   "cell_type": "code",
   "execution_count": null,
   "id": "intellectual-advertiser",
   "metadata": {},
   "outputs": [],
   "source": [
    "natsal_females <- subset(natsal_analysis, rsex==2) # create a subset of observations containing only female respondents\n",
    "cor(natsal_females$attconservative, natsal_females$dage1ch, use = \"complete.obs\")"
   ]
  },
  {
   "cell_type": "markdown",
   "id": "executive-medicaid",
   "metadata": {},
   "source": [
    "The correlation coefficient is effectively the same for males and females, suggesting that the association between attitude to sex and age at birth of first child does not vary by natal sex."
   ]
  },
  {
   "cell_type": "markdown",
   "id": "smaller-carry",
   "metadata": {},
   "source": [
    "### By ethnic group"
   ]
  },
  {
   "cell_type": "code",
   "execution_count": null,
   "id": "introductory-leadership",
   "metadata": {},
   "outputs": [],
   "source": [
    "natsal_white <- subset(natsal_analysis, ethnicgrpr==1) # create a subset of observations containing only white respondents\n",
    "cor(natsal_white$attconservative, natsal_white$dage1ch, use = \"complete.obs\")"
   ]
  },
  {
   "cell_type": "code",
   "execution_count": null,
   "id": "favorite-return",
   "metadata": {},
   "outputs": [],
   "source": [
    "natsal_nonwhite <- subset(natsal_analysis, ethnicgrpr==2) # create a subset of observations containing only non-white respondents\n",
    "cor(natsal_nonwhite$attconservative, natsal_nonwhite$dage1ch, use = \"complete.obs\")"
   ]
  },
  {
   "cell_type": "markdown",
   "id": "identical-complex",
   "metadata": {},
   "source": [
    "The correlation coefficient does vary by ethnic group: though the association remains small, for white respondents there is a negative association, and for non-whites there is a positive association. For non-white respondents, this can be interpreted as follows: more conservative sexual attitudes are correlated with being older when first child is born."
   ]
  },
  {
   "cell_type": "markdown",
   "id": "colored-plate",
   "metadata": {},
   "source": [
    "## Conclusion"
   ]
  }
 ],
 "metadata": {
  "kernelspec": {
   "display_name": "R",
   "language": "R",
   "name": "ir"
  },
  "language_info": {
   "codemirror_mode": "r",
   "file_extension": ".r",
   "mimetype": "text/x-r-source",
   "name": "R",
   "pygments_lexer": "r",
   "version": "4.1.1"
  }
 },
 "nbformat": 4,
 "nbformat_minor": 5
}
