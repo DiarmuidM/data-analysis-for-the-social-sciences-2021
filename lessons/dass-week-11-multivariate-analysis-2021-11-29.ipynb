{
 "cells": [
  {
   "cell_type": "markdown",
   "id": "otherwise-cache",
   "metadata": {},
   "source": [
    "<p align=\"right\"><i>Data Analysis for the Social Sciences - Part II - 2021-11-29</i></p>"
   ]
  },
  {
   "cell_type": "markdown",
   "id": "dynamic-conjunction",
   "metadata": {},
   "source": [
    "# Quantitative Data Analysis"
   ]
  },
  {
   "cell_type": "markdown",
   "id": "exclusive-methodology",
   "metadata": {},
   "source": [
    "Welcome to Part II of Data Analysis for the Social Sciences. In this stream - Quantitative Data Analysis - we will conduct a range of statistical analyses in order to answer the following research question:"
   ]
  },
  {
   "cell_type": "markdown",
   "id": "bibliographic-stranger",
   "metadata": {},
   "source": [
    "<p><center><i>Is religion associated with differences in sexual attitudes and behaviours among British people?</i></center></p>"
   ]
  },
  {
   "cell_type": "markdown",
   "id": "scenic-silly",
   "metadata": {},
   "source": [
    "### Aims\n",
    "\n",
    "This lesson - **Multivariate Data Analysis** - has two aims:\n",
    "1. Demonstrate how to analyse associations when there are three or more variables.\n",
    "2. Cultivate your computational skills through the use of the statistical programming langauge *R*. For example, there are a number of opportunities for you to amend or write R syntax (code)."
   ]
  },
  {
   "cell_type": "markdown",
   "id": "judicial-prediction",
   "metadata": {},
   "source": [
    "### Lesson details\n",
    "\n",
    "* **Level**: Introductory, for individuals with minimal prior knowledge or experience of quantitative data analysis.\n",
    "* **Duration**: 45-60 minutes.\n",
    "* **Pre-requisites**: None.\n",
    "* **Programming language**: R.\n",
    "* **Learning outcomes**:\n",
    "\t1. Understand how to use R for conducting multivariate data analysis.\n",
    "\t2. Understand how to select and apply common data analysis techniques for categorical and numeric variables."
   ]
  },
  {
   "cell_type": "markdown",
   "id": "terminal-agenda",
   "metadata": {},
   "source": [
    "## Guide to using this resource\n",
    "\n",
    "This learning resource was built using <a href=\"https://jupyter.org/\" target=_blank>Jupyter Notebook</a>, an open-source software application that allows you to mix code, results and narrative in a single document. As <a href=\"https://jupyter4edu.github.io/jupyter-edu-book/\" target=_blank>Barba et al. (2019)</a> espouse:\n",
    "> In a world where every subject matter can have a data-supported treatment, where computational devices are omnipresent and pervasive, the union of natural language and computation creates compelling communication and learning opportunities.\n",
    "\n",
    "If you are familiar with Jupyter notebooks then skip ahead to the main content (*Introduction to multivariate data analysis*). Otherwise, the following is a quick guide to navigating and interacting with the notebook."
   ]
  },
  {
   "cell_type": "markdown",
   "id": "interested-radar",
   "metadata": {},
   "source": [
    "### Interaction\n",
    "\n",
    "**You only need to execute the code that is contained in sections which are marked by `In []`.**\n",
    "\n",
    "To execute a cell, click or double-click the cell and press the `Run` button on the top toolbar (you can also use the keyboard shortcut `Shift + Enter`).\n",
    "\n",
    "Try it for yourself:"
   ]
  },
  {
   "cell_type": "code",
   "execution_count": 143,
   "id": "dominican-hardware",
   "metadata": {},
   "outputs": [
    {
     "name": "stdout",
     "output_type": "stream",
     "text": [
      "Enter name: Diarmuid\n",
      "[1] \"Hi, Diarmuid enjoy learning more about R and multivariate analysis!\"\n"
     ]
    }
   ],
   "source": [
    "name <- readline(prompt=\"Enter name: \")\n",
    "print(paste(\"Hi,\", name, \"enjoy learning more about R and multivariate analysis!\"))"
   ]
  },
  {
   "cell_type": "markdown",
   "id": "through-storm",
   "metadata": {},
   "source": [
    "Notebooks are sequential, meaning code should be executed in order (top to bottom). For example, the following code won't work:"
   ]
  },
  {
   "cell_type": "code",
   "execution_count": 144,
   "id": "outstanding-bulgaria",
   "metadata": {},
   "outputs": [
    {
     "ename": "ERROR",
     "evalue": "Error in eval(expr, envir, enclos): object 'x' not found\n",
     "output_type": "error",
     "traceback": [
      "Error in eval(expr, envir, enclos): object 'x' not found\nTraceback:\n"
     ]
    }
   ],
   "source": [
    "x * 5"
   ]
  },
  {
   "cell_type": "markdown",
   "id": "handmade-madagascar",
   "metadata": {},
   "source": [
    "As the error message suggests, there is no object (variable) called `x`, therefore we cannot do any calculations with it. \n",
    "\n",
    "Let's try a sequential approach:"
   ]
  },
  {
   "cell_type": "code",
   "execution_count": 145,
   "id": "addressed-assumption",
   "metadata": {},
   "outputs": [],
   "source": [
    "x <- 10 # create an object called 'x' and give it the value '10'"
   ]
  },
  {
   "cell_type": "code",
   "execution_count": 146,
   "id": "crucial-implement",
   "metadata": {},
   "outputs": [
    {
     "data": {
      "text/html": [
       "50"
      ],
      "text/latex": [
       "50"
      ],
      "text/markdown": [
       "50"
      ],
      "text/plain": [
       "[1] 50"
      ]
     },
     "metadata": {},
     "output_type": "display_data"
    }
   ],
   "source": [
    "x * 5 # multiply 'x' by 5"
   ]
  },
  {
   "cell_type": "markdown",
   "id": "covered-round",
   "metadata": {},
   "source": [
    "### Learn more\n",
    "\n",
    "Jupyter notebooks provide rich, flexible features for conducting and documenting your data analysis workflow. To learn more about additional notebook features, we recommend working through some of the <a href=\"https://github.com/darribas/gds19/blob/master/content/labs/lab_00.ipynb\" target=_blank>materials</a> provided by Dani Arribas-Bel at the University of Liverpool. "
   ]
  },
  {
   "cell_type": "markdown",
   "id": "floppy-escape",
   "metadata": {},
   "source": [
    "### Learner input\n",
    "\n",
    "Throughout the lessons there times when you need to do the following activities:\n",
    "* **TASK:** A coding task for you to complete (e.g. analyse different variables).\n",
    "* **QUESTION:** A question regarding your interpretation of some code or a technique (e.g. what is the piece of code doing?).\n",
    "* **EXERCISE:** A data analysis challenge for you to complete."
   ]
  },
  {
   "cell_type": "markdown",
   "id": "democratic-office",
   "metadata": {},
   "source": [
    "## Introduction to multivariate data analysis"
   ]
  },
  {
   "cell_type": "markdown",
   "id": "respected-comedy",
   "metadata": {},
   "source": [
    "In the [**Bivariate data analysis** lesson](https://github.com/DiarmuidM/data-analysis-for-the-social-sciences-2021/blob/main/lessons/dass-week-10-bivariate-analysis-2021-11-22.ipynb), we learned how to summarise more than one variable at a time, in particular how to assess whether two variables are related. However, quantitative social scientists are fond of saying: it's a multivariate world. That is, there are often many predictors of an outcome, and simply producing lots of bivariate analyses will not capture the complexity and nuance of an outcome. For example, consider the following research question:\n",
    "* [Is there a difference in the earnings of men and women?](https://doi.org/10.1177%2F0095399716636928)\n",
    "\n",
    "We can produce an answer to this question by comparing data on hourly pay for men and women. Say we find a difference in earnings:\n",
    "* Is this the case for all age groups? Or is it really only older men who earn more than older women, and this pattern produces the association between earnings and sex?"
   ]
  },
  {
   "cell_type": "markdown",
   "id": "agricultural-virtue",
   "metadata": {},
   "source": [
    "Thus in this lesson we will focus on making comparisons using three or more variables of interest. This does not involve any new summary statistics or measures of association; instead we repeat our previous techniques but in the context of more variables: e.g., importance of religion across combinations of age group **and** sex."
   ]
  },
  {
   "cell_type": "markdown",
   "id": "conceptual-counter",
   "metadata": {},
   "source": [
    "Specifically, we will cover the following scenarios:\n",
    "1. When you have one numeric variable and two categorical variables.\n",
    "2. When you have two numeric variables and one categorical variable.\n",
    "3. When you have three categorical variables.\n",
    "\n",
    "Let's look at some multivariate techniques of analysis using the *Natsal* data."
   ]
  },
  {
   "cell_type": "markdown",
   "id": "standing-welding",
   "metadata": {},
   "source": [
    "## Multivariate data analysis in action"
   ]
  },
  {
   "cell_type": "markdown",
   "id": "coordinate-jonathan",
   "metadata": {},
   "source": [
    "### Preliminaries"
   ]
  },
  {
   "cell_type": "markdown",
   "id": "square-knife",
   "metadata": {},
   "source": [
    "Let's import the *Natsal* dataset and label the values some of our key variables:"
   ]
  },
  {
   "cell_type": "code",
   "execution_count": 147,
   "id": "agreed-future",
   "metadata": {},
   "outputs": [],
   "source": [
    "natsal <- read.table(\"./data/natsal_3_teaching_open.tab\", header=TRUE, na=\"NA\", sep=\"\\t\")"
   ]
  },
  {
   "cell_type": "code",
   "execution_count": 148,
   "id": "studied-transcript",
   "metadata": {},
   "outputs": [],
   "source": [
    "natsal$agrp <- factor(natsal$agrp, levels = c(1,2,3,4,5,6), labels = c(\"16-24\", \"25-34\", \"35-44\", \n",
    "                                                                       \"45-54\", \"55-64\", \"65-74\"))"
   ]
  },
  {
   "cell_type": "code",
   "execution_count": 149,
   "id": "jewish-apartment",
   "metadata": {},
   "outputs": [],
   "source": [
    "natsal$religimp <- factor(natsal$religimp, levels = c(1,2,3,4,9), labels = c(\"Very important\", \"Fairly important\", \n",
    "                                                                             \"Not very important\", \"Not important at all\", \"Not answered\"))"
   ]
  },
  {
   "cell_type": "code",
   "execution_count": 150,
   "id": "romance-black",
   "metadata": {},
   "outputs": [],
   "source": [
    "natsal$rsex <- factor(natsal$rsex, levels = c(1,2), labels = c(\"Male\", \"Female\"))"
   ]
  },
  {
   "cell_type": "code",
   "execution_count": 151,
   "id": "neural-shark",
   "metadata": {},
   "outputs": [],
   "source": [
    "natsal$ethnicgrp <- factor(natsal$ethnicgrp, levels = c(1,2,9), labels = c(\"White\", \"Non-white\", \"Not answered\"))"
   ]
  },
  {
   "cell_type": "markdown",
   "id": "wired-found",
   "metadata": {},
   "source": [
    "### One Numeric and Two Categorical"
   ]
  },
  {
   "cell_type": "markdown",
   "id": "complicated-ebony",
   "metadata": {},
   "source": [
    "Let's build up to our multivariate analysis by first showing some univariate and bivariate analyses. Recall the `attconservative` variable is a measure of how conservative a person's attitudies to sex are: scores greater than zero are more conservative, less than zero are more liberal."
   ]
  },
  {
   "cell_type": "code",
   "execution_count": 152,
   "id": "equal-shuttle",
   "metadata": {},
   "outputs": [
    {
     "data": {
      "text/plain": [
       "    Min.  1st Qu.   Median     Mean  3rd Qu.     Max.     NA's \n",
       "-3.88938 -0.67900 -0.02177 -0.01728  0.71396  2.59516      299 "
      ]
     },
     "metadata": {},
     "output_type": "display_data"
    }
   ],
   "source": [
    "summary(natsal$attconservative)"
   ]
  },
  {
   "cell_type": "code",
   "execution_count": 153,
   "id": "spiritual-tunisia",
   "metadata": {},
   "outputs": [
    {
     "data": {
      "text/html": [
       "1.00744962869389"
      ],
      "text/latex": [
       "1.00744962869389"
      ],
      "text/markdown": [
       "1.00744962869389"
      ],
      "text/plain": [
       "[1] 1.00745"
      ]
     },
     "metadata": {},
     "output_type": "display_data"
    }
   ],
   "source": [
    "sd(natsal$attconservative, na.rm=TRUE)"
   ]
  },
  {
   "cell_type": "code",
   "execution_count": 154,
   "id": "promotional-horror",
   "metadata": {},
   "outputs": [
    {
     "data": {
      "image/png": "[encoded data removed]",
      "text/plain": [
       "Plot with title \"Histogram of natsal$attconservative\""
      ]
     },
     "metadata": {
      "image/png": {
       "height": 420,
       "width": 420
      }
     },
     "output_type": "display_data"
    }
   ],
   "source": [
    "hist(natsal$attconservative)"
   ]
  },
  {
   "cell_type": "markdown",
   "id": "junior-recognition",
   "metadata": {},
   "source": [
    "We see that the average attitude is slightly liberal (less than zero) and that most people are within 1 point of this average.\n",
    "\n",
    "Now we want to examine whether the average (median) attitude varies by age group or sex."
   ]
  },
  {
   "cell_type": "code",
   "execution_count": 155,
   "id": "convinced-landscape",
   "metadata": {},
   "outputs": [
    {
     "data": {
      "text/html": [
       "<table class=\"dataframe\">\n",
       "<caption>A data.frame: 6 × 2</caption>\n",
       "<thead>\n",
       "\t<tr><th scope=col>agrp</th><th scope=col>attconservative</th></tr>\n",
       "\t<tr><th scope=col>&lt;fct&gt;</th><th scope=col>&lt;dbl&gt;</th></tr>\n",
       "</thead>\n",
       "<tbody>\n",
       "\t<tr><td>16-24</td><td>-0.11479968</td></tr>\n",
       "\t<tr><td>25-34</td><td>-0.12259808</td></tr>\n",
       "\t<tr><td>35-44</td><td>-0.14095068</td></tr>\n",
       "\t<tr><td>45-54</td><td> 0.07900358</td></tr>\n",
       "\t<tr><td>55-64</td><td> 0.27863634</td></tr>\n",
       "\t<tr><td>65-74</td><td> 0.55635821</td></tr>\n",
       "</tbody>\n",
       "</table>\n"
      ],
      "text/latex": [
       "A data.frame: 6 × 2\n",
       "\\begin{tabular}{ll}\n",
       " agrp & attconservative\\\\\n",
       " <fct> & <dbl>\\\\\n",
       "\\hline\n",
       "\t 16-24 & -0.11479968\\\\\n",
       "\t 25-34 & -0.12259808\\\\\n",
       "\t 35-44 & -0.14095068\\\\\n",
       "\t 45-54 &  0.07900358\\\\\n",
       "\t 55-64 &  0.27863634\\\\\n",
       "\t 65-74 &  0.55635821\\\\\n",
       "\\end{tabular}\n"
      ],
      "text/markdown": [
       "\n",
       "A data.frame: 6 × 2\n",
       "\n",
       "| agrp &lt;fct&gt; | attconservative &lt;dbl&gt; |\n",
       "|---|---|\n",
       "| 16-24 | -0.11479968 |\n",
       "| 25-34 | -0.12259808 |\n",
       "| 35-44 | -0.14095068 |\n",
       "| 45-54 |  0.07900358 |\n",
       "| 55-64 |  0.27863634 |\n",
       "| 65-74 |  0.55635821 |\n",
       "\n"
      ],
      "text/plain": [
       "  agrp  attconservative\n",
       "1 16-24 -0.11479968    \n",
       "2 25-34 -0.12259808    \n",
       "3 35-44 -0.14095068    \n",
       "4 45-54  0.07900358    \n",
       "5 55-64  0.27863634    \n",
       "6 65-74  0.55635821    "
      ]
     },
     "metadata": {},
     "output_type": "display_data"
    }
   ],
   "source": [
    "aggregate(attconservative ~ agrp, data = natsal, median)"
   ]
  },
  {
   "cell_type": "markdown",
   "id": "abstract-religious",
   "metadata": {},
   "source": [
    "Perhaps predictably, older respondents are more likely to hold conservative attitudes to sex than younger people, regardless of whether we use the mean or median as our measure of central tendency."
   ]
  },
  {
   "cell_type": "code",
   "execution_count": 156,
   "id": "proprietary-redhead",
   "metadata": {},
   "outputs": [
    {
     "data": {
      "text/html": [
       "<table class=\"dataframe\">\n",
       "<caption>A data.frame: 2 × 2</caption>\n",
       "<thead>\n",
       "\t<tr><th scope=col>rsex</th><th scope=col>attconservative</th></tr>\n",
       "\t<tr><th scope=col>&lt;fct&gt;</th><th scope=col>&lt;dbl&gt;</th></tr>\n",
       "</thead>\n",
       "<tbody>\n",
       "\t<tr><td>Male  </td><td>-0.2523686</td></tr>\n",
       "\t<tr><td>Female</td><td> 0.1585522</td></tr>\n",
       "</tbody>\n",
       "</table>\n"
      ],
      "text/latex": [
       "A data.frame: 2 × 2\n",
       "\\begin{tabular}{ll}\n",
       " rsex & attconservative\\\\\n",
       " <fct> & <dbl>\\\\\n",
       "\\hline\n",
       "\t Male   & -0.2523686\\\\\n",
       "\t Female &  0.1585522\\\\\n",
       "\\end{tabular}\n"
      ],
      "text/markdown": [
       "\n",
       "A data.frame: 2 × 2\n",
       "\n",
       "| rsex &lt;fct&gt; | attconservative &lt;dbl&gt; |\n",
       "|---|---|\n",
       "| Male   | -0.2523686 |\n",
       "| Female |  0.1585522 |\n",
       "\n"
      ],
      "text/plain": [
       "  rsex   attconservative\n",
       "1 Male   -0.2523686     \n",
       "2 Female  0.1585522     "
      ]
     },
     "metadata": {},
     "output_type": "display_data"
    }
   ],
   "source": [
    "aggregate(attconservative ~ rsex, data = natsal, median)"
   ]
  },
  {
   "cell_type": "markdown",
   "id": "convinced-telephone",
   "metadata": {},
   "source": [
    "It appears men are more liberal than women in the attitudes to sex. What might explain this difference? Well perhaps it is something to do with the age of each respondent: that is, perhaps the men who were surveyed are younger than the women, and we know from our previous analysis that younger people are more likely to hold liberal attitudes. \n",
    "\n",
    "We can test whether this is the case by examining whether the average (median) attitude varies by age group **AND** sex."
   ]
  },
  {
   "cell_type": "code",
   "execution_count": 157,
   "id": "equipped-albert",
   "metadata": {},
   "outputs": [
    {
     "data": {
      "text/html": [
       "<table class=\"dataframe\">\n",
       "<caption>A data.frame: 12 × 3</caption>\n",
       "<thead>\n",
       "\t<tr><th scope=col>agrp</th><th scope=col>rsex</th><th scope=col>attconservative</th></tr>\n",
       "\t<tr><th scope=col>&lt;fct&gt;</th><th scope=col>&lt;fct&gt;</th><th scope=col>&lt;dbl&gt;</th></tr>\n",
       "</thead>\n",
       "<tbody>\n",
       "\t<tr><td>16-24</td><td>Male  </td><td>-0.2865724337</td></tr>\n",
       "\t<tr><td>25-34</td><td>Male  </td><td>-0.3207344149</td></tr>\n",
       "\t<tr><td>35-44</td><td>Male  </td><td>-0.4623113268</td></tr>\n",
       "\t<tr><td>45-54</td><td>Male  </td><td>-0.2271477851</td></tr>\n",
       "\t<tr><td>55-64</td><td>Male  </td><td>-0.0975694990</td></tr>\n",
       "\t<tr><td>65-74</td><td>Male  </td><td> 0.1740681972</td></tr>\n",
       "\t<tr><td>16-24</td><td>Female</td><td> 0.0196729342</td></tr>\n",
       "\t<tr><td>25-34</td><td>Female</td><td> 0.0001663143</td></tr>\n",
       "\t<tr><td>35-44</td><td>Female</td><td>-0.0214105373</td></tr>\n",
       "\t<tr><td>45-54</td><td>Female</td><td> 0.2944278772</td></tr>\n",
       "\t<tr><td>55-64</td><td>Female</td><td> 0.5735883882</td></tr>\n",
       "\t<tr><td>65-74</td><td>Female</td><td> 0.7594194211</td></tr>\n",
       "</tbody>\n",
       "</table>\n"
      ],
      "text/latex": [
       "A data.frame: 12 × 3\n",
       "\\begin{tabular}{lll}\n",
       " agrp & rsex & attconservative\\\\\n",
       " <fct> & <fct> & <dbl>\\\\\n",
       "\\hline\n",
       "\t 16-24 & Male   & -0.2865724337\\\\\n",
       "\t 25-34 & Male   & -0.3207344149\\\\\n",
       "\t 35-44 & Male   & -0.4623113268\\\\\n",
       "\t 45-54 & Male   & -0.2271477851\\\\\n",
       "\t 55-64 & Male   & -0.0975694990\\\\\n",
       "\t 65-74 & Male   &  0.1740681972\\\\\n",
       "\t 16-24 & Female &  0.0196729342\\\\\n",
       "\t 25-34 & Female &  0.0001663143\\\\\n",
       "\t 35-44 & Female & -0.0214105373\\\\\n",
       "\t 45-54 & Female &  0.2944278772\\\\\n",
       "\t 55-64 & Female &  0.5735883882\\\\\n",
       "\t 65-74 & Female &  0.7594194211\\\\\n",
       "\\end{tabular}\n"
      ],
      "text/markdown": [
       "\n",
       "A data.frame: 12 × 3\n",
       "\n",
       "| agrp &lt;fct&gt; | rsex &lt;fct&gt; | attconservative &lt;dbl&gt; |\n",
       "|---|---|---|\n",
       "| 16-24 | Male   | -0.2865724337 |\n",
       "| 25-34 | Male   | -0.3207344149 |\n",
       "| 35-44 | Male   | -0.4623113268 |\n",
       "| 45-54 | Male   | -0.2271477851 |\n",
       "| 55-64 | Male   | -0.0975694990 |\n",
       "| 65-74 | Male   |  0.1740681972 |\n",
       "| 16-24 | Female |  0.0196729342 |\n",
       "| 25-34 | Female |  0.0001663143 |\n",
       "| 35-44 | Female | -0.0214105373 |\n",
       "| 45-54 | Female |  0.2944278772 |\n",
       "| 55-64 | Female |  0.5735883882 |\n",
       "| 65-74 | Female |  0.7594194211 |\n",
       "\n"
      ],
      "text/plain": [
       "   agrp  rsex   attconservative\n",
       "1  16-24 Male   -0.2865724337  \n",
       "2  25-34 Male   -0.3207344149  \n",
       "3  35-44 Male   -0.4623113268  \n",
       "4  45-54 Male   -0.2271477851  \n",
       "5  55-64 Male   -0.0975694990  \n",
       "6  65-74 Male    0.1740681972  \n",
       "7  16-24 Female  0.0196729342  \n",
       "8  25-34 Female  0.0001663143  \n",
       "9  35-44 Female -0.0214105373  \n",
       "10 45-54 Female  0.2944278772  \n",
       "11 55-64 Female  0.5735883882  \n",
       "12 65-74 Female  0.7594194211  "
      ]
     },
     "metadata": {},
     "output_type": "display_data"
    }
   ],
   "source": [
    "aggregate(attconservative ~ agrp + rsex, data = natsal, median)"
   ]
  },
  {
   "cell_type": "markdown",
   "id": "classical-maria",
   "metadata": {},
   "source": [
    "The above summary table allows us to compare differences between men and women of the same age group. For example, men aged 65-74 are less conservative (.17) than women aged 65-74 (.76). This is true for all age groups. \n",
    "\n",
    "This suggests that the difference between men and women is present even when we take into account (control for) age group.\n",
    "\n",
    "We can examine whether the association between a respondent's sex and their attitude is weaker or stronger across age groups. For example, looking at the summary table it appears that the difference between men and women is particularly stark in the 55-64 age group: men are slightly liberal, women quite conservative. "
   ]
  },
  {
   "cell_type": "markdown",
   "id": "greater-tactics",
   "metadata": {},
   "source": [
    "Recall that the appropriate measure of association when you have one categorical and one numeric variable is:\n",
    "* *Eta squared*\n",
    "\n",
    "This tells us the strength of the association but not the direction (we need to infer this from the summary tables above). *Eta squared* coefficient ranges from 0 to 1, with higher values representing stronger associations."
   ]
  },
  {
   "cell_type": "markdown",
   "id": "banned-austria",
   "metadata": {},
   "source": [
    "First let's create separate datasets for each age group (I know, sorry, *R* is a lot of work in this regard):"
   ]
  },
  {
   "cell_type": "code",
   "execution_count": 158,
   "id": "clinical-hanging",
   "metadata": {},
   "outputs": [],
   "source": [
    "natsal_16_24 <- natsal[natsal$agrp==\"16-24\",]\n",
    "natsal_25_34 <- natsal[natsal$agrp==\"25-34\",]\n",
    "natsal_35_44 <- natsal[natsal$agrp==\"35-44\",]\n",
    "natsal_45_54 <- natsal[natsal$agrp==\"45-54\",]\n",
    "natsal_55_64 <- natsal[natsal$agrp==\"55-64\",]\n",
    "natsal_65_74 <- natsal[natsal$agrp==\"65-74\",]"
   ]
  },
  {
   "cell_type": "markdown",
   "id": "brilliant-genealogy",
   "metadata": {},
   "source": [
    "And now let's calculate our measure of association for each age group."
   ]
  },
  {
   "cell_type": "code",
   "execution_count": 159,
   "id": "molecular-current",
   "metadata": {},
   "outputs": [],
   "source": [
    "library(lsr) # import the package containing the `etaSquared()` command"
   ]
  },
  {
   "cell_type": "code",
   "execution_count": 160,
   "id": "successful-jordan",
   "metadata": {},
   "outputs": [
    {
     "data": {
      "text/html": [
       "<table class=\"dataframe\">\n",
       "<caption>A matrix: 1 × 2 of type dbl</caption>\n",
       "<thead>\n",
       "\t<tr><th></th><th scope=col>eta.sq</th><th scope=col>eta.sq.part</th></tr>\n",
       "</thead>\n",
       "<tbody>\n",
       "\t<tr><th scope=row>rsex</th><td>0.03901481</td><td>0.03901481</td></tr>\n",
       "</tbody>\n",
       "</table>\n"
      ],
      "text/latex": [
       "A matrix: 1 × 2 of type dbl\n",
       "\\begin{tabular}{r|ll}\n",
       "  & eta.sq & eta.sq.part\\\\\n",
       "\\hline\n",
       "\trsex & 0.03901481 & 0.03901481\\\\\n",
       "\\end{tabular}\n"
      ],
      "text/markdown": [
       "\n",
       "A matrix: 1 × 2 of type dbl\n",
       "\n",
       "| <!--/--> | eta.sq | eta.sq.part |\n",
       "|---|---|---|\n",
       "| rsex | 0.03901481 | 0.03901481 |\n",
       "\n"
      ],
      "text/plain": [
       "     eta.sq     eta.sq.part\n",
       "rsex 0.03901481 0.03901481 "
      ]
     },
     "metadata": {},
     "output_type": "display_data"
    }
   ],
   "source": [
    "model <- aov(attconservative ~ rsex, data = natsal_16_24)\n",
    "etaSquared(model)"
   ]
  },
  {
   "cell_type": "code",
   "execution_count": 161,
   "id": "dutch-emergency",
   "metadata": {},
   "outputs": [
    {
     "data": {
      "text/html": [
       "<table class=\"dataframe\">\n",
       "<caption>A matrix: 1 × 2 of type dbl</caption>\n",
       "<thead>\n",
       "\t<tr><th></th><th scope=col>eta.sq</th><th scope=col>eta.sq.part</th></tr>\n",
       "</thead>\n",
       "<tbody>\n",
       "\t<tr><th scope=row>rsex</th><td>0.02869909</td><td>0.02869909</td></tr>\n",
       "</tbody>\n",
       "</table>\n"
      ],
      "text/latex": [
       "A matrix: 1 × 2 of type dbl\n",
       "\\begin{tabular}{r|ll}\n",
       "  & eta.sq & eta.sq.part\\\\\n",
       "\\hline\n",
       "\trsex & 0.02869909 & 0.02869909\\\\\n",
       "\\end{tabular}\n"
      ],
      "text/markdown": [
       "\n",
       "A matrix: 1 × 2 of type dbl\n",
       "\n",
       "| <!--/--> | eta.sq | eta.sq.part |\n",
       "|---|---|---|\n",
       "| rsex | 0.02869909 | 0.02869909 |\n",
       "\n"
      ],
      "text/plain": [
       "     eta.sq     eta.sq.part\n",
       "rsex 0.02869909 0.02869909 "
      ]
     },
     "metadata": {},
     "output_type": "display_data"
    }
   ],
   "source": [
    "model <- aov(attconservative ~ rsex, data = natsal_25_34)\n",
    "etaSquared(model)"
   ]
  },
  {
   "cell_type": "code",
   "execution_count": 162,
   "id": "continent-hierarchy",
   "metadata": {},
   "outputs": [
    {
     "data": {
      "text/html": [
       "<table class=\"dataframe\">\n",
       "<caption>A matrix: 1 × 2 of type dbl</caption>\n",
       "<thead>\n",
       "\t<tr><th></th><th scope=col>eta.sq</th><th scope=col>eta.sq.part</th></tr>\n",
       "</thead>\n",
       "<tbody>\n",
       "\t<tr><th scope=row>rsex</th><td>0.04920556</td><td>0.04920556</td></tr>\n",
       "</tbody>\n",
       "</table>\n"
      ],
      "text/latex": [
       "A matrix: 1 × 2 of type dbl\n",
       "\\begin{tabular}{r|ll}\n",
       "  & eta.sq & eta.sq.part\\\\\n",
       "\\hline\n",
       "\trsex & 0.04920556 & 0.04920556\\\\\n",
       "\\end{tabular}\n"
      ],
      "text/markdown": [
       "\n",
       "A matrix: 1 × 2 of type dbl\n",
       "\n",
       "| <!--/--> | eta.sq | eta.sq.part |\n",
       "|---|---|---|\n",
       "| rsex | 0.04920556 | 0.04920556 |\n",
       "\n"
      ],
      "text/plain": [
       "     eta.sq     eta.sq.part\n",
       "rsex 0.04920556 0.04920556 "
      ]
     },
     "metadata": {},
     "output_type": "display_data"
    }
   ],
   "source": [
    "model <- aov(attconservative ~ rsex, data = natsal_35_44)\n",
    "etaSquared(model)"
   ]
  },
  {
   "cell_type": "code",
   "execution_count": 163,
   "id": "stupid-supervision",
   "metadata": {},
   "outputs": [
    {
     "data": {
      "text/html": [
       "<table class=\"dataframe\">\n",
       "<caption>A matrix: 1 × 2 of type dbl</caption>\n",
       "<thead>\n",
       "\t<tr><th></th><th scope=col>eta.sq</th><th scope=col>eta.sq.part</th></tr>\n",
       "</thead>\n",
       "<tbody>\n",
       "\t<tr><th scope=row>rsex</th><td>0.04782748</td><td>0.04782748</td></tr>\n",
       "</tbody>\n",
       "</table>\n"
      ],
      "text/latex": [
       "A matrix: 1 × 2 of type dbl\n",
       "\\begin{tabular}{r|ll}\n",
       "  & eta.sq & eta.sq.part\\\\\n",
       "\\hline\n",
       "\trsex & 0.04782748 & 0.04782748\\\\\n",
       "\\end{tabular}\n"
      ],
      "text/markdown": [
       "\n",
       "A matrix: 1 × 2 of type dbl\n",
       "\n",
       "| <!--/--> | eta.sq | eta.sq.part |\n",
       "|---|---|---|\n",
       "| rsex | 0.04782748 | 0.04782748 |\n",
       "\n"
      ],
      "text/plain": [
       "     eta.sq     eta.sq.part\n",
       "rsex 0.04782748 0.04782748 "
      ]
     },
     "metadata": {},
     "output_type": "display_data"
    }
   ],
   "source": [
    "model <- aov(attconservative ~ rsex, data = natsal_45_54)\n",
    "etaSquared(model)"
   ]
  },
  {
   "cell_type": "code",
   "execution_count": 164,
   "id": "superior-trustee",
   "metadata": {},
   "outputs": [
    {
     "data": {
      "text/html": [
       "<table class=\"dataframe\">\n",
       "<caption>A matrix: 1 × 2 of type dbl</caption>\n",
       "<thead>\n",
       "\t<tr><th></th><th scope=col>eta.sq</th><th scope=col>eta.sq.part</th></tr>\n",
       "</thead>\n",
       "<tbody>\n",
       "\t<tr><th scope=row>rsex</th><td>0.1004887</td><td>0.1004887</td></tr>\n",
       "</tbody>\n",
       "</table>\n"
      ],
      "text/latex": [
       "A matrix: 1 × 2 of type dbl\n",
       "\\begin{tabular}{r|ll}\n",
       "  & eta.sq & eta.sq.part\\\\\n",
       "\\hline\n",
       "\trsex & 0.1004887 & 0.1004887\\\\\n",
       "\\end{tabular}\n"
      ],
      "text/markdown": [
       "\n",
       "A matrix: 1 × 2 of type dbl\n",
       "\n",
       "| <!--/--> | eta.sq | eta.sq.part |\n",
       "|---|---|---|\n",
       "| rsex | 0.1004887 | 0.1004887 |\n",
       "\n"
      ],
      "text/plain": [
       "     eta.sq    eta.sq.part\n",
       "rsex 0.1004887 0.1004887  "
      ]
     },
     "metadata": {},
     "output_type": "display_data"
    }
   ],
   "source": [
    "model <- aov(attconservative ~ rsex, data = natsal_55_64)\n",
    "etaSquared(model)"
   ]
  },
  {
   "cell_type": "code",
   "execution_count": 165,
   "id": "pleasant-spring",
   "metadata": {},
   "outputs": [
    {
     "data": {
      "text/html": [
       "<table class=\"dataframe\">\n",
       "<caption>A matrix: 1 × 2 of type dbl</caption>\n",
       "<thead>\n",
       "\t<tr><th></th><th scope=col>eta.sq</th><th scope=col>eta.sq.part</th></tr>\n",
       "</thead>\n",
       "<tbody>\n",
       "\t<tr><th scope=row>rsex</th><td>0.0693227</td><td>0.0693227</td></tr>\n",
       "</tbody>\n",
       "</table>\n"
      ],
      "text/latex": [
       "A matrix: 1 × 2 of type dbl\n",
       "\\begin{tabular}{r|ll}\n",
       "  & eta.sq & eta.sq.part\\\\\n",
       "\\hline\n",
       "\trsex & 0.0693227 & 0.0693227\\\\\n",
       "\\end{tabular}\n"
      ],
      "text/markdown": [
       "\n",
       "A matrix: 1 × 2 of type dbl\n",
       "\n",
       "| <!--/--> | eta.sq | eta.sq.part |\n",
       "|---|---|---|\n",
       "| rsex | 0.0693227 | 0.0693227 |\n",
       "\n"
      ],
      "text/plain": [
       "     eta.sq    eta.sq.part\n",
       "rsex 0.0693227 0.0693227  "
      ]
     },
     "metadata": {},
     "output_type": "display_data"
    }
   ],
   "source": [
    "model <- aov(attconservative ~ rsex, data = natsal_65_74)\n",
    "etaSquared(model)"
   ]
  },
  {
   "cell_type": "markdown",
   "id": "vietnamese-tongue",
   "metadata": {},
   "source": [
    "Just as we suspected: the association is strongest in the 55-64 age group."
   ]
  },
  {
   "cell_type": "markdown",
   "id": "harmful-visibility",
   "metadata": {},
   "source": [
    "**TASK**: conduct a multivariate analysis of attitude to sex (`attconservative`), respondent's sex (`rsex`) and respondent's ethnicity (`ethnicgrp`)."
   ]
  },
  {
   "cell_type": "markdown",
   "id": "breathing-france",
   "metadata": {},
   "source": [
    "### Two Numeric and One Categorical"
   ]
  },
  {
   "cell_type": "markdown",
   "id": "reliable-lemon",
   "metadata": {},
   "source": [
    "For this section we are going to return to our dataset with median ages of countries around the world and pose the question:\n",
    "* *Is the median age increasing over time?* AND\n",
    "* *If so, is this happening across every continent?*"
   ]
  },
  {
   "cell_type": "markdown",
   "id": "boolean-dialogue",
   "metadata": {},
   "source": [
    "First we import the data and keep observations for continents:"
   ]
  },
  {
   "cell_type": "code",
   "execution_count": 166,
   "id": "addressed-creek",
   "metadata": {},
   "outputs": [
    {
     "data": {
      "text/html": [
       "<table class=\"dataframe\">\n",
       "<caption>A data.frame: 6 × 4</caption>\n",
       "<thead>\n",
       "\t<tr><th></th><th scope=col>Entity</th><th scope=col>Code</th><th scope=col>Year</th><th scope=col>Age</th></tr>\n",
       "\t<tr><th></th><th scope=col>&lt;chr&gt;</th><th scope=col>&lt;chr&gt;</th><th scope=col>&lt;int&gt;</th><th scope=col>&lt;dbl&gt;</th></tr>\n",
       "</thead>\n",
       "<tbody>\n",
       "\t<tr><th scope=row>32</th><td>Africa</td><td></td><td>1950</td><td>19.3</td></tr>\n",
       "\t<tr><th scope=row>33</th><td>Africa</td><td></td><td>1955</td><td>19.0</td></tr>\n",
       "\t<tr><th scope=row>34</th><td>Africa</td><td></td><td>1960</td><td>18.6</td></tr>\n",
       "\t<tr><th scope=row>35</th><td>Africa</td><td></td><td>1965</td><td>18.1</td></tr>\n",
       "\t<tr><th scope=row>36</th><td>Africa</td><td></td><td>1970</td><td>17.8</td></tr>\n",
       "\t<tr><th scope=row>37</th><td>Africa</td><td></td><td>1975</td><td>17.6</td></tr>\n",
       "</tbody>\n",
       "</table>\n"
      ],
      "text/latex": [
       "A data.frame: 6 × 4\n",
       "\\begin{tabular}{r|llll}\n",
       "  & Entity & Code & Year & Age\\\\\n",
       "  & <chr> & <chr> & <int> & <dbl>\\\\\n",
       "\\hline\n",
       "\t32 & Africa &  & 1950 & 19.3\\\\\n",
       "\t33 & Africa &  & 1955 & 19.0\\\\\n",
       "\t34 & Africa &  & 1960 & 18.6\\\\\n",
       "\t35 & Africa &  & 1965 & 18.1\\\\\n",
       "\t36 & Africa &  & 1970 & 17.8\\\\\n",
       "\t37 & Africa &  & 1975 & 17.6\\\\\n",
       "\\end{tabular}\n"
      ],
      "text/markdown": [
       "\n",
       "A data.frame: 6 × 4\n",
       "\n",
       "| <!--/--> | Entity &lt;chr&gt; | Code &lt;chr&gt; | Year &lt;int&gt; | Age &lt;dbl&gt; |\n",
       "|---|---|---|---|---|\n",
       "| 32 | Africa | <!----> | 1950 | 19.3 |\n",
       "| 33 | Africa | <!----> | 1955 | 19.0 |\n",
       "| 34 | Africa | <!----> | 1960 | 18.6 |\n",
       "| 35 | Africa | <!----> | 1965 | 18.1 |\n",
       "| 36 | Africa | <!----> | 1970 | 17.8 |\n",
       "| 37 | Africa | <!----> | 1975 | 17.6 |\n",
       "\n"
      ],
      "text/plain": [
       "   Entity Code Year Age \n",
       "32 Africa      1950 19.3\n",
       "33 Africa      1955 19.0\n",
       "34 Africa      1960 18.6\n",
       "35 Africa      1965 18.1\n",
       "36 Africa      1970 17.8\n",
       "37 Africa      1975 17.6"
      ]
     },
     "metadata": {},
     "output_type": "display_data"
    }
   ],
   "source": [
    "country_ages <- read.csv(\"./data/median-age-our-world-in-data.csv\", header=TRUE, na=\"NA\")\n",
    "continent_ages <- country_ages[country_ages$Entity==\"Africa\" | country_ages$Entity==\"Asia\" | \n",
    "                                        country_ages$Entity==\"Europe\" | country_ages$Entity==\"Northern America\" |\n",
    "                                        country_ages$Entity==\"Oceania\" | country_ages$Entity==\"South America\",]\n",
    "head(continent_ages)"
   ]
  },
  {
   "cell_type": "code",
   "execution_count": 167,
   "id": "absent-characterization",
   "metadata": {},
   "outputs": [
    {
     "data": {
      "image/png": "[encoded data removed]",
      "text/plain": [
       "Plot with title \"Histogram of continent_ages$Age\""
      ]
     },
     "metadata": {
      "image/png": {
       "height": 420,
       "width": 420
      }
     },
     "output_type": "display_data"
    }
   ],
   "source": [
    "hist(continent_ages$Age)"
   ]
  },
  {
   "cell_type": "markdown",
   "id": "existing-wildlife",
   "metadata": {},
   "source": [
    "While it is possible to display two histograms on the same graph, a better way of displaying the joint distribution of two numeric variables is to use a **scatterplot**:"
   ]
  },
  {
   "cell_type": "code",
   "execution_count": 168,
   "id": "environmental-powell",
   "metadata": {},
   "outputs": [
    {
     "data": {
      "image/png": "[encoded data removed]",
      "text/plain": [
       "plot without title"
      ]
     },
     "metadata": {
      "image/png": {
       "height": 420,
       "width": 420
      }
     },
     "output_type": "display_data"
    }
   ],
   "source": [
    "plot(continent_ages$Year, continent_ages$Age) # X variable (axis) is listed first, Y variable (axis) second"
   ]
  },
  {
   "cell_type": "markdown",
   "id": "tracked-clinton",
   "metadata": {},
   "source": [
    "There is a clear temporal trend: median age has increased since the 1970s (with the exception of one continent) and is projected to continue doing so until 2100."
   ]
  },
  {
   "cell_type": "markdown",
   "id": "young-torture",
   "metadata": {},
   "source": [
    "Does the joint distribution of median age and year vary across continents? The above graph suggests it does: there are six 'lines' on the graph, one for each continent, even though we just asked *R* to plot two variables. \n",
    "\n",
    "Let's be explicit and tell *R* to plot the joint distribution of median age and year for each continent:"
   ]
  },
  {
   "cell_type": "code",
   "execution_count": 169,
   "id": "detailed-patrol",
   "metadata": {},
   "outputs": [],
   "source": [
    "library(ggplot2) # specific R package for visualising data"
   ]
  },
  {
   "cell_type": "code",
   "execution_count": 170,
   "id": "published-bandwidth",
   "metadata": {},
   "outputs": [],
   "source": [
    "# Define the data and variables to be plotted\n",
    "p <- ggplot(data = continent_ages, mapping = aes(x = Year, y = Age))"
   ]
  },
  {
   "cell_type": "code",
   "execution_count": 171,
   "id": "revised-flower",
   "metadata": {},
   "outputs": [
    {
     "data": {
      "image/png": "[encoded data removed]",
      "text/plain": [
       "plot without title"
      ]
     },
     "metadata": {
      "image/png": {
       "height": 420,
       "width": 420
      }
     },
     "output_type": "display_data"
    }
   ],
   "source": [
    "p + geom_line() + facet_wrap(~ Entity) +\n",
    "    labs(x = \"Year\", y = \"Median Age\", title = \"Median Age on Six Continents\")"
   ]
  },
  {
   "cell_type": "markdown",
   "id": "focal-glucose",
   "metadata": {},
   "source": [
    "Let's unpack the patterns we observe:\n",
    "* Median age is lowest in Africa, both at the start and end of the period.\n",
    "* All continents are following the same trajectory, though Europe did not seem to experience the short-lived dip in median age that occurred in the 1970s (perhaps linked to the Vietnam war?)."
   ]
  },
  {
   "cell_type": "markdown",
   "id": "essential-oliver",
   "metadata": {},
   "source": [
    "Recall that the appropriate measure of association for two numeric variables is:\n",
    "* *Pearson's correlation coefficient (r)*\n",
    "\n",
    "Similar to other measures of association, it tells us the strength and direction of the association between two variables. The coefficient ranges between -1 and 1, with negative values representing negative associations, and positive values positive associations. Values closer to -1 or 1 indicate stronger associations than those closer to 0."
   ]
  },
  {
   "cell_type": "code",
   "execution_count": 172,
   "id": "infinite-attack",
   "metadata": {},
   "outputs": [
    {
     "data": {
      "text/html": [
       "0.759110809357887"
      ],
      "text/latex": [
       "0.759110809357887"
      ],
      "text/markdown": [
       "0.759110809357887"
      ],
      "text/plain": [
       "[1] 0.7591108"
      ]
     },
     "metadata": {},
     "output_type": "display_data"
    }
   ],
   "source": [
    "cor(continent_ages$Year, continent_ages$Age, use = \"complete.obs\")"
   ]
  },
  {
   "cell_type": "markdown",
   "id": "going-thursday",
   "metadata": {},
   "source": [
    "No surprise there: the correlation coefficient indicates a strong, positive association between time and median age.\n",
    "\n",
    "Now let's see if the association is stronger in some continents than others. From looking at the above graph, it appears that the association is weakest in Africa and strongest in Asia."
   ]
  },
  {
   "cell_type": "code",
   "execution_count": 173,
   "id": "sweet-vitamin",
   "metadata": {},
   "outputs": [],
   "source": [
    "continent_ages_asia <- subset(continent_ages, Entity==\"Asia\")\n",
    "continent_ages_africa <- subset(continent_ages, Entity==\"Africa\")\n",
    "continent_ages_europe <- subset(continent_ages, Entity==\"Europe\")\n",
    "continent_ages_namerica <- subset(continent_ages, Entity==\"Northern America\")\n",
    "continent_ages_samerica <- subset(continent_ages, Entity==\"South America\")\n",
    "continent_ages_oceania <- subset(continent_ages, Entity==\"Oceania\")"
   ]
  },
  {
   "cell_type": "code",
   "execution_count": 174,
   "id": "artificial-newton",
   "metadata": {},
   "outputs": [
    {
     "data": {
      "text/html": [
       "0.980595260897399"
      ],
      "text/latex": [
       "0.980595260897399"
      ],
      "text/markdown": [
       "0.980595260897399"
      ],
      "text/plain": [
       "[1] 0.9805953"
      ]
     },
     "metadata": {},
     "output_type": "display_data"
    },
    {
     "data": {
      "text/html": [
       "0.922546544008386"
      ],
      "text/latex": [
       "0.922546544008386"
      ],
      "text/markdown": [
       "0.922546544008386"
      ],
      "text/plain": [
       "[1] 0.9225465"
      ]
     },
     "metadata": {},
     "output_type": "display_data"
    },
    {
     "data": {
      "text/html": [
       "0.94301216923117"
      ],
      "text/latex": [
       "0.94301216923117"
      ],
      "text/markdown": [
       "0.94301216923117"
      ],
      "text/plain": [
       "[1] 0.9430122"
      ]
     },
     "metadata": {},
     "output_type": "display_data"
    },
    {
     "data": {
      "text/html": [
       "0.971327077987257"
      ],
      "text/latex": [
       "0.971327077987257"
      ],
      "text/markdown": [
       "0.971327077987257"
      ],
      "text/plain": [
       "[1] 0.9713271"
      ]
     },
     "metadata": {},
     "output_type": "display_data"
    },
    {
     "data": {
      "text/html": [
       "0.982866106959294"
      ],
      "text/latex": [
       "0.982866106959294"
      ],
      "text/markdown": [
       "0.982866106959294"
      ],
      "text/plain": [
       "[1] 0.9828661"
      ]
     },
     "metadata": {},
     "output_type": "display_data"
    },
    {
     "data": {
      "text/html": [
       "0.983123739252978"
      ],
      "text/latex": [
       "0.983123739252978"
      ],
      "text/markdown": [
       "0.983123739252978"
      ],
      "text/plain": [
       "[1] 0.9831237"
      ]
     },
     "metadata": {},
     "output_type": "display_data"
    }
   ],
   "source": [
    "cor(continent_ages_asia$Year, continent_ages_asia$Age, use = \"complete.obs\")\n",
    "cor(continent_ages_africa$Year, continent_ages_africa$Age, use = \"complete.obs\")\n",
    "cor(continent_ages_europe$Year, continent_ages_europe$Age, use = \"complete.obs\")\n",
    "cor(continent_ages_namerica$Year, continent_ages_namerica$Age, use = \"complete.obs\")\n",
    "cor(continent_ages_samerica$Year, continent_ages_samerica$Age, use = \"complete.obs\")\n",
    "cor(continent_ages_oceania$Year, continent_ages_oceania$Age, use = \"complete.obs\")"
   ]
  },
  {
   "cell_type": "markdown",
   "id": "advanced-pioneer",
   "metadata": {},
   "source": [
    "The association is weakest for Africa and strongest for Oceania, however there is very little variation in this association across continents."
   ]
  },
  {
   "cell_type": "markdown",
   "id": "controversial-teach",
   "metadata": {},
   "source": [
    "### Three Categorical"
   ]
  },
  {
   "cell_type": "markdown",
   "id": "thirty-version",
   "metadata": {},
   "source": [
    "Finally, we consider situations where we have three categorical variables. In this instance it is best to think of one of these variables as your outcome, and the other two as potential predictors / explanatory factors. This will aid your interpretation of the tables and graphs that we will produce.\n",
    "\n",
    "Let's start with our measure of religious importance (`religimp`) and consider whether the distribution of this variable varies across two other categorical variables: age group (`agrp`) and respondent's sex (`rsex`). "
   ]
  },
  {
   "cell_type": "code",
   "execution_count": 175,
   "id": "varying-poultry",
   "metadata": {},
   "outputs": [
    {
     "data": {
      "text/plain": [
       "\n",
       "      Very important     Fairly important   Not very important \n",
       "                 550                  935                 1102 \n",
       "Not important at all         Not answered \n",
       "                1194                   18 "
      ]
     },
     "metadata": {},
     "output_type": "display_data"
    }
   ],
   "source": [
    "table(natsal$religimp)"
   ]
  },
  {
   "cell_type": "markdown",
   "id": "focused-waste",
   "metadata": {},
   "source": [
    "(You might need to re-import the *Natsal* dataset at this point - go back to the **Preliminaries** section and execute the code before returning here)"
   ]
  },
  {
   "cell_type": "markdown",
   "id": "patient-halloween",
   "metadata": {},
   "source": [
    "We can analyse the joint distribution with age group or sex as follows:"
   ]
  },
  {
   "cell_type": "code",
   "execution_count": 176,
   "id": "stopped-astronomy",
   "metadata": {},
   "outputs": [
    {
     "data": {
      "text/plain": [
       "                      \n",
       "                       16-24 25-34 35-44 45-54 55-64 65-74\n",
       "  Very important          10    15    14    16    19    19\n",
       "  Fairly important        19    22    22    27    29    41\n",
       "  Not very important      33    29    29    27    28    22\n",
       "  Not important at all    38    33    35    29    23    17\n",
       "  Not answered             0     1     0     1     0     1"
      ]
     },
     "metadata": {},
     "output_type": "display_data"
    }
   ],
   "source": [
    "relig_age_table <- table(natsal$religimp, natsal$agrp)\n",
    "round(prop.table(relig_age_table, 2)* 100, 0) # column percentages"
   ]
  },
  {
   "cell_type": "code",
   "execution_count": 177,
   "id": "hairy-intent",
   "metadata": {},
   "outputs": [
    {
     "data": {
      "text/plain": [
       "                      \n",
       "                       Male Female\n",
       "  Very important         12     16\n",
       "  Fairly important       22     26\n",
       "  Not very important     28     29\n",
       "  Not important at all   37     28\n",
       "  Not answered            1      0"
      ]
     },
     "metadata": {},
     "output_type": "display_data"
    }
   ],
   "source": [
    "relig_sex_table <- table(natsal$religimp, natsal$rsex)\n",
    "round(prop.table(relig_sex_table, 2)* 100, 0) # column percentages"
   ]
  },
  {
   "cell_type": "markdown",
   "id": "respective-yacht",
   "metadata": {},
   "source": [
    "It is quite simple to add an extra categorical variable to a crosstabulation; again most of the work in *R* is focused on presenting the table in a readable manner.\n",
    "\n",
    "To help us when interpreting the table, we will define our analysis as follows:\n",
    "* Is there an association between importance of religion and respondent's sex?\n",
    "* Does this association vary across age groups?"
   ]
  },
  {
   "cell_type": "code",
   "execution_count": 178,
   "id": "crude-update",
   "metadata": {},
   "outputs": [
    {
     "data": {
      "text/plain": [
       "              Very important Fairly important Not very important Not important at all Not answered Sum\n",
       "                                                                                                      \n",
       "16-24 Male                 9               19                 32                   41            0 100\n",
       "      Female              11               20                 33                   36            0 100\n",
       "25-34 Male                12               20                 28                   39            0 100\n",
       "      Female              17               23                 29                   30            1 100\n",
       "35-44 Male                10               18                 28                   44            1 100\n",
       "      Female              16               25                 30                   29            0 100\n",
       "45-54 Male                13               25                 26                   35            1 100\n",
       "      Female              18               29                 28                   24            1 100\n",
       "55-64 Male                14               28                 26                   31            1 100\n",
       "      Female              22               30                 30                   18            0 100\n",
       "65-74 Male                18               33                 24                   24            2 100\n",
       "      Female              20               46                 21                   12            0 100"
      ]
     },
     "metadata": {},
     "output_type": "display_data"
    }
   ],
   "source": [
    "ras_table <- table(natsal$agrp, natsal$rsex, natsal$religimp) # create crosstabulation - variable 1 is the control variable,\n",
    "# variable 2 is the X (predictor) variable, variable 3 is the Y (outcome) variable.\n",
    "\n",
    "ras_prop_table <- addmargins(prop.table(ras_table, c(1,2)), 3) # calculate proportions\n",
    "\n",
    "ras_perc_table <- round(ftable(ras_prop_table) * 100, 0) # convert proportions to percentages\n",
    "\n",
    "ras_perc_table # display table"
   ]
  },
  {
   "cell_type": "markdown",
   "id": "floppy-premiere",
   "metadata": {},
   "source": [
    "Let's unpack the above table:\n",
    "* Each row represents a combination of age and sex e.g., 16-24 year old females.\n",
    "* Each column represents a category of the `religimp` variable, including a final column capturing the sum of the percentages in the table.\n",
    "* The numbers represent the percentage of respondents who fall into each category of the `religimp` variable, for a given combination of age and sex.\n",
    "\n",
    "Therefore we need to compare percentages over the rows of the table. For example, we observe that 46% of females in the 65-74 age group claim religion is 'Fairly important', compared to 33% of males in the same age group.\n",
    "\n",
    "We can compare any rows we wish, as long as it is substantively interesting of course: only 20% of females in the 16-25, compared to 46% of females in the 65-74 age group - a difference of 26 percentage points. The difference is smaller for males of the same age groups (14 percentage points)."
   ]
  },
  {
   "cell_type": "markdown",
   "id": "sorted-father",
   "metadata": {},
   "source": [
    "Three-way crosstabulations are tricky to interpret, so be patient and careful when drawing conclusions from them."
   ]
  },
  {
   "cell_type": "markdown",
   "id": "spatial-front",
   "metadata": {},
   "source": [
    "**TASK**: Replace `agrp` with `ethnicgrp` in the above crosstabulation."
   ]
  },
  {
   "cell_type": "code",
   "execution_count": 179,
   "id": "collected-radical",
   "metadata": {},
   "outputs": [],
   "source": [
    "# INSERT CODE HERE"
   ]
  },
  {
   "cell_type": "markdown",
   "id": "colored-plate",
   "metadata": {},
   "source": [
    "## Conclusion"
   ]
  },
  {
   "cell_type": "markdown",
   "id": "southeast-giving",
   "metadata": {},
   "source": [
    "In this lesson we encountered a range of techniques for summarising more than three or more variables at a time.\n",
    "\n",
    "There is another Week 11 lesson that focuses on a range of techniques for expressing the uncertainty inherent in our quantitative analyses.\n",
    "\n",
    "In Week 12, we bring all over our learning together to write a report based on a piece of quantitative data analysis."
   ]
  }
 ],
 "metadata": {
  "kernelspec": {
   "display_name": "R",
   "language": "R",
   "name": "ir"
  },
  "language_info": {
   "codemirror_mode": "r",
   "file_extension": ".r",
   "mimetype": "text/x-r-source",
   "name": "R",
   "pygments_lexer": "r",
   "version": "4.1.1"
  }
 },
 "nbformat": 4,
 "nbformat_minor": 5
}
